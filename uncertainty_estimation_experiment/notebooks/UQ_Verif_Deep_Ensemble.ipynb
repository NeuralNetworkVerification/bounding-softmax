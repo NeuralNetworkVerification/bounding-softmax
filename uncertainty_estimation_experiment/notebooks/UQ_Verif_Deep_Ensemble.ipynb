{
 "cells": [
  {
   "cell_type": "code",
   "execution_count": 1,
   "metadata": {},
   "outputs": [],
   "source": [
    "import numpy as np\n",
    "from tensorflow.keras.datasets import mnist\n",
    "import matplotlib.pyplot as plt\n",
    "import pickle\n",
    "import cvxpy as cvx\n",
    "from scipy.special import softmax, expit, logsumexp"
   ]
  },
  {
   "cell_type": "markdown",
   "metadata": {},
   "source": [
    "#### Load deep ensemble"
   ]
  },
  {
   "cell_type": "markdown",
   "metadata": {},
   "source": [
    "Ensemble dimensions:"
   ]
  },
  {
   "cell_type": "code",
   "execution_count": 2,
   "metadata": {},
   "outputs": [],
   "source": [
    "# Number of models in ensemble\n",
    "M = 5\n",
    "# Number of hidden layers\n",
    "L = 3"
   ]
  },
  {
   "cell_type": "markdown",
   "metadata": {},
   "source": [
    "Load NN weights:"
   ]
  },
  {
   "cell_type": "code",
   "execution_count": 56,
   "metadata": {},
   "outputs": [],
   "source": [
    "#network = 'mnist'\n",
    "#suffix = ''\n",
    "#network = 'mnist-large'\n",
    "#suffix = 'large-'\n",
    "network = 'robust_mnist-large'\n",
    "suffix = 'robust-large-'\n",
    "\n",
    "w = []\n",
    "b = []\n",
    "\n",
    "# Iterate over models\n",
    "for m in range(M):\n",
    "    W = np.load(f'networks/{network}-{m}.npz')\n",
    "\n",
    "    # Put weights into list of arrays\n",
    "    w.append([None] * (L + 1))\n",
    "    b.append([None] * (L + 1))\n",
    "    for ll in range(L + 1):\n",
    "        w[m][ll] = W['w' + str(ll + 1)]\n",
    "        b[m][ll] = W['b' + str(ll + 1)]\n",
    "\n",
    "#w0 = W[\"w1\"]\n",
    "#b0 = W[\"b1\"]\n",
    "#w1 = W[\"w2\"]\n",
    "#b1 = W[\"b2\"]\n",
    "#w2 = W[\"w3\"]\n",
    "#b2 = W[\"b3\"]"
   ]
  },
  {
   "cell_type": "code",
   "execution_count": 57,
   "metadata": {},
   "outputs": [
    {
     "name": "stdout",
     "output_type": "stream",
     "text": [
      "4\n",
      "[(784, 100), (100, 100), (100, 100), (100, 10)]\n",
      "4\n",
      "[(784, 100), (100, 100), (100, 100), (100, 10)]\n",
      "4\n",
      "[(784, 100), (100, 100), (100, 100), (100, 10)]\n",
      "4\n",
      "[(784, 100), (100, 100), (100, 100), (100, 10)]\n",
      "4\n",
      "[(784, 100), (100, 100), (100, 100), (100, 10)]\n"
     ]
    }
   ],
   "source": [
    "for m in range(M):\n",
    "    print(len(w[m]))\n",
    "    print([ww.shape for ww in w[m]])"
   ]
  },
  {
   "cell_type": "code",
   "execution_count": 58,
   "metadata": {},
   "outputs": [
    {
     "name": "stdout",
     "output_type": "stream",
     "text": [
      "[-0.03746585  0.11719501 -0.08827531  0.17422375 -0.03679032 -0.05346367\n",
      " -0.13827632  0.08722675  0.03755325  0.20768808  0.2567421  -0.24198721\n",
      " -0.20399463  0.02037364 -0.08170256 -0.10361248 -0.10122009  0.07125492\n",
      "  0.1423797  -0.1696014  -0.05144856 -0.10568065  0.01545172 -0.31933397\n",
      "  0.06724989 -0.14803608  0.2155743   0.09024095 -0.16447349 -0.23807274\n",
      " -0.07466054 -0.08014831  0.04727083  0.10291103 -0.16412598 -0.08003345\n",
      "  0.00078176  0.01625598 -0.26436123  0.10868551 -0.04379034 -0.10147452\n",
      "  0.04186736  0.0239208   0.05206443  0.17882416  0.00517465  0.18994091\n",
      "  0.07932472 -0.20609999  0.02152546  0.10538779  0.1476276   0.03064254\n",
      "  0.01201985 -0.14049478  0.23526421  0.03262319 -0.12793526 -0.14316303\n",
      " -0.09579069 -0.067215   -0.11530007  0.0740611  -0.059604    0.11739817\n",
      "  0.22830333 -0.18519108 -0.44380486 -0.03146681 -0.10700165 -0.2740856\n",
      " -0.0775753  -0.07875248 -0.3431332   0.14257729  0.05603888  0.18538362\n",
      "  0.26400447 -0.13420603 -0.04007009 -0.21168141  0.0027674  -0.06680238\n",
      "  0.00672571 -0.08038373  0.09475552  0.05047396  0.13115118  0.26217496\n",
      "  0.06603737  0.077553    0.17236212  0.05736371  0.11050978 -0.18612875\n",
      "  0.11696123  0.09196223 -0.01873678  0.22145434]\n",
      "[-0.19789025  0.10053772 -0.20830128 -0.34003735 -0.01652964 -0.01208256\n",
      " -0.06635364 -0.15221058 -0.10807838  0.16033621  0.2618353   0.0959162\n",
      " -0.05258363  0.1225325  -0.17223474 -0.00940169 -0.10438081 -0.16582115\n",
      " -0.10427364 -0.08823932 -0.07927878  0.3183226   0.12617642  0.09764122\n",
      " -0.16999908 -0.11219756  0.12060928 -0.23127754 -0.2187325  -0.04556033\n",
      " -0.2218513  -0.07727052 -0.01007977 -0.18078613 -0.25756717  0.05823919\n",
      " -0.00440611 -0.06451504 -0.16907895  0.19093835  0.01185342 -0.01739009\n",
      " -0.05770634  0.1005117  -0.24384476 -0.02002389 -0.01627522  0.13750535\n",
      "  0.16711465 -0.07110294 -0.07720176  0.08619986 -0.03330421 -0.18918231\n",
      "  0.04904838 -0.06921796 -0.22480452 -0.02987009 -0.04787796  0.04860219\n",
      "  0.18044549  0.29394248  0.03396535 -0.35148677 -0.0490816  -0.19865581\n",
      " -0.13909915  0.00125838 -0.06081099  0.01809671  0.18737632  0.22229554\n",
      "  0.15113753  0.11757615 -0.0357991  -0.15687144 -0.06942237 -0.04818643\n",
      " -0.16503988 -0.06077547  0.14258221 -0.21061751 -0.08073569  0.4023281\n",
      " -0.12410487  0.22911395 -0.07150783 -0.11702836 -0.00272717 -0.00042734\n",
      " -0.03351934 -0.2223229   0.00215815 -0.09742841  0.04260954 -0.21044517\n",
      "  0.09453261  0.24237512  0.27992496  0.30979937]\n"
     ]
    }
   ],
   "source": [
    "print(w[0][1][0])\n",
    "print(w[1][1][0])"
   ]
  },
  {
   "cell_type": "markdown",
   "metadata": {},
   "source": [
    "#### Load MNIST test images and bounds:"
   ]
  },
  {
   "cell_type": "code",
   "execution_count": 6,
   "metadata": {},
   "outputs": [],
   "source": [
    "(X, y), (Xt, yt) = mnist.load_data()"
   ]
  },
  {
   "cell_type": "markdown",
   "metadata": {},
   "source": [
    "Image index:"
   ]
  },
  {
   "cell_type": "code",
   "execution_count": 7,
   "metadata": {},
   "outputs": [],
   "source": [
    "i = 0"
   ]
  },
  {
   "cell_type": "code",
   "execution_count": 8,
   "metadata": {
    "scrolled": true
   },
   "outputs": [
    {
     "data": {
      "image/png": "[encoded data removed]",
      "text/plain": [
       "<Figure size 640x480 with 1 Axes>"
      ]
     },
     "metadata": {},
     "output_type": "display_data"
    }
   ],
   "source": [
    "plt.imshow(Xt[i])\n",
    "plt.show()"
   ]
  },
  {
   "cell_type": "markdown",
   "metadata": {},
   "source": [
    "Perturbation radius:"
   ]
  },
  {
   "cell_type": "code",
   "execution_count": 9,
   "metadata": {},
   "outputs": [],
   "source": [
    "eps = 0.008"
   ]
  },
  {
   "cell_type": "markdown",
   "metadata": {},
   "source": [
    "Load neuron bounds:"
   ]
  },
  {
   "cell_type": "code",
   "execution_count": 59,
   "metadata": {},
   "outputs": [],
   "source": [
    "lbs = []\n",
    "ubs = []\n",
    "\n",
    "# Iterate over models\n",
    "for m in range(M):\n",
    "    with open(f\"./bounds/bounds_net{suffix}{m}_ind{i}_eps{eps}.pickle\", 'rb') as fp:\n",
    "        bounds = pickle.load(fp)\n",
    "    lbs.append(bounds[\"lbs\"])\n",
    "    ubs.append(bounds[\"ubs\"])"
   ]
  },
  {
   "cell_type": "code",
   "execution_count": 60,
   "metadata": {},
   "outputs": [
    {
     "data": {
      "text/plain": [
       "[2.5821,\n",
       " -8.4347,\n",
       " -1.3418,\n",
       " -9.7626,\n",
       " -2.4075,\n",
       " -2.1865,\n",
       " -4.1497,\n",
       " -2.3128,\n",
       " 6.5087,\n",
       " -1.4249,\n",
       " -4.4205,\n",
       " -1.1754,\n",
       " -8.5736,\n",
       " 7.0632,\n",
       " -6.0485,\n",
       " -1.8693,\n",
       " -6.2985,\n",
       " -3.1365,\n",
       " -9.0773,\n",
       " -5.4015,\n",
       " 3.222,\n",
       " -4.0731,\n",
       " -7.282,\n",
       " -8.0841,\n",
       " -7.5698,\n",
       " -0.4092,\n",
       " 3.527,\n",
       " -2.2473,\n",
       " 3.5854,\n",
       " 2.1639,\n",
       " 0.0284,\n",
       " -5.9737,\n",
       " 0.3017,\n",
       " 0.3207,\n",
       " -0.0712,\n",
       " 7.1846,\n",
       " -0.9344,\n",
       " 1.2795,\n",
       " 3.0035,\n",
       " -4.8591,\n",
       " 6.3578,\n",
       " 1.5104,\n",
       " 8.8022,\n",
       " -0.7262,\n",
       " 1.3382,\n",
       " 0.1209,\n",
       " 4.1294,\n",
       " 8.2421,\n",
       " -3.9439,\n",
       " -1.2272,\n",
       " -2.2699,\n",
       " -0.2974,\n",
       " -5.7342,\n",
       " -0.2534,\n",
       " -1.713,\n",
       " 1.8243,\n",
       " -5.8392,\n",
       " 11.7832,\n",
       " -7.2135,\n",
       " -5.2875,\n",
       " -0.1416,\n",
       " -2.9364,\n",
       " -4.4028,\n",
       " -2.8049,\n",
       " -2.1438,\n",
       " 1.9988,\n",
       " -2.818,\n",
       " -3.2052,\n",
       " -4.352,\n",
       " -2.2105,\n",
       " -9.9691,\n",
       " 5.1211,\n",
       " -2.3759,\n",
       " -0.253,\n",
       " 1.6411,\n",
       " 1.6746,\n",
       " 4.6231,\n",
       " 5.2006,\n",
       " -8.7303,\n",
       " -2.2041,\n",
       " -6.3317,\n",
       " 2.7419,\n",
       " -0.2323,\n",
       " -5.0919,\n",
       " -7.1927,\n",
       " 2.7616,\n",
       " -2.6219,\n",
       " -3.7275,\n",
       " -1.2275,\n",
       " -7.4464,\n",
       " -0.6521,\n",
       " 5.3093,\n",
       " -4.3887,\n",
       " -0.5411,\n",
       " -1.8473,\n",
       " -4.1676,\n",
       " 2.0111,\n",
       " 0.5568,\n",
       " -2.3874,\n",
       " -2.7329]"
      ]
     },
     "execution_count": 60,
     "metadata": {},
     "output_type": "execute_result"
    }
   ],
   "source": [
    "lbs[1][5]"
   ]
  },
  {
   "cell_type": "markdown",
   "metadata": {},
   "source": [
    "#### Input layer"
   ]
  },
  {
   "cell_type": "code",
   "execution_count": 61,
   "metadata": {},
   "outputs": [],
   "source": [
    "mid0 = Xt[i].flatten() / 255"
   ]
  },
  {
   "cell_type": "code",
   "execution_count": 62,
   "metadata": {},
   "outputs": [],
   "source": [
    "# Input bounds\n",
    "l0 = np.maximum(mid0 - eps, 0)\n",
    "u0 = np.minimum(mid0 + eps, 1)"
   ]
  },
  {
   "cell_type": "code",
   "execution_count": 63,
   "metadata": {},
   "outputs": [
    {
     "data": {
      "text/plain": [
       "4.901960784314818e-05"
      ]
     },
     "execution_count": 63,
     "metadata": {},
     "output_type": "execute_result"
    }
   ],
   "source": [
    "# Check that just computed bounds are close to loaded ones\n",
    "np.abs(u0 - np.array(ubs[3][0])).max()"
   ]
  },
  {
   "cell_type": "code",
   "execution_count": 64,
   "metadata": {},
   "outputs": [],
   "source": [
    "D = len(mid0)\n",
    "x0 = cvx.Variable(D)"
   ]
  },
  {
   "cell_type": "code",
   "execution_count": 65,
   "metadata": {},
   "outputs": [
    {
     "data": {
      "text/plain": [
       "[Inequality(Constant(CONSTANT, NONNEGATIVE, (784,))),\n",
       " Inequality(Variable((784,)))]"
      ]
     },
     "execution_count": 65,
     "metadata": {},
     "output_type": "execute_result"
    }
   ],
   "source": [
    "# Initialize list of constraints\n",
    "cons = [x0 >= l0, x0 <= u0]\n",
    "cons"
   ]
  },
  {
   "cell_type": "markdown",
   "metadata": {},
   "source": [
    "#### Hidden layers"
   ]
  },
  {
   "cell_type": "code",
   "execution_count": 66,
   "metadata": {},
   "outputs": [],
   "source": [
    "# Initialize lists of quantities over models\n",
    "z = [None] * M\n",
    "xa = [None] * M\n",
    "xu = [None] * M\n",
    "l = [None] * M\n",
    "u = [None] * M\n",
    "inactive = [None] * M\n",
    "active = [None] * M\n",
    "unstable = [None] * M"
   ]
  },
  {
   "cell_type": "code",
   "execution_count": 67,
   "metadata": {},
   "outputs": [
    {
     "data": {
      "text/plain": [
       "[Inequality(Constant(CONSTANT, NONNEGATIVE, (784,))),\n",
       " Inequality(Variable((784,))),\n",
       " Inequality(Expression(AFFINE, UNKNOWN, (7,))),\n",
       " Inequality(Variable((7,), nonneg=True)),\n",
       " Inequality(Expression(AFFINE, UNKNOWN, (8,))),\n",
       " Inequality(Variable((8,), nonneg=True)),\n",
       " Inequality(Expression(AFFINE, UNKNOWN, (2,))),\n",
       " Inequality(Variable((2,), nonneg=True)),\n",
       " Inequality(Expression(AFFINE, UNKNOWN, (9,))),\n",
       " Inequality(Variable((9,), nonneg=True)),\n",
       " Inequality(Expression(AFFINE, UNKNOWN, (5,))),\n",
       " Inequality(Variable((5,), nonneg=True)),\n",
       " Inequality(Expression(AFFINE, UNKNOWN, (6,))),\n",
       " Inequality(Variable((6,), nonneg=True)),\n",
       " Inequality(Expression(AFFINE, UNKNOWN, (7,))),\n",
       " Inequality(Variable((7,), nonneg=True)),\n",
       " Inequality(Expression(AFFINE, UNKNOWN, (4,))),\n",
       " Inequality(Variable((4,), nonneg=True)),\n",
       " Inequality(Expression(AFFINE, UNKNOWN, (2,))),\n",
       " Inequality(Variable((2,), nonneg=True)),\n",
       " Inequality(Expression(AFFINE, UNKNOWN, (7,))),\n",
       " Inequality(Variable((7,), nonneg=True)),\n",
       " Inequality(Expression(AFFINE, UNKNOWN, (4,))),\n",
       " Inequality(Variable((4,), nonneg=True)),\n",
       " Inequality(Expression(AFFINE, UNKNOWN, (3,))),\n",
       " Inequality(Variable((3,), nonneg=True)),\n",
       " Inequality(Expression(AFFINE, UNKNOWN, (6,))),\n",
       " Inequality(Variable((6,), nonneg=True)),\n",
       " Inequality(Expression(AFFINE, UNKNOWN, (5,))),\n",
       " Inequality(Variable((5,), nonneg=True)),\n",
       " Inequality(Expression(AFFINE, UNKNOWN, (2,))),\n",
       " Inequality(Variable((2,), nonneg=True))]"
      ]
     },
     "execution_count": 67,
     "metadata": {},
     "output_type": "execute_result"
    }
   ],
   "source": [
    "# Iterate over models\n",
    "for m in range(M):\n",
    "    # Initialize lists over layers\n",
    "    z[m] = [None] * (L + 1)\n",
    "    xa[m] = [None] * L\n",
    "    xu[m] = [None] * L\n",
    "    l[m] = [None] * (L + 1)\n",
    "    u[m] = [None] * (L + 1)\n",
    "    inactive[m] = [None] * L\n",
    "    active[m] = [None] * L\n",
    "    unstable[m] = [None] * L\n",
    "    \n",
    "    # Iterate over hidden layers\n",
    "    for ll in range(L):\n",
    "        # Bounds on pre-activation neurons\n",
    "        # NEEDS TO BE MADE MODEL-SPECIFIC FOR DEEP ENSEMBLE\n",
    "        l[m][ll] = np.array(lbs[m][2*ll+1])\n",
    "        u[m][ll] = np.array(ubs[m][2*ll+1])\n",
    "        #print(l[m][ll], u[m][ll])\n",
    "\n",
    "        # Drop inactive neurons\n",
    "        inactive[m][ll] = u[m][ll] <= 0\n",
    "        w[m][ll] = w[m][ll][:, ~inactive[m][ll]]\n",
    "        b[m][ll] = b[m][ll][~inactive[m][ll]]\n",
    "        l[m][ll] = l[m][ll][~inactive[m][ll]]\n",
    "        u[m][ll] = u[m][ll][~inactive[m][ll]]\n",
    "        w[m][ll+1] = w[m][ll+1][~inactive[m][ll], :]\n",
    "        #print(w[m][ll].shape, b[m][ll].shape, w[m][ll+1].shape)\n",
    "        #print(l[m][ll], u[m][ll])\n",
    "\n",
    "        # Find unstable and active neurons\n",
    "        unstable[m][ll] = l[m][ll] < 0\n",
    "        active[m][ll] = ~unstable[m][ll]\n",
    "        #print(active[m][ll], unstable[m][ll])\n",
    "\n",
    "        # Affine transformation\n",
    "        if ll == 0:\n",
    "            # Input layer\n",
    "            z[m][ll] = x0 @ w[m][ll] + b[m][ll]\n",
    "        else:\n",
    "            z[m][ll] = xa[m][ll-1] @ w[m][ll][active[m][ll-1], :] + xu[m][ll-1] @ w[m][ll][unstable[m][ll-1], :] + b[m][ll]\n",
    "        \n",
    "        # Define active neurons\n",
    "        #xa[ll] = xa[ll-1] @ w[ll-1][np.ix_(active[ll-1], active[ll])] + xu[ll-1] @ w[ll-1][np.ix_(unstable[ll-1], active[ll])] + b[ll-1][active[ll]]\n",
    "        xa[m][ll] = z[m][ll][active[m][ll]]\n",
    "\n",
    "        # Define and constrain unstable neurons\n",
    "        nUnstable = unstable[m][ll].sum()\n",
    "        if nUnstable:\n",
    "            xu[m][ll] = cvx.Variable(nUnstable, nonneg=True)\n",
    "            #cons.append( xu[ll] >= xa[ll-1] @ w[ll-1][np.ix_(active[ll-1], unstable[ll])] + xu[ll-1] @ w[ll-1][np.ix_(unstable[ll-1], unstable[ll])] + b[ll-1][unstable[ll]] )\n",
    "            cons.append(xu[m][ll] >= z[m][ll][unstable[m][ll]])\n",
    "            g = u[m][ll][unstable[m][ll]] / (u[m][ll][unstable[m][ll]] - l[m][ll][unstable[m][ll]])\n",
    "            #cons.append( xu[ll] <= cvx.multiply(g, xa[ll-1] @ w[ll-1][np.ix_(active[ll-1], unstable[ll])] + xu[ll-1] @ w[ll-1][np.ix_(unstable[ll-1], unstable[ll])] + b[ll-1][unstable[ll]] - l[ll][unstable[ll]]) )\n",
    "            cons.append(xu[m][ll] <= cvx.multiply(g, z[m][ll][unstable[m][ll]] - l[m][ll][unstable[m][ll]]))\n",
    "        else:\n",
    "            # No unstable neurons\n",
    "            xu[m][ll] = np.zeros(nUnstable)\n",
    "\n",
    "cons"
   ]
  },
  {
   "cell_type": "code",
   "execution_count": 68,
   "metadata": {},
   "outputs": [
    {
     "data": {
      "text/plain": [
       "([[Expression(AFFINE, UNKNOWN, (44,)),\n",
       "   Expression(AFFINE, UNKNOWN, (35,)),\n",
       "   Expression(AFFINE, UNKNOWN, (38,))],\n",
       "  [Expression(AFFINE, UNKNOWN, (50,)),\n",
       "   Expression(AFFINE, UNKNOWN, (27,)),\n",
       "   Expression(AFFINE, UNKNOWN, (33,))],\n",
       "  [Expression(AFFINE, UNKNOWN, (47,)),\n",
       "   Expression(AFFINE, UNKNOWN, (29,)),\n",
       "   Expression(AFFINE, UNKNOWN, (40,))],\n",
       "  [Expression(AFFINE, UNKNOWN, (42,)),\n",
       "   Expression(AFFINE, UNKNOWN, (40,)),\n",
       "   Expression(AFFINE, UNKNOWN, (39,))],\n",
       "  [Expression(AFFINE, UNKNOWN, (47,)),\n",
       "   Expression(AFFINE, UNKNOWN, (32,)),\n",
       "   Expression(AFFINE, UNKNOWN, (35,))]],\n",
       " [[Variable((7,), nonneg=True),\n",
       "   Variable((8,), nonneg=True),\n",
       "   Variable((2,), nonneg=True)],\n",
       "  [Variable((9,), nonneg=True),\n",
       "   Variable((5,), nonneg=True),\n",
       "   Variable((6,), nonneg=True)],\n",
       "  [Variable((7,), nonneg=True),\n",
       "   Variable((4,), nonneg=True),\n",
       "   Variable((2,), nonneg=True)],\n",
       "  [Variable((7,), nonneg=True),\n",
       "   Variable((4,), nonneg=True),\n",
       "   Variable((3,), nonneg=True)],\n",
       "  [Variable((6,), nonneg=True),\n",
       "   Variable((5,), nonneg=True),\n",
       "   Variable((2,), nonneg=True)]])"
      ]
     },
     "execution_count": 68,
     "metadata": {},
     "output_type": "execute_result"
    }
   ],
   "source": [
    "xa, xu"
   ]
  },
  {
   "cell_type": "code",
   "execution_count": 20,
   "metadata": {},
   "outputs": [
    {
     "name": "stdout",
     "output_type": "stream",
     "text": [
      "[2.1145, 2.7422, 3.8015, 7.7546, 4.8569, 1.0791, 2.1942, 1.5316, -6.5672, -7.4727]\n",
      "[3.6519, 4.1378, 5.117, 9.1576, 6.1207, 2.3197, 3.2161, 2.7412, -5.0606, -6.4262]\n"
     ]
    }
   ],
   "source": [
    "print(lbs[4][3])\n",
    "print(ubs[4][3])"
   ]
  },
  {
   "cell_type": "markdown",
   "metadata": {},
   "source": [
    "#### Logits"
   ]
  },
  {
   "cell_type": "code",
   "execution_count": 69,
   "metadata": {},
   "outputs": [
    {
     "data": {
      "text/plain": [
       "[[Expression(AFFINE, UNKNOWN, (51,)),\n",
       "  Expression(AFFINE, UNKNOWN, (43,)),\n",
       "  Expression(AFFINE, UNKNOWN, (40,)),\n",
       "  Expression(AFFINE, UNKNOWN, (10,))],\n",
       " [Expression(AFFINE, UNKNOWN, (59,)),\n",
       "  Expression(AFFINE, UNKNOWN, (32,)),\n",
       "  Expression(AFFINE, UNKNOWN, (39,)),\n",
       "  Expression(AFFINE, UNKNOWN, (10,))],\n",
       " [Expression(AFFINE, UNKNOWN, (54,)),\n",
       "  Expression(AFFINE, UNKNOWN, (33,)),\n",
       "  Expression(AFFINE, UNKNOWN, (42,)),\n",
       "  Expression(AFFINE, UNKNOWN, (10,))],\n",
       " [Expression(AFFINE, UNKNOWN, (49,)),\n",
       "  Expression(AFFINE, UNKNOWN, (44,)),\n",
       "  Expression(AFFINE, UNKNOWN, (42,)),\n",
       "  Expression(AFFINE, UNKNOWN, (10,))],\n",
       " [Expression(AFFINE, UNKNOWN, (53,)),\n",
       "  Expression(AFFINE, UNKNOWN, (37,)),\n",
       "  Expression(AFFINE, UNKNOWN, (37,)),\n",
       "  Expression(AFFINE, UNKNOWN, (10,))]]"
      ]
     },
     "execution_count": 69,
     "metadata": {},
     "output_type": "execute_result"
    }
   ],
   "source": [
    "# Iterate over models\n",
    "for m in range(M):\n",
    "    z[m][L] = xa[m][L-1] @ w[m][L][active[m][L-1], :] + xu[m][L-1] @ w[m][L][unstable[m][L-1], :] + b[m][L]\n",
    "z"
   ]
  },
  {
   "cell_type": "code",
   "execution_count": 70,
   "metadata": {},
   "outputs": [],
   "source": [
    "# Bounds on logits\n",
    "# NEEDS TO BE MODEL-SPECIFIC FOR DEEP ENSEMBLE\n",
    "for m in range(M):\n",
    "    l[m][L] = np.array(lbs[m][2*L+1])\n",
    "    u[m][L] = np.array(ubs[m][2*L+1])\n",
    "#l2 = np.array(lbs[5])\n",
    "#u2 = np.array(ubs[5])\n",
    "#l, u"
   ]
  },
  {
   "cell_type": "code",
   "execution_count": 71,
   "metadata": {},
   "outputs": [
    {
     "data": {
      "text/plain": [
       "array([7, 7, 7, 7, 7])"
      ]
     },
     "execution_count": 71,
     "metadata": {},
     "output_type": "execute_result"
    }
   ],
   "source": [
    "# Index of largest logit in terms of midpoint\n",
    "jmax = np.empty(M, dtype=int)\n",
    "for m in range(M):\n",
    "    jmax[m] = (l[m][L] + u[m][L]).argmax()\n",
    "jmax"
   ]
  },
  {
   "cell_type": "markdown",
   "metadata": {},
   "source": [
    "#### Softmax"
   ]
  },
  {
   "cell_type": "code",
   "execution_count": 72,
   "metadata": {},
   "outputs": [],
   "source": [
    "LBtype = 'LSE'\n",
    "UBtype = 'LSE'"
   ]
  },
  {
   "cell_type": "code",
   "execution_count": 73,
   "metadata": {},
   "outputs": [],
   "source": [
    "# Number of classes\n",
    "d = 10\n",
    "\n",
    "# Output probabilities\n",
    "p = cvx.Variable((M, d), nonneg=True)"
   ]
  },
  {
   "cell_type": "markdown",
   "metadata": {},
   "source": [
    "Load and compute bounds:"
   ]
  },
  {
   "cell_type": "code",
   "execution_count": 74,
   "metadata": {},
   "outputs": [],
   "source": [
    "# Bounds on logit differences\n",
    "diffs_l = np.empty((M, d, d-1))\n",
    "diffs_u = np.empty((M, d, d-1))\n",
    "# Bounds on probabilities\n",
    "sm_l = np.empty((M, d))\n",
    "sm_u = np.empty((M, d))\n",
    "if UBtype == 'LSE':\n",
    "    lsm_l = np.empty((M, d))\n",
    "    lsm_u = np.empty((M, d))\n",
    "\n",
    "# Iterate over models\n",
    "for m in range(M):\n",
    "    # Iterate over classes\n",
    "    for j in range(d):\n",
    "        # Bounds on logit differences z_{j'} - z_j\n",
    "        # NEEDS TO BE MODEL-SPECIFIC FOR DEEP ENSEMBLE \n",
    "        diffs_l[m, j] = np.array(lbs[m][2*(L+1)])[(d-1)*j:(d-1)*(j+1)]\n",
    "        diffs_u[m, j] = np.array(ubs[m][2*(L+1)])[(d-1)*j:(d-1)*(j+1)]\n",
    "        # Constant bounds on softmax output\n",
    "        sm_l[m, j] = expit(-logsumexp(diffs_u[m, j]))\n",
    "        sm_u[m, j] = expit(-logsumexp(diffs_l[m, j]))\n",
    "        if UBtype == 'LSE':\n",
    "            # Also need log of constant bounds\n",
    "            lsm_l[m, j], lsm_u[m, j] = np.log(sm_l[m, j]), np.log(sm_u[m, j])\n"
   ]
  },
  {
   "cell_type": "code",
   "execution_count": 27,
   "metadata": {},
   "outputs": [
    {
     "name": "stdout",
     "output_type": "stream",
     "text": [
      "[[8.16242010e-06 4.09312976e-08 5.00955898e-04 2.66599216e-03\n",
      "  6.41386515e-07 2.87680890e-06 1.70034911e-12 9.54664722e-01\n",
      "  6.06122309e-08 7.66593859e-06]\n",
      " [1.28587098e-06 9.32036535e-11 7.16617564e-05 3.48515801e-05\n",
      "  7.42595491e-09 2.52095639e-09 9.93733512e-12 9.98421774e-01\n",
      "  1.16029140e-05 7.92729756e-05]\n",
      " [5.18144164e-07 1.14301673e-09 8.34347169e-07 1.07878661e-03\n",
      "  3.90653548e-11 5.80205821e-08 9.63253671e-16 9.59471495e-01\n",
      "  2.81942386e-07 6.55692794e-05]\n",
      " [1.18417203e-07 6.04071829e-08 5.79549200e-05 3.63520856e-04\n",
      "  5.82903709e-11 1.04892497e-06 1.41905640e-12 9.91698505e-01\n",
      "  1.63241396e-06 1.42439136e-04]\n",
      " [5.45593015e-07 2.09276063e-06 3.64802286e-05 9.04262482e-06\n",
      "  6.94061293e-06 4.66725316e-06 1.43164478e-06 9.97989669e-01\n",
      "  2.19349210e-07 5.61995621e-06]]\n",
      "[[2.94950674e-04 1.08400227e-06 3.93832291e-03 3.99740779e-02\n",
      "  2.78032590e-05 2.52094435e-04 2.29795660e-10 9.96807482e-01\n",
      "  1.59987217e-05 1.13173551e-03]\n",
      " [9.91120562e-06 1.60635859e-09 8.30354818e-04 3.04862182e-04\n",
      "  4.44212988e-08 6.44741538e-08 1.68146220e-10 9.99801259e-01\n",
      "  1.10101456e-04 3.23885636e-04]\n",
      " [1.56271112e-05 3.02519539e-08 2.30668049e-05 3.93234389e-02\n",
      "  2.22539038e-09 1.26554623e-05 1.96464320e-13 9.98853242e-01\n",
      "  2.15773368e-05 1.21211328e-03]\n",
      " [6.37685473e-06 7.20462009e-07 6.82400041e-04 5.12983358e-03\n",
      "  4.50144573e-09 4.77462331e-05 1.20106340e-10 9.99432880e-01\n",
      "  4.43350192e-05 2.41427315e-03]\n",
      " [6.73797159e-06 2.68986884e-05 1.21068127e-03 3.64786658e-04\n",
      "  1.43171256e-04 1.19819735e-04 1.08781795e-05 9.99932951e-01\n",
      "  7.98074789e-06 1.21041674e-04]]\n"
     ]
    }
   ],
   "source": [
    "print(sm_l)\n",
    "print(sm_u)"
   ]
  },
  {
   "cell_type": "markdown",
   "metadata": {},
   "source": [
    "Constrain softmax outputs:"
   ]
  },
  {
   "cell_type": "code",
   "execution_count": 75,
   "metadata": {},
   "outputs": [],
   "source": [
    "# Iterate over models\n",
    "diffs = [None] * M\n",
    "for m in range(M):\n",
    "    # Iterate over classes\n",
    "    for j in range(d):\n",
    "\n",
    "        if LBtype == 'lin' or UBtype == 'lin':\n",
    "            # Pre-compute some quantities for linear bounds\n",
    "            # Tangent points for bounding exponentials from below\n",
    "            diffs_t = np.minimum(np.log((np.exp(diffs_u[m, j]) - np.exp(diffs_l[m, j])) / (diffs_u[m, j] - diffs_l[m, j])), diffs_l[m, j] + 1)\n",
    "            # Lower and upper bounds on denominator of softmax\n",
    "            den_l = 1 + np.dot(np.exp(diffs_t), diffs_l[m, j] - diffs_t + 1)\n",
    "            den_u = 1 + np.exp(diffs_u[m, j]).sum()\n",
    "            # Tangent point for bounding reciprocal from below\n",
    "            den_t = max(np.sqrt(den_l * den_u), den_u / 2)\n",
    "            \n",
    "        # Add constraint on jth softmax output\n",
    "        if j == yt[i]:\n",
    "            # Correct class, need lower bound on probability\n",
    "            if LBtype == 'lin':\n",
    "                # Linear ER bound\n",
    "                a_lin_l = np.zeros(d)\n",
    "                others = np.arange(d) != j\n",
    "                a_lin_l[others] = -(np.exp(diffs_u[m, j]) - np.exp(diffs_l[m, j])) / (diffs_u[m, j] - diffs_l[m, j]) / den_t**2\n",
    "                a_lin_l[j] = -a_lin_l[others].sum()\n",
    "                b_lin_l = ((diffs_u[m, j] * np.exp(diffs_l[m, j]) - diffs_l[m, j] * np.exp(diffs_u[m, j])) / (diffs_u[m, j] - diffs_l[m, j])).sum()\n",
    "                b_lin_l = 1 / den_t * (2 - 1 / den_t * (1 + b_lin_l))\n",
    "                bnd = p[m, j] >= a_lin_l @ z[m][L] + b_lin_l\n",
    "            elif LBtype == 'ER' or j == jmax[m]:\n",
    "                # LSE2 bound same as ER bound when j = jmax\n",
    "                # Differences with z_j\n",
    "                others = np.arange(d) != j\n",
    "                diffs[m] = z[m][L][others] - z[m][L][j]\n",
    "                #cons += [diffs[j] >= diffs_l[j], diffs[j] <= diffs_u[j]]\n",
    "                #bnd = p[j] >= cvx.power(1 + cvx.sum((cvx.multiply(np.exp(diffs_l[j]), diffs_u[j] - diffs[j]) + cvx.multiply(np.exp(diffs_u[j]), diffs[j] - diffs_l[j])) / (diffs_u[j] - diffs_l[j])), -1)\n",
    "                # Bounding log probability avoids having to use a second-order cone\n",
    "                bnd = cvx.log(p[m, j]) >= -cvx.log(1 + cvx.sum((cvx.multiply(np.exp(diffs_l[m, j]), diffs_u[m, j] - diffs[m]) + cvx.multiply(np.exp(diffs_u[m, j]), diffs[m] - diffs_l[m, j])) / (diffs_u[m, j] - diffs_l[m, j])))\n",
    "            elif LBtype == 'LSE':\n",
    "                # LSE2 bound for j != jmax\n",
    "                # Differences with z_{jmax}\n",
    "                others = np.arange(d) != jmax[m]\n",
    "                diffs[m] = z[m][L] - z[m][L][jmax[m]]\n",
    "                bnd = cvx.log(p[m, j]) >= diffs[m][j] - cvx.log(1 + cvx.sum((cvx.multiply(np.exp(diffs_l[m, jmax[m]]), diffs_u[m, jmax[m]] - diffs[m][others]) + cvx.multiply(np.exp(diffs_u[m, jmax[m]]), diffs[m][others] - diffs_l[m, jmax[m]])) / (diffs_u[m, jmax[m]] - diffs_l[m, jmax[m]])))\n",
    "            if LBtype == 'LSE':\n",
    "                # LSE1 bound\n",
    "                bnd2 = cvx.log(p[m, j]) >= z[m][L][j] - cvx.log(cvx.sum((cvx.multiply(np.exp(l[m][L]), u[m][L] - z[m][L]) + cvx.multiply(np.exp(u[m][L]), z[m][L] - l[m][L])) / (u[m][L] - l[m][L])))\n",
    "                #cons.append(bnd2)\n",
    "        else:\n",
    "            # Incorrect class, need upper bound on probability\n",
    "            if UBtype == 'lin':\n",
    "                # Linear ER bound\n",
    "                a_lin_u = np.zeros(d)\n",
    "                others = np.arange(d) != j\n",
    "                a_lin_u[others] = -np.exp(diffs_t) / (den_l * den_u)\n",
    "                a_lin_u[j] = -a_lin_u[others].sum()\n",
    "                b_lin_u = 1 / den_l + 1 / den_u - (1 + np.dot(np.exp(diffs_t), 1 - diffs_t)) / (den_l * den_u)\n",
    "                bnd = p[m, j] <= a_lin_u @ z[m][L] + b_lin_u\n",
    "            elif UBtype == 'ER':\n",
    "                # CAN'T USE: HAVING MORE THAN 2 OF THESE BOUNDS PREVENTS CONVERGENCE \n",
    "                #bnd = p[j] <= sm_l[j] + sm_u[j] - sm_l[j] * sm_u[j] * (1 + cvx.sum(cvx.exp(diffs[j])))\n",
    "                bnd = p[m, j] <= sm_l[m, j] + sm_u[m, j] - sm_l[m, j] * sm_u[m, j] * cvx.exp(cvx.log_sum_exp(z[m][L]) - z[m][L][j])\n",
    "            elif UBtype == 'LSE':\n",
    "                bnd = p[m, j] <= (lsm_u[m, j] * sm_l[m, j] - lsm_l[m, j] * sm_u[m, j] - (sm_u[m, j] - sm_l[m, j]) * (cvx.log_sum_exp(z[m][L]) - z[m][L][j])) / (lsm_u[m, j] - lsm_l[m, j])\n",
    "        cons.append(bnd)\n",
    "\n",
    "    # Sum to 1 constraint\n",
    "    cons.append(cvx.sum(p[m, :]) == 1)"
   ]
  },
  {
   "cell_type": "code",
   "execution_count": 76,
   "metadata": {},
   "outputs": [
    {
     "data": {
      "text/plain": [
       "[Inequality(Constant(CONSTANT, NONNEGATIVE, (784,))),\n",
       " Inequality(Variable((784,))),\n",
       " Inequality(Expression(AFFINE, UNKNOWN, (7,))),\n",
       " Inequality(Variable((7,), nonneg=True)),\n",
       " Inequality(Expression(AFFINE, UNKNOWN, (8,))),\n",
       " Inequality(Variable((8,), nonneg=True)),\n",
       " Inequality(Expression(AFFINE, UNKNOWN, (2,))),\n",
       " Inequality(Variable((2,), nonneg=True)),\n",
       " Inequality(Expression(AFFINE, UNKNOWN, (9,))),\n",
       " Inequality(Variable((9,), nonneg=True)),\n",
       " Inequality(Expression(AFFINE, UNKNOWN, (5,))),\n",
       " Inequality(Variable((5,), nonneg=True)),\n",
       " Inequality(Expression(AFFINE, UNKNOWN, (6,))),\n",
       " Inequality(Variable((6,), nonneg=True)),\n",
       " Inequality(Expression(AFFINE, UNKNOWN, (7,))),\n",
       " Inequality(Variable((7,), nonneg=True)),\n",
       " Inequality(Expression(AFFINE, UNKNOWN, (4,))),\n",
       " Inequality(Variable((4,), nonneg=True)),\n",
       " Inequality(Expression(AFFINE, UNKNOWN, (2,))),\n",
       " Inequality(Variable((2,), nonneg=True)),\n",
       " Inequality(Expression(AFFINE, UNKNOWN, (7,))),\n",
       " Inequality(Variable((7,), nonneg=True)),\n",
       " Inequality(Expression(AFFINE, UNKNOWN, (4,))),\n",
       " Inequality(Variable((4,), nonneg=True)),\n",
       " Inequality(Expression(AFFINE, UNKNOWN, (3,))),\n",
       " Inequality(Variable((3,), nonneg=True)),\n",
       " Inequality(Expression(AFFINE, UNKNOWN, (6,))),\n",
       " Inequality(Variable((6,), nonneg=True)),\n",
       " Inequality(Expression(AFFINE, UNKNOWN, (5,))),\n",
       " Inequality(Variable((5,), nonneg=True)),\n",
       " Inequality(Expression(AFFINE, UNKNOWN, (2,))),\n",
       " Inequality(Variable((2,), nonneg=True)),\n",
       " Inequality(Expression(AFFINE, NONNEGATIVE, ())),\n",
       " Inequality(Expression(AFFINE, NONNEGATIVE, ())),\n",
       " Inequality(Expression(AFFINE, NONNEGATIVE, ())),\n",
       " Inequality(Expression(AFFINE, NONNEGATIVE, ())),\n",
       " Inequality(Expression(AFFINE, NONNEGATIVE, ())),\n",
       " Inequality(Expression(AFFINE, NONNEGATIVE, ())),\n",
       " Inequality(Expression(AFFINE, NONNEGATIVE, ())),\n",
       " Inequality(Expression(CONVEX, UNKNOWN, ())),\n",
       " Inequality(Expression(AFFINE, NONNEGATIVE, ())),\n",
       " Inequality(Expression(AFFINE, NONNEGATIVE, ())),\n",
       " Equality(Expression(AFFINE, NONNEGATIVE, ()), Constant(CONSTANT, NONNEGATIVE, ())),\n",
       " Inequality(Expression(AFFINE, NONNEGATIVE, ())),\n",
       " Inequality(Expression(AFFINE, NONNEGATIVE, ())),\n",
       " Inequality(Expression(AFFINE, NONNEGATIVE, ())),\n",
       " Inequality(Expression(AFFINE, NONNEGATIVE, ())),\n",
       " Inequality(Expression(AFFINE, NONNEGATIVE, ())),\n",
       " Inequality(Expression(AFFINE, NONNEGATIVE, ())),\n",
       " Inequality(Expression(AFFINE, NONNEGATIVE, ())),\n",
       " Inequality(Expression(CONVEX, UNKNOWN, ())),\n",
       " Inequality(Expression(AFFINE, NONNEGATIVE, ())),\n",
       " Inequality(Expression(AFFINE, NONNEGATIVE, ())),\n",
       " Equality(Expression(AFFINE, NONNEGATIVE, ()), Constant(CONSTANT, NONNEGATIVE, ())),\n",
       " Inequality(Expression(AFFINE, NONNEGATIVE, ())),\n",
       " Inequality(Expression(AFFINE, NONNEGATIVE, ())),\n",
       " Inequality(Expression(AFFINE, NONNEGATIVE, ())),\n",
       " Inequality(Expression(AFFINE, NONNEGATIVE, ())),\n",
       " Inequality(Expression(AFFINE, NONNEGATIVE, ())),\n",
       " Inequality(Expression(AFFINE, NONNEGATIVE, ())),\n",
       " Inequality(Expression(AFFINE, NONNEGATIVE, ())),\n",
       " Inequality(Expression(CONVEX, UNKNOWN, ())),\n",
       " Inequality(Expression(AFFINE, NONNEGATIVE, ())),\n",
       " Inequality(Expression(AFFINE, NONNEGATIVE, ())),\n",
       " Equality(Expression(AFFINE, NONNEGATIVE, ()), Constant(CONSTANT, NONNEGATIVE, ())),\n",
       " Inequality(Expression(AFFINE, NONNEGATIVE, ())),\n",
       " Inequality(Expression(AFFINE, NONNEGATIVE, ())),\n",
       " Inequality(Expression(AFFINE, NONNEGATIVE, ())),\n",
       " Inequality(Expression(AFFINE, NONNEGATIVE, ())),\n",
       " Inequality(Expression(AFFINE, NONNEGATIVE, ())),\n",
       " Inequality(Expression(AFFINE, NONNEGATIVE, ())),\n",
       " Inequality(Expression(AFFINE, NONNEGATIVE, ())),\n",
       " Inequality(Expression(CONVEX, UNKNOWN, ())),\n",
       " Inequality(Expression(AFFINE, NONNEGATIVE, ())),\n",
       " Inequality(Expression(AFFINE, NONNEGATIVE, ())),\n",
       " Equality(Expression(AFFINE, NONNEGATIVE, ()), Constant(CONSTANT, NONNEGATIVE, ())),\n",
       " Inequality(Expression(AFFINE, NONNEGATIVE, ())),\n",
       " Inequality(Expression(AFFINE, NONNEGATIVE, ())),\n",
       " Inequality(Expression(AFFINE, NONNEGATIVE, ())),\n",
       " Inequality(Expression(AFFINE, NONNEGATIVE, ())),\n",
       " Inequality(Expression(AFFINE, NONNEGATIVE, ())),\n",
       " Inequality(Expression(AFFINE, NONNEGATIVE, ())),\n",
       " Inequality(Expression(AFFINE, NONNEGATIVE, ())),\n",
       " Inequality(Expression(CONVEX, UNKNOWN, ())),\n",
       " Inequality(Expression(AFFINE, NONNEGATIVE, ())),\n",
       " Inequality(Expression(AFFINE, NONNEGATIVE, ())),\n",
       " Equality(Expression(AFFINE, NONNEGATIVE, ()), Constant(CONSTANT, NONNEGATIVE, ()))]"
      ]
     },
     "execution_count": 76,
     "metadata": {},
     "output_type": "execute_result"
    }
   ],
   "source": [
    "cons"
   ]
  },
  {
   "cell_type": "markdown",
   "metadata": {},
   "source": [
    "#### Score function upper bound (use only one of the following)"
   ]
  },
  {
   "cell_type": "markdown",
   "metadata": {},
   "source": [
    "Negative log-likelihood: equivalently minimize probability of correct class"
   ]
  },
  {
   "cell_type": "code",
   "execution_count": 77,
   "metadata": {},
   "outputs": [],
   "source": [
    "#score_ub = -p[yt[i]]\n",
    "score_ub = -cvx.sum(p[:, yt[i]]) / M"
   ]
  },
  {
   "cell_type": "markdown",
   "metadata": {},
   "source": [
    "Brier score: linear upper bound"
   ]
  },
  {
   "cell_type": "code",
   "execution_count": 88,
   "metadata": {},
   "outputs": [],
   "source": [
    "others = np.arange(d) != yt[i]\n",
    "score_ub = -(2 - sm_l[:, yt[i]].mean() - sm_u[:, yt[i]].mean()) * cvx.sum(p[:, yt[i]]) / M + (sm_l[:, others].mean(axis=0) + sm_u[:, others].mean(axis=0)) @ cvx.sum(p[:, others], axis=0) / M - np.dot(sm_l.mean(axis=0), sm_u.mean(axis=0)) + 1 "
   ]
  },
  {
   "cell_type": "code",
   "execution_count": 89,
   "metadata": {},
   "outputs": [
    {
     "data": {
      "text/plain": [
       "Expression(AFFINE, UNKNOWN, ())"
      ]
     },
     "execution_count": 89,
     "metadata": {},
     "output_type": "execute_result"
    }
   ],
   "source": [
    "score_ub"
   ]
  },
  {
   "cell_type": "markdown",
   "metadata": {},
   "source": [
    "#### Solve problem"
   ]
  },
  {
   "cell_type": "code",
   "execution_count": 90,
   "metadata": {},
   "outputs": [],
   "source": [
    "prob = cvx.Problem(cvx.Maximize(score_ub), cons)"
   ]
  },
  {
   "cell_type": "code",
   "execution_count": 91,
   "metadata": {},
   "outputs": [
    {
     "name": "stdout",
     "output_type": "stream",
     "text": [
      "----------------------------------------------------------------------------\n",
      "\tSCS v2.1.1 - Splitting Conic Solver\n",
      "\t(c) Brendan O'Donoghue, Stanford University, 2012\n",
      "----------------------------------------------------------------------------\n",
      "Lin-sys: sparse-direct, nnz in A = 524556\n",
      "eps = 1.00e-04, alpha = 1.50, max_iters = 10000, normalize = 1, scale = 1.00\n",
      "acceleration_lookback = 0, rho_x = 1.00e-03\n",
      "Variables n = 1416, constraints m = 3329\n",
      "Cones:\tprimal zero / dual free vars: 5\n",
      "\tlinear vars: 1944\n",
      "\texp vars: 1380, dual exp vars: 0\n",
      "Setup time: 3.64e-01s\n",
      "----------------------------------------------------------------------------\n",
      " Iter | pri res | dua res | rel gap | pri obj | dua obj | kap/tau | time (s)\n",
      "----------------------------------------------------------------------------\n",
      "     0| 2.31e+20  8.27e+14  1.00e+00 -6.08e+15  2.31e+15  2.04e+16  1.52e-02 \n",
      "   100| 1.01e-01  2.87e-06  1.36e-06  4.22e-06  5.58e-06  1.71e-21  1.72e+00 \n",
      "   200| 1.62e-02  1.36e-07  1.06e-07  3.29e-06  3.19e-06  2.29e-21  2.43e+00 \n",
      "   300| 7.97e-03  9.26e-08  7.96e-08  3.48e-06  3.56e-06  2.29e-21  3.71e+00 \n",
      "   400| 4.39e-03  5.33e-08  1.03e-08  3.42e-06  3.41e-06  2.23e-21  5.12e+00 \n",
      "   500| 3.76e-03  3.41e-08  1.73e-08  3.41e-06  3.39e-06  5.65e-21  6.75e+00 \n",
      "   600| 3.48e-03  2.29e-08  1.57e-08  3.41e-06  3.39e-06  5.59e-21  8.12e+00 \n",
      "   700| 3.21e-03  1.82e-08  1.91e-08  3.40e-06  3.39e-06  2.15e-21  9.63e+00 \n",
      "   800| 2.81e-03  1.54e-08  1.76e-08  3.41e-06  3.39e-06  1.23e-21  1.10e+01 \n",
      "   900| 2.68e-03  1.10e-08  1.45e-08  3.41e-06  3.39e-06  1.23e-21  1.23e+01 \n",
      "  1000| 2.39e-03  7.94e-09  1.30e-08  3.41e-06  3.39e-06  5.44e-21  1.35e+01 \n",
      "  1100| 2.17e-03  6.84e-09  1.01e-08  3.41e-06  3.40e-06  1.22e-21  1.47e+01 \n",
      "  1200| 1.92e-03  4.39e-09  4.78e-09  3.41e-06  3.41e-06  1.21e-21  1.61e+01 \n",
      "  1300| 1.67e-03  4.34e-09  6.27e-09  3.41e-06  3.40e-06  2.09e-21  1.74e+01 \n",
      "  1400| 1.44e-03  3.06e-09  2.13e-09  3.41e-06  3.41e-06  5.37e-21  1.85e+01 \n",
      "  1500| 1.30e-03  2.36e-09  2.19e-09  3.41e-06  3.41e-06  5.37e-21  1.95e+01 \n",
      "  1600| 1.12e-03  2.13e-09  4.51e-09  3.41e-06  3.41e-06  1.20e-21  2.05e+01 \n",
      "  1700| 1.04e-03  1.24e-09  4.28e-09  3.41e-06  3.41e-06  4.48e-21  2.14e+01 \n",
      "  1800| 8.79e-04  8.93e-10  2.64e-09  3.41e-06  3.41e-06  1.20e-21  2.23e+01 \n",
      "  1900| 7.75e-04  1.04e-09  3.75e-10  3.41e-06  3.41e-06  1.20e-21  2.31e+01 \n",
      "  2000| 7.35e-04  6.96e-10  2.77e-10  3.41e-06  3.41e-06  1.20e-21  2.39e+01 \n",
      "  2100| 5.59e-04  5.49e-10  1.26e-09  3.41e-06  3.41e-06  1.20e-21  2.46e+01 \n",
      "  2200| 5.00e-04  4.24e-10  1.18e-10  3.41e-06  3.41e-06  2.06e-21  2.53e+01 \n",
      "  2300| 4.43e-04  2.82e-10  6.71e-10  3.41e-06  3.41e-06  4.46e-21  2.61e+01 \n",
      "  2400| 3.69e-04  3.55e-10  2.88e-10  3.41e-06  3.41e-06  1.20e-21  2.68e+01 \n",
      "  2500| 3.30e-04  2.36e-10  5.46e-10  3.41e-06  3.41e-06  2.07e-21  2.74e+01 \n",
      "  2600| 2.39e-04  4.95e-10  4.70e-10  3.41e-06  3.41e-06  2.07e-21  2.79e+01 \n",
      "  2700| 1.66e-04  2.16e-10  6.36e-10  3.41e-06  3.41e-06  1.20e-21  2.83e+01 \n",
      "  2720| 2.66e-05  1.86e-10  8.48e-10  3.41e-06  3.41e-06  1.20e-21  2.84e+01 \n",
      "----------------------------------------------------------------------------\n",
      "Status: Solved\n",
      "Timing: Solve time: 2.84e+01s\n",
      "\tLin-sys: nnz in L factor: 751522, avg solve time: 2.34e-03s\n",
      "\tCones: avg projection time: 7.95e-03s\n",
      "\tAcceleration: avg step time: 2.74e-07s\n",
      "----------------------------------------------------------------------------\n",
      "Error metrics:\n",
      "dist(s, K) = 2.2302e-15, dist(y, K*) = 5.9414e-12, s'y/|s||y| = 1.1437e-10\n",
      "primal res: |Ax + s - b|_2 / (1 + |b|_2) = 2.6627e-05\n",
      "dual res:   |A'y + c|_2 / (1 + |c|_2) = 1.8621e-10\n",
      "rel gap:    |c'x + b'y| / (1 + |c'x| + |b'y|) = 8.4760e-10\n",
      "----------------------------------------------------------------------------\n",
      "c'x = 0.0000, -b'y = 0.0000\n",
      "============================================================================\n"
     ]
    },
    {
     "data": {
      "text/plain": [
       "-5.858301483519922e-10"
      ]
     },
     "execution_count": 91,
     "metadata": {},
     "output_type": "execute_result"
    }
   ],
   "source": [
    "prob.solve(solver='SCS', verbose=True, acceleration_lookback=0, max_iters=int(1e4))\n",
    "#prob.solve(solver='SCS', verbose=True, acceleration_lookback=0, max_iters=int(1e4), eps=1e-5)\n",
    "#prob.solve(solver='SCS', verbose=True, acceleration_lookback=0, max_iters=int(1e4), scale=0.01)"
   ]
  },
  {
   "cell_type": "code",
   "execution_count": 92,
   "metadata": {},
   "outputs": [
    {
     "data": {
      "text/plain": [
       "-5.858301483519922e-10"
      ]
     },
     "execution_count": 92,
     "metadata": {},
     "output_type": "execute_result"
    }
   ],
   "source": [
    "prob.value"
   ]
  },
  {
   "cell_type": "code",
   "execution_count": 93,
   "metadata": {},
   "outputs": [
    {
     "data": {
      "text/plain": [
       "'optimal'"
      ]
     },
     "execution_count": 93,
     "metadata": {},
     "output_type": "execute_result"
    }
   ],
   "source": [
    "prob.status"
   ]
  },
  {
   "cell_type": "markdown",
   "metadata": {},
   "source": [
    "Check values of variables:"
   ]
  },
  {
   "cell_type": "code",
   "execution_count": 94,
   "metadata": {},
   "outputs": [
    {
     "name": "stdout",
     "output_type": "stream",
     "text": [
      "[[-4.84400000e-01 -1.82513924e-01  1.89000000e-02]\n",
      " [ 2.59600000e-01  4.53145592e-01  6.77500000e-01]\n",
      " [ 2.81770000e+00  3.03843134e+00  3.25630000e+00]\n",
      " [ 3.47200000e+00  3.74944426e+00  3.98960000e+00]\n",
      " [-2.38090000e+00 -2.04827424e+00 -1.69850000e+00]\n",
      " [ 2.91500000e-01  5.55837400e-01  7.79400000e-01]\n",
      " [-1.06125000e+01 -1.02385652e+01 -1.00687000e+01]\n",
      " [ 2.06052000e+01  2.07227831e+01  2.14730000e+01]\n",
      " [-1.35300000e-01  3.83065947e-02  2.04600000e-01]\n",
      " [ 4.42910000e+00  4.67289930e+00  5.02670000e+00]]\n",
      "[[ -4.9972      -4.60153351  -4.3183    ]\n",
      " [ -0.7761      -0.57007228  -0.1855    ]\n",
      " [ -0.326       -0.16043454   0.0655    ]\n",
      " [ -0.9028      -0.65143897  -0.4658    ]\n",
      " [ -4.5986      -4.28710041  -4.075     ]\n",
      " [ -3.0284      -2.66302103  -2.5068    ]\n",
      " [-11.2307     -10.79450816 -10.631     ]\n",
      " [ 14.8581      14.93834527  15.5272    ]\n",
      " [ -4.6396      -4.30190157  -4.1273    ]\n",
      " [  1.5043       1.78759445   1.9495    ]]\n"
     ]
    }
   ],
   "source": [
    "for m in range(2):\n",
    "    print(np.hstack((l[m][L][:,np.newaxis], z[m][L].value[:,np.newaxis], u[m][L][:,np.newaxis])))"
   ]
  },
  {
   "cell_type": "code",
   "execution_count": 95,
   "metadata": {},
   "outputs": [
    {
     "name": "stdout",
     "output_type": "stream",
     "text": [
      "[[-21.8092     -20.90529702 -20.7402    ]\n",
      " [-20.9982     -20.2696375  -20.1598    ]\n",
      " [-18.439      -17.68435175 -17.5796    ]\n",
      " [-17.7393     -16.97333884 -16.8845    ]\n",
      " [-23.6209     -22.77105734 -22.556     ]\n",
      " [-20.9872     -20.1669457  -20.023     ]\n",
      " [-32.0199     -30.96134829 -30.7382    ]\n",
      " [-21.4513     -20.6844765  -20.5528    ]\n",
      " [-16.7583     -16.0498838  -15.8729    ]]\n",
      "[[-20.3536     -19.53987877 -19.356     ]\n",
      " [-16.0226     -15.50841754 -15.3337    ]\n",
      " [-15.6472     -15.0987798  -14.9955    ]\n",
      " [-16.2548     -15.58978424 -15.5037    ]\n",
      " [-20.0098     -19.22544567 -19.0447    ]\n",
      " [-18.411      -17.60136629 -17.5121    ]\n",
      " [-26.6582     -25.73285343 -25.5905    ]\n",
      " [-20.0739     -19.24024683 -19.085     ]\n",
      " [-13.877      -13.15075081 -13.043     ]]\n"
     ]
    }
   ],
   "source": [
    "for m in range(2):\n",
    "    print(np.hstack((diffs_l[m,yt[0],np.newaxis].T, diffs[m].value[:,np.newaxis], diffs_u[m,yt[0],np.newaxis].T)))"
   ]
  },
  {
   "cell_type": "code",
   "execution_count": 96,
   "metadata": {},
   "outputs": [
    {
     "name": "stdout",
     "output_type": "stream",
     "text": [
      "[[3.37586240e-10 8.33575200e-10 0.00000000e+00 9.83208262e-10]\n",
      " [7.59622038e-10 1.57401260e-09 0.00000000e+00 1.75675033e-09]\n",
      " [9.81847402e-09 2.08825505e-08 0.00000000e+00 2.31887140e-08]\n",
      " [1.97660482e-08 4.25179704e-08 0.00000000e+00 4.64680825e-08]\n",
      " [5.51535444e-11 1.29019506e-10 0.00000000e+00 1.59975543e-10]\n",
      " [7.68024015e-10 1.74424180e-09 0.00000000e+00 2.01428780e-09]\n",
      " [1.24146383e-14 3.57813900e-14 0.00000000e+00 4.47269505e-14]\n",
      " [9.99999796e-01 9.99999824e-01 1.00014877e+00 9.99999915e-01]\n",
      " [4.82857223e-10 1.03955128e-09 0.00000000e+00 1.18585695e-09]\n",
      " [5.27184632e-08 1.07059191e-07 0.00000000e+00 1.27787107e-07]]\n",
      "[[1.44724841e-09 3.26540714e-09 0.00000000e+00 3.92459698e-09]\n",
      " [1.10020177e-07 1.83983427e-07 0.00000000e+00 2.19107828e-07]\n",
      " [1.60142484e-07 2.77129089e-07 0.00000000e+00 3.07281358e-07]\n",
      " [8.72226513e-08 1.69606151e-07 0.00000000e+00 1.84853514e-07]\n",
      " [2.04104978e-09 4.47191870e-09 0.00000000e+00 5.35785324e-09]\n",
      " [1.00972600e-08 2.26893791e-08 0.00000000e+00 2.48079367e-08]\n",
      " [2.64539233e-12 6.67363758e-12 0.00000000e+00 7.69460111e-12]\n",
      " [9.99997084e-01 9.99997390e-01 1.00014679e+00 9.99998687e-01]\n",
      " [1.91432341e-09 4.40621655e-09 0.00000000e+00 5.14622489e-09]\n",
      " [9.40361511e-07 1.94401833e-06 0.00000000e+00 2.16518939e-06]]\n"
     ]
    }
   ],
   "source": [
    "for m in range(2):\n",
    "    print(np.hstack((sm_l[m,np.newaxis].T, softmax(z[m][L].value)[:,np.newaxis], p.value[m,np.newaxis].T, sm_u[m,np.newaxis].T)))\n",
    "#np.hstack((sm_l[:,np.newaxis], p.value[:,np.newaxis], softmax(z.value)[:,np.newaxis], sm_u[:,np.newaxis])) "
   ]
  },
  {
   "cell_type": "markdown",
   "metadata": {},
   "source": [
    "Checks for NLL:"
   ]
  },
  {
   "cell_type": "code",
   "execution_count": 86,
   "metadata": {},
   "outputs": [],
   "source": [
    "def eval_ER_l(X, diffs_l, diffs_u):\n",
    "    \"\"\"\n",
    "    Evaluate exponential-reciprocal lower bound at points in X (shape (n, d))\n",
    "    \"\"\"\n",
    "    diffs = X[:, np.arange(d)!=yt[i]] - X[:, yt[i]]\n",
    "    # Coefficients of affine function of diffs\n",
    "    a_ER_l = (np.exp(diffs_u) - np.exp(diffs_l)) / (diffs_u - diffs_l)\n",
    "    b_ER_l = ((diffs_u * np.exp(diffs_l) - diffs_l * np.exp(diffs_u)) / (diffs_u - diffs_l)).sum()\n",
    "    \n",
    "    ER_l = 1 / (1 + np.dot(diffs, a_ER_l) + b_ER_l)\n",
    "    return ER_l\n"
   ]
  },
  {
   "cell_type": "code",
   "execution_count": 87,
   "metadata": {},
   "outputs": [
    {
     "name": "stdout",
     "output_type": "stream",
     "text": [
      "[0.99999982 0.99999731 0.99999442 0.99999822 0.99999982]\n",
      "0.9999979174063347\n"
     ]
    }
   ],
   "source": [
    "pStarLB = np.empty(M)\n",
    "for m in range(M):\n",
    "    pStarLB[m] = eval_ER_l(z[m][L].value[np.newaxis, :], diffs_l[m,yt[i]], diffs_u[m,yt[i]])\n",
    "print(pStarLB)\n",
    "print(pStarLB.mean())"
   ]
  },
  {
   "cell_type": "code",
   "execution_count": 59,
   "metadata": {},
   "outputs": [
    {
     "data": {
      "text/plain": [
       "array([[0.00000000e+00, 0.00000000e+00, 0.00000000e+00, 4.39379031e-02,\n",
       "        0.00000000e+00, 0.00000000e+00, 0.00000000e+00, 9.56550423e-01,\n",
       "        0.00000000e+00, 0.00000000e+00],\n",
       "       [0.00000000e+00, 0.00000000e+00, 0.00000000e+00, 6.98974965e-04,\n",
       "        4.09905492e-04, 0.00000000e+00, 0.00000000e+00, 9.98806388e-01,\n",
       "        0.00000000e+00, 2.46739434e-04],\n",
       "       [0.00000000e+00, 0.00000000e+00, 0.00000000e+00, 3.84481034e-02,\n",
       "        0.00000000e+00, 0.00000000e+00, 0.00000000e+00, 9.61805972e-01,\n",
       "        0.00000000e+00, 0.00000000e+00],\n",
       "       [0.00000000e+00, 0.00000000e+00, 0.00000000e+00, 7.35546139e-03,\n",
       "        0.00000000e+00, 0.00000000e+00, 0.00000000e+00, 9.92942288e-01,\n",
       "        0.00000000e+00, 0.00000000e+00],\n",
       "       [0.00000000e+00, 0.00000000e+00, 0.00000000e+00, 1.91213624e-03,\n",
       "        0.00000000e+00, 0.00000000e+00, 0.00000000e+00, 9.98320098e-01,\n",
       "        0.00000000e+00, 0.00000000e+00]])"
      ]
     },
     "execution_count": 59,
     "metadata": {},
     "output_type": "execute_result"
    }
   ],
   "source": [
    "p.value"
   ]
  },
  {
   "cell_type": "markdown",
   "metadata": {},
   "source": [
    "Checks for Brier score:"
   ]
  },
  {
   "cell_type": "code",
   "execution_count": 97,
   "metadata": {},
   "outputs": [
    {
     "data": {
      "text/plain": [
       "array([[8.33575200e-10, 1.57401260e-09, 2.08825505e-08, 4.25179704e-08,\n",
       "        1.29019506e-10, 1.74424180e-09, 3.57813900e-14, 9.99999824e-01,\n",
       "        1.03955128e-09, 1.07059191e-07],\n",
       "       [3.26540714e-09, 1.83983427e-07, 2.77129089e-07, 1.69606151e-07,\n",
       "        4.47191870e-09, 2.26893791e-08, 6.67363758e-12, 9.99997390e-01,\n",
       "        4.40621655e-09, 1.94401833e-06],\n",
       "       [9.91318486e-10, 1.79087915e-06, 2.63181163e-07, 2.72770824e-07,\n",
       "        3.59947649e-09, 1.86838454e-08, 5.17861340e-11, 9.99994558e-01,\n",
       "        2.02962857e-08, 3.07133387e-06],\n",
       "       [1.48308858e-08, 2.21600511e-07, 1.24017626e-07, 2.66245996e-07,\n",
       "        1.00134027e-08, 8.96370714e-09, 1.81212385e-11, 9.99998300e-01,\n",
       "        3.30181197e-08, 1.02107053e-06],\n",
       "       [1.35180894e-09, 6.41169169e-09, 3.81449446e-09, 5.38965535e-09,\n",
       "        1.13770923e-10, 1.46534999e-11, 8.84019444e-14, 9.99999824e-01,\n",
       "        2.07487374e-11, 1.59120954e-07]])"
      ]
     },
     "execution_count": 97,
     "metadata": {},
     "output_type": "execute_result"
    }
   ],
   "source": [
    "logits = np.empty((M, d))\n",
    "for m in range(M):\n",
    "    logits[m] = z[m][L].value\n",
    "softmax(logits, axis=1)"
   ]
  },
  {
   "cell_type": "code",
   "execution_count": 98,
   "metadata": {},
   "outputs": [
    {
     "data": {
      "text/plain": [
       "5.908412638084522e-12"
      ]
     },
     "execution_count": 98,
     "metadata": {},
     "output_type": "execute_result"
    }
   ],
   "source": [
    "((softmax(logits, axis=1).mean(axis=0) - (np.arange(d) == yt[0]))**2).sum()"
   ]
  },
  {
   "cell_type": "code",
   "execution_count": 99,
   "metadata": {},
   "outputs": [
    {
     "data": {
      "text/plain": [
       "7.5838336255096e-12"
      ]
     },
     "execution_count": 99,
     "metadata": {},
     "output_type": "execute_result"
    }
   ],
   "source": [
    "test = sm_u.copy()\n",
    "test[:, yt[i]] = sm_l[:, yt[i]]\n",
    "((test.mean(axis=0) - (np.arange(d) == yt[i]))**2).sum()"
   ]
  },
  {
   "cell_type": "code",
   "execution_count": 100,
   "metadata": {},
   "outputs": [
    {
     "data": {
      "text/plain": [
       "array([5.32663151e-09, 5.03510870e-07, 1.56997435e-07, 1.72206533e-07,\n",
       "       4.35388337e-09, 1.19820561e-08, 1.88733534e-11, 9.99997709e-01,\n",
       "       1.34576652e-08, 1.42336365e-06])"
      ]
     },
     "execution_count": 100,
     "metadata": {},
     "output_type": "execute_result"
    }
   ],
   "source": [
    "test.mean(axis=0)"
   ]
  },
  {
   "cell_type": "code",
   "execution_count": 101,
   "metadata": {},
   "outputs": [
    {
     "data": {
      "text/plain": [
       "-5.063403030192148e-10"
      ]
     },
     "execution_count": 101,
     "metadata": {},
     "output_type": "execute_result"
    }
   ],
   "source": [
    "-(2 - sm_l[:, yt[i]].mean() - sm_u[:, yt[i]].mean()) * p.value[:, yt[i]].mean() + (sm_l[:, others].mean(axis=0) + sm_u[:, others].mean(axis=0)) @ p.value[:, others].mean(axis=0) - np.dot(sm_l.mean(axis=0), sm_u.mean(axis=0)) + 1 "
   ]
  },
  {
   "cell_type": "code",
   "execution_count": 102,
   "metadata": {},
   "outputs": [
    {
     "data": {
      "text/plain": [
       "7.583933481214444e-12"
      ]
     },
     "execution_count": 102,
     "metadata": {},
     "output_type": "execute_result"
    }
   ],
   "source": [
    "-(2 - sm_l[:, yt[i]].mean() - sm_u[:, yt[i]].mean()) * test[:,yt[i]].mean() + (sm_l[:, others].mean(axis=0) + sm_u[:, others].mean(axis=0)) @ test[:,others].mean(axis=0) - np.dot(sm_l.mean(axis=0), sm_u.mean(axis=0)) + 1 "
   ]
  },
  {
   "cell_type": "code",
   "execution_count": null,
   "metadata": {},
   "outputs": [],
   "source": []
  },
  {
   "cell_type": "markdown",
   "metadata": {},
   "source": [
    "## OLD"
   ]
  },
  {
   "cell_type": "markdown",
   "metadata": {},
   "source": [
    "#### Hidden layer 1"
   ]
  },
  {
   "cell_type": "code",
   "execution_count": 705,
   "metadata": {},
   "outputs": [
    {
     "data": {
      "text/plain": [
       "(array([-1.2855,  0.6487,  0.5012, -3.622 , -2.8138, -0.5145,  2.1417,\n",
       "         1.1181,  2.7157,  7.5092]),\n",
       " array([ 2.1951,  4.4368,  3.454 , -0.8622,  0.0459,  3.5994,  4.9922,\n",
       "         4.9872,  6.7239, 10.9493]))"
      ]
     },
     "execution_count": 705,
     "metadata": {},
     "output_type": "execute_result"
    }
   ],
   "source": [
    "l0 = np.array(lbs[1])\n",
    "u0 = np.array(ubs[1])\n",
    "l0, u0"
   ]
  },
  {
   "cell_type": "code",
   "execution_count": 706,
   "metadata": {},
   "outputs": [],
   "source": [
    "# Drop inactive neurons\n",
    "inactive0 = u0 <= 0\n",
    "w0 = w0[:, ~inactive0]\n",
    "b0 = b0[~inactive0]\n",
    "l0 = l0[~inactive0]\n",
    "u0 = u0[~inactive0]"
   ]
  },
  {
   "cell_type": "code",
   "execution_count": 707,
   "metadata": {},
   "outputs": [
    {
     "data": {
      "text/plain": [
       "(9, 10)"
      ]
     },
     "execution_count": 707,
     "metadata": {},
     "output_type": "execute_result"
    }
   ],
   "source": [
    "w1 = w1[~inactive0, :]\n",
    "w1.shape"
   ]
  },
  {
   "cell_type": "code",
   "execution_count": 708,
   "metadata": {},
   "outputs": [
    {
     "data": {
      "text/plain": [
       "(array([-1.2855,  0.6487,  0.5012, -2.8138, -0.5145,  2.1417,  1.1181,\n",
       "         2.7157,  7.5092]),\n",
       " array([ 2.1951,  4.4368,  3.454 ,  0.0459,  3.5994,  4.9922,  4.9872,\n",
       "         6.7239, 10.9493]))"
      ]
     },
     "execution_count": 708,
     "metadata": {},
     "output_type": "execute_result"
    }
   ],
   "source": [
    "w0.shape, b0.shape\n",
    "l0, u0"
   ]
  },
  {
   "cell_type": "code",
   "execution_count": 709,
   "metadata": {},
   "outputs": [
    {
     "data": {
      "text/plain": [
       "(array([False,  True,  True, False, False,  True,  True,  True,  True]),\n",
       " array([ True, False, False,  True,  True, False, False, False, False]))"
      ]
     },
     "execution_count": 709,
     "metadata": {},
     "output_type": "execute_result"
    }
   ],
   "source": [
    "unstable0 = l0 < 0\n",
    "active0 = ~unstable0\n",
    "active0, unstable0"
   ]
  },
  {
   "cell_type": "code",
   "execution_count": 710,
   "metadata": {},
   "outputs": [],
   "source": [
    "nActive = active0.sum()\n",
    "nUnstable = unstable0.sum()\n",
    "#xa1 = cvx.Variable(nActive)\n",
    "xu1 = cvx.Variable(nUnstable, nonneg=True)"
   ]
  },
  {
   "cell_type": "code",
   "execution_count": 650,
   "metadata": {},
   "outputs": [
    {
     "data": {
      "text/plain": [
       "[Inequality(Constant(CONSTANT, NONNEGATIVE, (784,))),\n",
       " Inequality(Variable((784,))),\n",
       " Equality(Variable((6,)), Expression(AFFINE, UNKNOWN, (6,)))]"
      ]
     },
     "execution_count": 650,
     "metadata": {},
     "output_type": "execute_result"
    }
   ],
   "source": [
    "cons.append(xa1 == x0 @ w0[:, active0] + b0[active0])\n",
    "cons"
   ]
  },
  {
   "cell_type": "code",
   "execution_count": 651,
   "metadata": {},
   "outputs": [
    {
     "data": {
      "text/plain": [
       "[Inequality(Constant(CONSTANT, NONNEGATIVE, (784,))),\n",
       " Inequality(Variable((784,))),\n",
       " Equality(Variable((6,)), Expression(AFFINE, UNKNOWN, (6,))),\n",
       " Inequality(Constant(CONSTANT, NONNEGATIVE, (6,))),\n",
       " Inequality(Variable((6,)))]"
      ]
     },
     "execution_count": 651,
     "metadata": {},
     "output_type": "execute_result"
    }
   ],
   "source": [
    "cons += [xa1 >= l0[active0], xa1 <= u0[active0]]\n",
    "cons"
   ]
  },
  {
   "cell_type": "code",
   "execution_count": 711,
   "metadata": {},
   "outputs": [
    {
     "data": {
      "text/plain": [
       "Expression(AFFINE, UNKNOWN, (6,))"
      ]
     },
     "execution_count": 711,
     "metadata": {},
     "output_type": "execute_result"
    }
   ],
   "source": [
    "xa1 = x0 @ w0[:, active0] + b0[active0]\n",
    "xa1"
   ]
  },
  {
   "cell_type": "code",
   "execution_count": 712,
   "metadata": {},
   "outputs": [
    {
     "data": {
      "text/plain": [
       "[Inequality(Constant(CONSTANT, NONNEGATIVE, (784,))),\n",
       " Inequality(Variable((784,))),\n",
       " Inequality(Expression(AFFINE, UNKNOWN, (3,)))]"
      ]
     },
     "execution_count": 712,
     "metadata": {},
     "output_type": "execute_result"
    }
   ],
   "source": [
    "cons.append(xu1 >= x0 @ w0[:, unstable0] + b0[unstable0])\n",
    "cons"
   ]
  },
  {
   "cell_type": "code",
   "execution_count": 713,
   "metadata": {},
   "outputs": [
    {
     "data": {
      "text/plain": [
       "[Inequality(Constant(CONSTANT, NONNEGATIVE, (784,))),\n",
       " Inequality(Variable((784,))),\n",
       " Inequality(Expression(AFFINE, UNKNOWN, (3,))),\n",
       " Inequality(Variable((3,), nonneg=True))]"
      ]
     },
     "execution_count": 713,
     "metadata": {},
     "output_type": "execute_result"
    }
   ],
   "source": [
    "g0 = u0[unstable0] / (u0[unstable0] - l0[unstable0])\n",
    "cons.append(xu1 <= cvx.multiply(g0, x0 @ w0[:, unstable0] + b0[unstable0] - l0[unstable0]))\n",
    "cons"
   ]
  },
  {
   "cell_type": "markdown",
   "metadata": {},
   "source": [
    "#### Hidden layer 2"
   ]
  },
  {
   "cell_type": "code",
   "execution_count": 714,
   "metadata": {},
   "outputs": [
    {
     "data": {
      "text/plain": [
       "(array([-0.3692,  1.4975, -6.9588, -1.2922,  5.5931,  2.4842, -1.4013,\n",
       "         6.9371, -1.712 ,  0.181 ]),\n",
       " array([ 3.3785,  4.9457, -2.9962,  1.5076, 11.3816,  6.3993,  1.7474,\n",
       "        12.2549,  1.71  ,  3.7962]))"
      ]
     },
     "execution_count": 714,
     "metadata": {},
     "output_type": "execute_result"
    }
   ],
   "source": [
    "l1 = np.array(lbs[3])\n",
    "u1 = np.array(ubs[3])\n",
    "l1, u1"
   ]
  },
  {
   "cell_type": "code",
   "execution_count": 715,
   "metadata": {},
   "outputs": [],
   "source": [
    "# Drop inactive neurons\n",
    "inactive1 = u1 <= 0\n",
    "w1 = w1[:, ~inactive1]\n",
    "b1 = b1[~inactive1]\n",
    "l1 = l1[~inactive1]\n",
    "u1 = u1[~inactive1]\n",
    "w2 = w2[~inactive1, :]"
   ]
  },
  {
   "cell_type": "code",
   "execution_count": 716,
   "metadata": {},
   "outputs": [
    {
     "name": "stdout",
     "output_type": "stream",
     "text": [
      "(9, 9) (9,) (9, 10)\n"
     ]
    },
    {
     "data": {
      "text/plain": [
       "(array([-0.3692,  1.4975, -1.2922,  5.5931,  2.4842, -1.4013,  6.9371,\n",
       "        -1.712 ,  0.181 ]),\n",
       " array([ 3.3785,  4.9457,  1.5076, 11.3816,  6.3993,  1.7474, 12.2549,\n",
       "         1.71  ,  3.7962]))"
      ]
     },
     "execution_count": 716,
     "metadata": {},
     "output_type": "execute_result"
    }
   ],
   "source": [
    "print(w1.shape, b1.shape, w2.shape)\n",
    "l1, u1"
   ]
  },
  {
   "cell_type": "code",
   "execution_count": 717,
   "metadata": {},
   "outputs": [
    {
     "data": {
      "text/plain": [
       "(array([False,  True, False,  True,  True, False,  True, False,  True]),\n",
       " array([ True, False,  True, False, False,  True, False,  True, False]))"
      ]
     },
     "execution_count": 717,
     "metadata": {},
     "output_type": "execute_result"
    }
   ],
   "source": [
    "unstable1 = l1 < 0\n",
    "active1 = ~unstable1\n",
    "active1, unstable1"
   ]
  },
  {
   "cell_type": "code",
   "execution_count": 718,
   "metadata": {},
   "outputs": [],
   "source": [
    "nActive = active1.sum()\n",
    "nUnstable = unstable1.sum()\n",
    "#xa2 = cvx.Variable(nActive)\n",
    "xu2 = cvx.Variable(nUnstable, nonneg=True)"
   ]
  },
  {
   "cell_type": "code",
   "execution_count": 659,
   "metadata": {},
   "outputs": [
    {
     "data": {
      "text/plain": [
       "[Inequality(Constant(CONSTANT, NONNEGATIVE, (784,))),\n",
       " Inequality(Variable((784,))),\n",
       " Equality(Variable((6,)), Expression(AFFINE, UNKNOWN, (6,))),\n",
       " Inequality(Constant(CONSTANT, NONNEGATIVE, (6,))),\n",
       " Inequality(Variable((6,))),\n",
       " Inequality(Expression(AFFINE, UNKNOWN, (3,))),\n",
       " Inequality(Variable((3,), nonneg=True)),\n",
       " Equality(Variable((5,)), Expression(AFFINE, UNKNOWN, (5,)))]"
      ]
     },
     "execution_count": 659,
     "metadata": {},
     "output_type": "execute_result"
    }
   ],
   "source": [
    "# indices of active and unstable should be one greater\n",
    "cons.append(xa2 == xa1 @ w1[np.ix_(active0, active1)] + xu1 @ w1[np.ix_(unstable0, active1)] + b1[active1])\n",
    "cons"
   ]
  },
  {
   "cell_type": "code",
   "execution_count": 660,
   "metadata": {},
   "outputs": [
    {
     "data": {
      "text/plain": [
       "[Inequality(Constant(CONSTANT, NONNEGATIVE, (784,))),\n",
       " Inequality(Variable((784,))),\n",
       " Equality(Variable((6,)), Expression(AFFINE, UNKNOWN, (6,))),\n",
       " Inequality(Constant(CONSTANT, NONNEGATIVE, (6,))),\n",
       " Inequality(Variable((6,))),\n",
       " Inequality(Expression(AFFINE, UNKNOWN, (3,))),\n",
       " Inequality(Variable((3,), nonneg=True)),\n",
       " Equality(Variable((5,)), Expression(AFFINE, UNKNOWN, (5,))),\n",
       " Inequality(Constant(CONSTANT, NONNEGATIVE, (5,))),\n",
       " Inequality(Variable((5,)))]"
      ]
     },
     "execution_count": 660,
     "metadata": {},
     "output_type": "execute_result"
    }
   ],
   "source": [
    "cons += [xa2 >= l1[active1], xa2 <= u1[active1]]\n",
    "cons"
   ]
  },
  {
   "cell_type": "code",
   "execution_count": 719,
   "metadata": {},
   "outputs": [
    {
     "data": {
      "text/plain": [
       "Expression(AFFINE, UNKNOWN, (5,))"
      ]
     },
     "execution_count": 719,
     "metadata": {},
     "output_type": "execute_result"
    }
   ],
   "source": [
    "xa2 = xa1 @ w1[np.ix_(active0, active1)] + xu1 @ w1[np.ix_(unstable0, active1)] + b1[active1]\n",
    "xa2"
   ]
  },
  {
   "cell_type": "code",
   "execution_count": 720,
   "metadata": {},
   "outputs": [
    {
     "data": {
      "text/plain": [
       "[Inequality(Constant(CONSTANT, NONNEGATIVE, (784,))),\n",
       " Inequality(Variable((784,))),\n",
       " Inequality(Expression(AFFINE, UNKNOWN, (3,))),\n",
       " Inequality(Variable((3,), nonneg=True)),\n",
       " Inequality(Expression(AFFINE, UNKNOWN, (4,)))]"
      ]
     },
     "execution_count": 720,
     "metadata": {},
     "output_type": "execute_result"
    }
   ],
   "source": [
    "cons.append(xu2 >= xa1 @ w1[np.ix_(active0, unstable1)] + xu1 @ w1[np.ix_(unstable0, unstable1)] + b1[unstable1])\n",
    "cons"
   ]
  },
  {
   "cell_type": "code",
   "execution_count": 721,
   "metadata": {
    "scrolled": true
   },
   "outputs": [
    {
     "data": {
      "text/plain": [
       "[Inequality(Constant(CONSTANT, NONNEGATIVE, (784,))),\n",
       " Inequality(Variable((784,))),\n",
       " Inequality(Expression(AFFINE, UNKNOWN, (3,))),\n",
       " Inequality(Variable((3,), nonneg=True)),\n",
       " Inequality(Expression(AFFINE, UNKNOWN, (4,))),\n",
       " Inequality(Variable((4,), nonneg=True))]"
      ]
     },
     "execution_count": 721,
     "metadata": {},
     "output_type": "execute_result"
    }
   ],
   "source": [
    "g1 = u1[unstable1] / (u1[unstable1] - l1[unstable1])\n",
    "cons.append(xu2 <= cvx.multiply(g1, xa1 @ w1[np.ix_(active0, unstable1)] + xu1 @ w1[np.ix_(unstable0, unstable1)] + b1[unstable1] - l1[unstable1]))\n",
    "cons"
   ]
  },
  {
   "cell_type": "markdown",
   "metadata": {},
   "source": [
    "#### Logits"
   ]
  },
  {
   "cell_type": "code",
   "execution_count": 663,
   "metadata": {},
   "outputs": [],
   "source": [
    "z = cvx.Variable(10)"
   ]
  },
  {
   "cell_type": "code",
   "execution_count": 613,
   "metadata": {},
   "outputs": [],
   "source": [
    "cons = []"
   ]
  },
  {
   "cell_type": "code",
   "execution_count": 665,
   "metadata": {},
   "outputs": [
    {
     "data": {
      "text/plain": [
       "[Inequality(Constant(CONSTANT, NONNEGATIVE, (784,))),\n",
       " Inequality(Variable((784,))),\n",
       " Equality(Variable((6,)), Expression(AFFINE, UNKNOWN, (6,))),\n",
       " Inequality(Constant(CONSTANT, NONNEGATIVE, (6,))),\n",
       " Inequality(Variable((6,))),\n",
       " Inequality(Expression(AFFINE, UNKNOWN, (3,))),\n",
       " Inequality(Variable((3,), nonneg=True)),\n",
       " Equality(Variable((5,)), Expression(AFFINE, UNKNOWN, (5,))),\n",
       " Inequality(Constant(CONSTANT, NONNEGATIVE, (5,))),\n",
       " Inequality(Variable((5,))),\n",
       " Inequality(Expression(AFFINE, UNKNOWN, (4,))),\n",
       " Inequality(Variable((4,), nonneg=True)),\n",
       " Inequality(Constant(CONSTANT, UNKNOWN, (10,))),\n",
       " Inequality(Variable((10,)))]"
      ]
     },
     "execution_count": 665,
     "metadata": {},
     "output_type": "execute_result"
    }
   ],
   "source": [
    "cons += [z >= l2, z <= u2]\n",
    "cons"
   ]
  },
  {
   "cell_type": "code",
   "execution_count": 666,
   "metadata": {
    "scrolled": true
   },
   "outputs": [
    {
     "data": {
      "text/plain": [
       "[Inequality(Constant(CONSTANT, NONNEGATIVE, (784,))),\n",
       " Inequality(Variable((784,))),\n",
       " Equality(Variable((6,)), Expression(AFFINE, UNKNOWN, (6,))),\n",
       " Inequality(Constant(CONSTANT, NONNEGATIVE, (6,))),\n",
       " Inequality(Variable((6,))),\n",
       " Inequality(Expression(AFFINE, UNKNOWN, (3,))),\n",
       " Inequality(Variable((3,), nonneg=True)),\n",
       " Equality(Variable((5,)), Expression(AFFINE, UNKNOWN, (5,))),\n",
       " Inequality(Constant(CONSTANT, NONNEGATIVE, (5,))),\n",
       " Inequality(Variable((5,))),\n",
       " Inequality(Expression(AFFINE, UNKNOWN, (4,))),\n",
       " Inequality(Variable((4,), nonneg=True)),\n",
       " Inequality(Constant(CONSTANT, UNKNOWN, (10,))),\n",
       " Inequality(Variable((10,))),\n",
       " Equality(Variable((10,)), Expression(AFFINE, UNKNOWN, (10,)))]"
      ]
     },
     "execution_count": 666,
     "metadata": {},
     "output_type": "execute_result"
    }
   ],
   "source": [
    "cons.append(z == xa2 @ w2[active1, :] + xu2 @ w2[unstable1, :] + b2)\n",
    "cons"
   ]
  },
  {
   "cell_type": "markdown",
   "metadata": {},
   "source": [
    "#### Score function upper bound"
   ]
  },
  {
   "cell_type": "markdown",
   "metadata": {},
   "source": [
    "Negative log-likelihood, using LSE lower bound 1:"
   ]
  },
  {
   "cell_type": "code",
   "execution_count": 36,
   "metadata": {},
   "outputs": [],
   "source": [
    "score_ub = cvx.log(cvx.sum((cvx.multiply(np.exp(l2), u2 - z) + cvx.multiply(np.exp(u2), z - l2)) / (u2 - l2))) - z[yt[0]]"
   ]
  },
  {
   "cell_type": "markdown",
   "metadata": {},
   "source": [
    "#### Solve problem"
   ]
  },
  {
   "cell_type": "code",
   "execution_count": 371,
   "metadata": {},
   "outputs": [],
   "source": [
    "j = yt[0]\n",
    "obj = cvx.power(1 + cvx.sum((cvx.multiply(np.exp(diffs_l[j]), diffs_u[j] - diffs[j]) + cvx.multiply(np.exp(diffs_u[j]), diffs[j] - diffs_l[j])) / (diffs_u[j] - diffs_l[j])), -1)\n",
    "#obj = cvx.log(1 + cvx.sum((cvx.multiply(np.exp(diffs_l[j]), diffs_u[j] - diffs[j]) + cvx.multiply(np.exp(diffs_u[j]), diffs[j] - diffs_l[j])) / (diffs_u[j] - diffs_l[j])))\n",
    "#prob = cvx.Problem(cvx.Maximize(obj), cons)\n",
    "#prob = cvx.Problem(cvx.Minimize(obj), cons)\n",
    "bnds = []\n",
    "for j in [0, 3, 9]:\n",
    "    bnds.append(p[j] <= sm_l[j] + sm_u[j] - sm_l[j] * sm_u[j] * (1 + cvx.sum(cvx.exp(diffs[j]))) )\n",
    "prob = cvx.Problem(cvx.Minimize(p[yt[0]]), cons + [p[yt[0]] >= obj, cvx.sum(p) == 1] + bnds)"
   ]
  },
  {
   "cell_type": "markdown",
   "metadata": {},
   "source": [
    "## Scratch"
   ]
  },
  {
   "cell_type": "code",
   "execution_count": 85,
   "metadata": {},
   "outputs": [
    {
     "data": {
      "text/plain": [
       "0.9966685287667276"
      ]
     },
     "execution_count": 85,
     "metadata": {},
     "output_type": "execute_result"
    }
   ],
   "source": [
    "sm_l + sm_u - sm_l * sm_u * (1 + np.exp(z.value[others] - z.value[yt[0]]).sum())"
   ]
  },
  {
   "cell_type": "code",
   "execution_count": 86,
   "metadata": {},
   "outputs": [
    {
     "data": {
      "text/plain": [
       "0.9966673006736713"
      ]
     },
     "execution_count": 86,
     "metadata": {},
     "output_type": "execute_result"
    }
   ],
   "source": [
    "(lsm_u * sm_l - lsm_l * sm_u - (sm_u - sm_l) * (logsumexp(z.value) - z.value[yt[0]])) / (lsm_u - lsm_l)"
   ]
  },
  {
   "cell_type": "code",
   "execution_count": 212,
   "metadata": {},
   "outputs": [],
   "source": [
    "def eval_hybrid_l(X, l, u):\n",
    "    \"\"\"\n",
    "    Evaluate hybrid LSE-ER lower bound at points in X (shape (n, d))\n",
    "    \"\"\"\n",
    "    # Linear upper bound on sum of exponentials\n",
    "    a = (np.exp(u) - np.exp(l)) / (u - l)\n",
    "    b = ((u * np.exp(l) - l * np.exp(u)) / (u - l)).sum()\n",
    "    se_u = np.dot(X, a) + b\n",
    "    hybrid_l = np.exp(X[:, yt[0]]) / se_u\n",
    "    return hybrid_l\n"
   ]
  },
  {
   "cell_type": "code",
   "execution_count": 214,
   "metadata": {},
   "outputs": [
    {
     "data": {
      "text/plain": [
       "array([0.58342397])"
      ]
     },
     "execution_count": 214,
     "metadata": {},
     "output_type": "execute_result"
    }
   ],
   "source": [
    "-np.log(eval_hybrid_l(z.value[np.newaxis, :], l2, u2))"
   ]
  },
  {
   "cell_type": "code",
   "execution_count": 241,
   "metadata": {},
   "outputs": [],
   "source": [
    "prob = cvx.Problem(cvx.Minimize(z[7] - z[0]), cons)"
   ]
  },
  {
   "cell_type": "code",
   "execution_count": 242,
   "metadata": {},
   "outputs": [
    {
     "data": {
      "text/plain": [
       "8.720675386749766"
      ]
     },
     "execution_count": 242,
     "metadata": {},
     "output_type": "execute_result"
    }
   ],
   "source": [
    "prob.solve(solver='SCS')"
   ]
  },
  {
   "cell_type": "code",
   "execution_count": 244,
   "metadata": {},
   "outputs": [
    {
     "data": {
      "text/plain": [
       "(array([ -5.1751,  -6.4589,  -3.4669,  -2.0331,  -4.7503,  -4.8355,\n",
       "        -11.6982,   5.8715,  -6.908 ,  -1.0644]),\n",
       " array([-2.0966, -3.9739, -1.5482, -0.4229, -1.8881, -2.5569, -8.2361,\n",
       "         8.0983, -5.2155,  0.9379]))"
      ]
     },
     "execution_count": 244,
     "metadata": {},
     "output_type": "execute_result"
    }
   ],
   "source": [
    "l2, u2"
   ]
  },
  {
   "cell_type": "code",
   "execution_count": 245,
   "metadata": {},
   "outputs": [
    {
     "data": {
      "text/plain": [
       "array([-2.29431912, -5.31180294, -2.39607773, -1.14592626, -3.09482053,\n",
       "       -2.99467201, -9.1358624 ,  6.42635627, -5.42358417, -0.22449742])"
      ]
     },
     "execution_count": 245,
     "metadata": {},
     "output_type": "execute_result"
    }
   ],
   "source": [
    "z.value"
   ]
  },
  {
   "cell_type": "code",
   "execution_count": 247,
   "metadata": {},
   "outputs": [
    {
     "data": {
      "text/plain": [
       "array([3.80762831e-02, 6.93499081e-03, 9.45518951e-02, 3.25559019e-01,\n",
       "       4.98602537e-02, 3.05459673e-02, 7.41187851e-05, 1.31762686e+03,\n",
       "       2.61858885e-03, 1.10356907e+00])"
      ]
     },
     "execution_count": 247,
     "metadata": {},
     "output_type": "execute_result"
    }
   ],
   "source": [
    "a = (np.exp(u2) - np.exp(l2)) / (u2 - l2)\n",
    "a"
   ]
  },
  {
   "cell_type": "code",
   "execution_count": 249,
   "metadata": {},
   "outputs": [
    {
     "data": {
      "text/plain": [
       "-7378.323749876522"
      ]
     },
     "execution_count": 249,
     "metadata": {},
     "output_type": "execute_result"
    }
   ],
   "source": [
    "b = ((u2 * np.exp(l2) - l2 * np.exp(u2)) / (u2 - l2)).sum()\n",
    "b"
   ]
  },
  {
   "cell_type": "code",
   "execution_count": 251,
   "metadata": {},
   "outputs": [
    {
     "data": {
      "text/plain": [
       "1087.9836312842463"
      ]
     },
     "execution_count": 251,
     "metadata": {},
     "output_type": "execute_result"
    }
   ],
   "source": [
    "se_u = np.dot(z.value, a) + b\n",
    "se_u"
   ]
  },
  {
   "cell_type": "code",
   "execution_count": 252,
   "metadata": {},
   "outputs": [
    {
     "data": {
      "text/plain": [
       "617.9183117110357"
      ]
     },
     "execution_count": 252,
     "metadata": {},
     "output_type": "execute_result"
    }
   ],
   "source": [
    "np.exp(z.value[yt[0]])"
   ]
  },
  {
   "cell_type": "code",
   "execution_count": 258,
   "metadata": {},
   "outputs": [
    {
     "data": {
      "text/plain": [
       "array([0.99328834])"
      ]
     },
     "execution_count": 258,
     "metadata": {},
     "output_type": "execute_result"
    }
   ],
   "source": [
    "diffs_l = l2[np.arange(10)!=yt[0]] - u2[yt[0]]\n",
    "diffs_u = u2[np.arange(10)!=yt[0]] - l2[yt[0]]\n",
    "eval_ER_l(z.value[np.newaxis, :], diffs_l, diffs_u)"
   ]
  },
  {
   "cell_type": "code",
   "execution_count": 261,
   "metadata": {},
   "outputs": [
    {
     "data": {
      "text/plain": [
       "array([-12.5444, -14.0241, -10.9431,  -9.7428, -11.891 , -12.4112,\n",
       "       -19.1028, -14.6832,  -8.0356])"
      ]
     },
     "execution_count": 261,
     "metadata": {},
     "output_type": "execute_result"
    }
   ],
   "source": [
    "np.array(lbs[6])[63:72]"
   ]
  },
  {
   "cell_type": "code",
   "execution_count": 263,
   "metadata": {},
   "outputs": [
    {
     "data": {
      "text/plain": [
       "array([0.99679823])"
      ]
     },
     "execution_count": 263,
     "metadata": {},
     "output_type": "execute_result"
    }
   ],
   "source": [
    "eval_ER_l(z.value[np.newaxis, :], np.array(lbs[6])[63:72], np.array(ubs[6])[63:72])"
   ]
  },
  {
   "cell_type": "code",
   "execution_count": 273,
   "metadata": {},
   "outputs": [],
   "source": [
    "diffs_l = np.array(lbs[6])[63:72]\n",
    "diffs_u = np.array(ubs[6])[63:72]"
   ]
  },
  {
   "cell_type": "code",
   "execution_count": 274,
   "metadata": {},
   "outputs": [
    {
     "data": {
      "text/plain": [
       "(0.9958275057469839, 0.9995843211162739)"
      ]
     },
     "execution_count": 274,
     "metadata": {},
     "output_type": "execute_result"
    }
   ],
   "source": [
    "sm_l = 1 / (1 + np.exp(diffs_u).sum())\n",
    "sm_u = 1 / (1 + np.exp(diffs_l).sum())\n",
    "sm_l, sm_u"
   ]
  },
  {
   "cell_type": "code",
   "execution_count": 280,
   "metadata": {},
   "outputs": [
    {
     "data": {
      "text/plain": [
       "(-0.004181223397159428, -0.000415765302142292)"
      ]
     },
     "execution_count": 280,
     "metadata": {},
     "output_type": "execute_result"
    }
   ],
   "source": [
    "lsm_l = np.log(sm_l)\n",
    "lsm_u = np.log(sm_u)\n",
    "lsm_l, lsm_u"
   ]
  },
  {
   "cell_type": "code",
   "execution_count": 275,
   "metadata": {},
   "outputs": [
    {
     "data": {
      "text/plain": [
       "(-7.78518174460023, -5.475060056379923)"
      ]
     },
     "execution_count": 275,
     "metadata": {},
     "output_type": "execute_result"
    }
   ],
   "source": [
    "from scipy.special import logsumexp\n",
    "lse_l = logsumexp(diffs_l)\n",
    "lse_u = logsumexp(diffs_u)\n",
    "lse_l, lse_u"
   ]
  },
  {
   "cell_type": "code",
   "execution_count": 276,
   "metadata": {},
   "outputs": [
    {
     "name": "stdout",
     "output_type": "stream",
     "text": [
      "[-12.5444 -14.0241 -10.9431  -9.7428 -11.891  -12.4112 -19.1028 -14.6832\n",
      "  -8.0356]\n",
      "[ -8.72067539 -11.73815921  -8.82243399  -7.57228252  -9.5211768\n",
      "  -9.42102828 -15.56221867 -11.84994043  -6.65085369]\n",
      "[ -8.7134 -10.4332  -8.1062  -6.7326  -8.7978  -8.9615 -14.8448 -11.3933\n",
      "  -6.1138]\n"
     ]
    }
   ],
   "source": [
    "diffs = z.value[np.arange(10)!=yt[0]] - z.value[yt[0]]\n",
    "print(diffs_l)\n",
    "print(diffs)\n",
    "print(diffs_u)"
   ]
  },
  {
   "cell_type": "code",
   "execution_count": 272,
   "metadata": {},
   "outputs": [
    {
     "data": {
      "text/plain": [
       "-6.080259301010307"
      ]
     },
     "execution_count": 272,
     "metadata": {},
     "output_type": "execute_result"
    }
   ],
   "source": [
    "logsumexp(diffs)"
   ]
  },
  {
   "cell_type": "code",
   "execution_count": 277,
   "metadata": {},
   "outputs": [
    {
     "data": {
      "text/plain": [
       "-5.740845292030437"
      ]
     },
     "execution_count": 277,
     "metadata": {},
     "output_type": "execute_result"
    }
   ],
   "source": [
    "a = (np.exp(diffs_u) - np.exp(diffs_l)) / (diffs_u - diffs_l)\n",
    "b = ((diffs_u * np.exp(diffs_l) - diffs_l * np.exp(diffs_u)) / (diffs_u - diffs_l)).sum()\n",
    "np.log(np.dot(diffs, a) + b)"
   ]
  },
  {
   "cell_type": "code",
   "execution_count": 281,
   "metadata": {},
   "outputs": [
    {
     "data": {
      "text/plain": [
       "0.996259016883389"
      ]
     },
     "execution_count": 281,
     "metadata": {},
     "output_type": "execute_result"
    }
   ],
   "source": [
    "np.exp((lse_u * lsm_u - lse_l * lsm_l - (lsm_u - lsm_l) * np.log(np.dot(diffs, a) + b)) / (lse_u - lse_l))"
   ]
  },
  {
   "cell_type": "code",
   "execution_count": 282,
   "metadata": {},
   "outputs": [
    {
     "data": {
      "text/plain": [
       "0.9967982322390713"
      ]
     },
     "execution_count": 282,
     "metadata": {},
     "output_type": "execute_result"
    }
   ],
   "source": [
    "1 / (1 + np.dot(diffs, a) + b)"
   ]
  },
  {
   "cell_type": "code",
   "execution_count": 284,
   "metadata": {},
   "outputs": [
    {
     "data": {
      "text/plain": [
       "0.002284970867912273"
      ]
     },
     "execution_count": 284,
     "metadata": {},
     "output_type": "execute_result"
    }
   ],
   "source": [
    "np.log(1 + np.exp(logsumexp(diffs)))"
   ]
  },
  {
   "cell_type": "code",
   "execution_count": 285,
   "metadata": {},
   "outputs": [
    {
     "data": {
      "text/plain": [
       "0.003206904386444612"
      ]
     },
     "execution_count": 285,
     "metadata": {},
     "output_type": "execute_result"
    }
   ],
   "source": [
    "np.log(1 + np.dot(diffs, a) + b)"
   ]
  },
  {
   "cell_type": "code",
   "execution_count": 286,
   "metadata": {},
   "outputs": [
    {
     "data": {
      "text/plain": [
       "-0.0037479980946918"
      ]
     },
     "execution_count": 286,
     "metadata": {},
     "output_type": "execute_result"
    }
   ],
   "source": [
    "(lse_u * lsm_u - lse_l * lsm_l - (lsm_u - lsm_l) * np.log(np.dot(diffs, a) + b)) / (lse_u - lse_l)"
   ]
  },
  {
   "cell_type": "code",
   "execution_count": 287,
   "metadata": {},
   "outputs": [
    {
     "data": {
      "text/plain": [
       "0.00228758340332274"
      ]
     },
     "execution_count": 287,
     "metadata": {},
     "output_type": "execute_result"
    }
   ],
   "source": [
    "np.exp(logsumexp(diffs))"
   ]
  },
  {
   "cell_type": "code",
   "execution_count": 288,
   "metadata": {
    "scrolled": true
   },
   "outputs": [
    {
     "data": {
      "text/plain": [
       "0.0032120520054864012"
      ]
     },
     "execution_count": 288,
     "metadata": {},
     "output_type": "execute_result"
    }
   ],
   "source": [
    "np.dot(diffs, a) + b"
   ]
  },
  {
   "cell_type": "code",
   "execution_count": null,
   "metadata": {},
   "outputs": [],
   "source": []
  }
 ],
 "metadata": {
  "kernelspec": {
   "display_name": "Python 3",
   "language": "python",
   "name": "python3"
  },
  "language_info": {
   "codemirror_mode": {
    "name": "ipython",
    "version": 3
   },
   "file_extension": ".py",
   "mimetype": "text/x-python",
   "name": "python",
   "nbconvert_exporter": "python",
   "pygments_lexer": "ipython3",
   "version": "3.7.1"
  }
 },
 "nbformat": 4,
 "nbformat_minor": 2
}
