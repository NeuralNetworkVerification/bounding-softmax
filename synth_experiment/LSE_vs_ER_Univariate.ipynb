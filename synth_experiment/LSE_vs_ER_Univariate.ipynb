{
 "cells": [
  {
   "cell_type": "code",
   "execution_count": 1,
   "metadata": {},
   "outputs": [],
   "source": [
    "import numpy as np\n",
    "from scipy.special import expit\n",
    "import matplotlib.pyplot as plt\n",
    "%matplotlib inline\n",
    "plt.rcParams['pdf.fonttype'] = 42"
   ]
  },
  {
   "cell_type": "markdown",
   "metadata": {},
   "source": [
    "Input bounds:"
   ]
  },
  {
   "cell_type": "code",
   "execution_count": 2,
   "metadata": {},
   "outputs": [],
   "source": [
    "m = 0\n",
    "eps = 2"
   ]
  },
  {
   "cell_type": "code",
   "execution_count": 3,
   "metadata": {},
   "outputs": [],
   "source": [
    "l = m - eps\n",
    "u = m + eps"
   ]
  },
  {
   "cell_type": "code",
   "execution_count": 4,
   "metadata": {},
   "outputs": [
    {
     "data": {
      "text/plain": [
       "array([-2.   , -1.996, -1.992, ...,  1.992,  1.996,  2.   ])"
      ]
     },
     "execution_count": 4,
     "metadata": {},
     "output_type": "execute_result"
    }
   ],
   "source": [
    "x = np.linspace(l, u, 1001)\n",
    "x"
   ]
  },
  {
   "cell_type": "markdown",
   "metadata": {},
   "source": [
    "Constant bounds:"
   ]
  },
  {
   "cell_type": "code",
   "execution_count": 5,
   "metadata": {},
   "outputs": [
    {
     "data": {
      "text/plain": [
       "(0.11920292202211755, 0.8807970779778823)"
      ]
     },
     "execution_count": 5,
     "metadata": {},
     "output_type": "execute_result"
    }
   ],
   "source": [
    "#y_l = expit(l)\n",
    "#y_u = expit(u)\n",
    "# let x = x_2 - x_1, y = expit(-x) to be in line with AISTATS paper\n",
    "y_l = expit(-u)\n",
    "y_u = expit(-l)\n",
    "(y_l, y_u)"
   ]
  },
  {
   "cell_type": "code",
   "execution_count": 6,
   "metadata": {},
   "outputs": [
    {
     "data": {
      "text/plain": [
       "(-2.1269280110429727, -0.12692801104297263)"
      ]
     },
     "execution_count": 6,
     "metadata": {},
     "output_type": "execute_result"
    }
   ],
   "source": [
    "log_y_l = np.log(y_l)\n",
    "log_y_u = np.log(y_u)\n",
    "(log_y_l, log_y_u)"
   ]
  },
  {
   "cell_type": "markdown",
   "metadata": {},
   "source": [
    "Softmax itself:"
   ]
  },
  {
   "cell_type": "code",
   "execution_count": 7,
   "metadata": {},
   "outputs": [
    {
     "data": {
      "text/plain": [
       "array([0.88079708, 0.88037646, 0.87995457, ..., 0.12004543, 0.11962354,\n",
       "       0.11920292])"
      ]
     },
     "execution_count": 7,
     "metadata": {},
     "output_type": "execute_result"
    }
   ],
   "source": [
    "y = expit(-x)\n",
    "y"
   ]
  },
  {
   "cell_type": "markdown",
   "metadata": {},
   "source": [
    "Nonlinear lower bounds:"
   ]
  },
  {
   "cell_type": "code",
   "execution_count": 8,
   "metadata": {},
   "outputs": [
    {
     "data": {
      "text/plain": [
       "array([0.88079708, 0.87520534, 0.86968416, ..., 0.11940942, 0.11930608,\n",
       "       0.11920292])"
      ]
     },
     "execution_count": 8,
     "metadata": {},
     "output_type": "execute_result"
    }
   ],
   "source": [
    "#ERl = 1 / ((u - x) / (u - l) / y_l + (x - l) / (u - l) / y_u)\n",
    "ERl = 1 / ((u - x) / (u - l) / y_u + (x - l) / (u - l) / y_l)\n",
    "ERl"
   ]
  },
  {
   "cell_type": "code",
   "execution_count": 9,
   "metadata": {},
   "outputs": [
    {
     "data": {
      "text/plain": [
       "array([0.88079708, 0.87903724, 0.87728093, ..., 0.11968069, 0.11944157,\n",
       "       0.11920292])"
      ]
     },
     "execution_count": 9,
     "metadata": {},
     "output_type": "execute_result"
    }
   ],
   "source": [
    "#LSEl = y_l**((u - x) / (u - l)) * y_u**((x - l) / (u - l))\n",
    "LSEl = y_u**((u - x) / (u - l)) * y_l**((x - l) / (u - l))\n",
    "LSEl"
   ]
  },
  {
   "cell_type": "markdown",
   "metadata": {},
   "source": [
    "Nonlinear upper bounds:"
   ]
  },
  {
   "cell_type": "code",
   "execution_count": 10,
   "metadata": {},
   "outputs": [
    {
     "data": {
      "text/plain": [
       "array([0.88079708, 0.88074013, 0.88068295, ..., 0.12538459, 0.12229994,\n",
       "       0.11920292])"
      ]
     },
     "execution_count": 10,
     "metadata": {},
     "output_type": "execute_result"
    }
   ],
   "source": [
    "ERu = y_l + y_u - y_l * y_u / y\n",
    "ERu"
   ]
  },
  {
   "cell_type": "code",
   "execution_count": 11,
   "metadata": {},
   "outputs": [
    {
     "data": {
      "text/plain": [
       "array([0.88079708, 0.88061519, 0.88043266, ..., 0.12188488, 0.12054422,\n",
       "       0.11920292])"
      ]
     },
     "execution_count": 11,
     "metadata": {},
     "output_type": "execute_result"
    }
   ],
   "source": [
    "LSEu = (y_l * log_y_u - y_u * log_y_l + (y_u - y_l) * np.log(y)) / (log_y_u - log_y_l)\n",
    "LSEu"
   ]
  },
  {
   "cell_type": "markdown",
   "metadata": {},
   "source": [
    "Bounds on complementary softmax function --- SKIP"
   ]
  },
  {
   "cell_type": "code",
   "execution_count": 13,
   "metadata": {},
   "outputs": [
    {
     "data": {
      "text/plain": [
       "(0.8807970779778823, 0.11920292202211755)"
      ]
     },
     "execution_count": 13,
     "metadata": {},
     "output_type": "execute_result"
    }
   ],
   "source": [
    "ym_l = expit(-l)\n",
    "ym_u = expit(-u)\n",
    "(ym_l, ym_u)"
   ]
  },
  {
   "cell_type": "code",
   "execution_count": 14,
   "metadata": {},
   "outputs": [
    {
     "data": {
      "text/plain": [
       "(-0.12692801104297263, -2.1269280110429727)"
      ]
     },
     "execution_count": 14,
     "metadata": {},
     "output_type": "execute_result"
    }
   ],
   "source": [
    "log_ym_l = np.log(ym_l)\n",
    "log_ym_u = np.log(ym_u)\n",
    "(log_ym_l, log_ym_u)"
   ]
  },
  {
   "cell_type": "code",
   "execution_count": 14,
   "metadata": {},
   "outputs": [
    {
     "data": {
      "text/plain": [
       "array([0.26894142, 0.27093837, 0.27292987, ..., 0.95231397, 0.95244422,\n",
       "       0.95257413])"
      ]
     },
     "execution_count": 14,
     "metadata": {},
     "output_type": "execute_result"
    }
   ],
   "source": [
    "LSEml = ym_l**((u - x) / (u - l)) * ym_u**((x - l) / (u - l))\n",
    "1 - LSEml"
   ]
  },
  {
   "cell_type": "code",
   "execution_count": 15,
   "metadata": {},
   "outputs": [
    {
     "data": {
      "text/plain": [
       "array([0.73105858, 0.7302714 , 0.72948278, ..., 0.0477886 , 0.04760691,\n",
       "       0.04742587])"
      ]
     },
     "execution_count": 15,
     "metadata": {},
     "output_type": "execute_result"
    }
   ],
   "source": [
    "ym = expit(-x)\n",
    "ym"
   ]
  },
  {
   "cell_type": "code",
   "execution_count": 16,
   "metadata": {},
   "outputs": [
    {
     "data": {
      "text/plain": [
       "array([0.26894142, 0.26921068, 0.26948072, ..., 0.95066989, 0.95162192,\n",
       "       0.95257413])"
      ]
     },
     "execution_count": 16,
     "metadata": {},
     "output_type": "execute_result"
    }
   ],
   "source": [
    "LSEmu = (ym_l * log_ym_u - ym_u * log_ym_l + (ym_u - ym_l) * np.log(ym)) / (log_ym_u - log_ym_l)\n",
    "1 - LSEmu"
   ]
  },
  {
   "cell_type": "code",
   "execution_count": 17,
   "metadata": {},
   "outputs": [
    {
     "data": {
      "text/plain": [
       "array([0.26894142, 0.26972787, 0.27051432, ..., 1.05381626, 1.05460271,\n",
       "       1.05538915])"
      ]
     },
     "execution_count": 17,
     "metadata": {},
     "output_type": "execute_result"
    }
   ],
   "source": [
    "linl = y_l + y_l * (1 - y_l) * (x - l)\n",
    "linl"
   ]
  },
  {
   "cell_type": "code",
   "execution_count": 18,
   "metadata": {},
   "outputs": [
    {
     "data": {
      "text/plain": [
       "array([0.77186749, 0.77204819, 0.7722289 , ..., 0.95221271, 0.95239342,\n",
       "       0.95257413])"
      ]
     },
     "execution_count": 18,
     "metadata": {},
     "output_type": "execute_result"
    }
   ],
   "source": [
    "linu = y_u + y_u * (1 - y_u) * (x - u)\n",
    "linu"
   ]
  },
  {
   "cell_type": "markdown",
   "metadata": {},
   "source": [
    "Linear bounds of Shi et al. (ICLR 2020) and Bonaert et al. (PLDI 2021)"
   ]
  },
  {
   "cell_type": "code",
   "execution_count": 12,
   "metadata": {},
   "outputs": [
    {
     "data": {
      "text/plain": [
       "-1"
      ]
     },
     "execution_count": 12,
     "metadata": {},
     "output_type": "execute_result"
    }
   ],
   "source": [
    "#t = min(np.log((np.exp(-l) - np.exp(-u)) / (u - l)), 1 - u)\n",
    "t = min(np.log((np.exp(u) - np.exp(l)) / (u - l)), 1 + l)\n",
    "t"
   ]
  },
  {
   "cell_type": "code",
   "execution_count": 13,
   "metadata": {},
   "outputs": [
    {
     "data": {
      "text/plain": [
       "0.5952201920542229"
      ]
     },
     "execution_count": 13,
     "metadata": {},
     "output_type": "execute_result"
    }
   ],
   "source": [
    "np.log((np.exp(u) - np.exp(l)) / (u - l))"
   ]
  },
  {
   "cell_type": "code",
   "execution_count": 14,
   "metadata": {},
   "outputs": [
    {
     "data": {
      "text/plain": [
       "(1.0, 8.38905609893065, 4.194528049465325)"
      ]
     },
     "execution_count": 14,
     "metadata": {},
     "output_type": "execute_result"
    }
   ],
   "source": [
    "#L = 1 + np.exp(t) * (1 - u - t)\n",
    "#U = 1 + np.exp(-l)\n",
    "L = 1 + np.exp(t) * (1 + l - t)\n",
    "U = 1 + np.exp(u)\n",
    "T = max(np.sqrt(L * U), U / 2)\n",
    "L, U, T"
   ]
  },
  {
   "cell_type": "code",
   "execution_count": 15,
   "metadata": {},
   "outputs": [
    {
     "data": {
      "text/plain": [
       "array([4.12282243e-01, 4.11869961e-01, 4.11457679e-01, ...,\n",
       "       8.24564486e-04, 4.12282243e-04, 5.29367315e-17])"
      ]
     },
     "execution_count": 15,
     "metadata": {},
     "output_type": "execute_result"
    }
   ],
   "source": [
    "#linl = 1 / T * (2 - 1 / T * (1 + (x - l) / (u - l) * np.exp(-u) + (u - x) / (u - l) * np.exp(-l)))\n",
    "linl = 1 / T * (2 - 1 / T * (1 + (x - l) / (u - l) * np.exp(u) + (u - x) / (u - l) * np.exp(l)))\n",
    "linl"
   ]
  },
  {
   "cell_type": "code",
   "execution_count": 16,
   "metadata": {},
   "outputs": [
    {
     "data": {
      "text/plain": [
       "array([1.        , 0.99982459, 0.99964918, ..., 0.8249416 , 0.82476619,\n",
       "       0.82459078])"
      ]
     },
     "execution_count": 16,
     "metadata": {},
     "output_type": "execute_result"
    }
   ],
   "source": [
    "#linu = 1 / L + 1 / U - 1 / (L * U) * (1 + np.exp(t) * (1 - x - t))\n",
    "linu = 1 / L + 1 / U - 1 / (L * U) * (1 + np.exp(t) * (1 + x - t))\n",
    "linu"
   ]
  },
  {
   "cell_type": "markdown",
   "metadata": {},
   "source": [
    "Plot:"
   ]
  },
  {
   "cell_type": "code",
   "execution_count": 18,
   "metadata": {
    "scrolled": true
   },
   "outputs": [
    {
     "data": {
      "image/png": "[encoded data removed]",
      "text/plain": [
       "<Figure size 600x400 with 1 Axes>"
      ]
     },
     "metadata": {},
     "output_type": "display_data"
    }
   ],
   "source": [
    "plt.figure(figsize=(6., 4.))\n",
    "plt.plot(x, linu)\n",
    "plt.plot(x, ERu)\n",
    "plt.plot(x, LSEu)\n",
    "plt.plot(x, y)\n",
    "plt.plot(x, LSEl)\n",
    "plt.plot(x, ERl)\n",
    "plt.plot(x, linl)\n",
    "#plt.plot(x, 1 - LSEml)\n",
    "#plt.plot(x, 1 - LSEmu)\n",
    "#if l < 0:\n",
    "#if u > 0:\n",
    "#plt.legend(['true', 'ERl', 'LSEl', 'ERu', 'LSEu', 'LSEcl', 'LSEcu'])\n",
    "plt.xlim([l, u])\n",
    "plt.xlabel(r'input $\\tilde{x}_2$')\n",
    "plt.legend(['$U^{lin}$', '$U^{ER}$', '$U^{LSE}$', 'softmax', '$L^{LSE_2}$', '$L^{ER}$', '$L^{lin}$'])\n",
    "plt.savefig('figures/logistic_bounds_aistats.pdf', bbox_inches='tight')"
   ]
  },
  {
   "cell_type": "markdown",
   "metadata": {},
   "source": [
    "## Scratch"
   ]
  },
  {
   "cell_type": "code",
   "execution_count": 24,
   "metadata": {},
   "outputs": [],
   "source": [
    "l = -1\n",
    "u = -0"
   ]
  },
  {
   "cell_type": "code",
   "execution_count": 26,
   "metadata": {},
   "outputs": [
    {
     "data": {
      "text/plain": [
       "-0.49003427641921443"
      ]
     },
     "execution_count": 26,
     "metadata": {},
     "output_type": "execute_result"
    }
   ],
   "source": [
    "x_max = np.log((np.log(1 + np.exp(u)) - np.log(1 + np.exp(l))) / (np.log(1 + np.exp(-l)) - np.log(1 + np.exp(-u))))\n",
    "x_max"
   ]
  },
  {
   "cell_type": "code",
   "execution_count": 27,
   "metadata": {},
   "outputs": [
    {
     "data": {
      "text/plain": [
       "0.029139138501623862"
      ]
     },
     "execution_count": 27,
     "metadata": {},
     "output_type": "execute_result"
    }
   ],
   "source": [
    "(u - x_max) / (u - l) * np.log(1 + np.exp(l)) + (x_max - l) / (u - l) * np.log(1 + np.exp(u)) - np.log(1 + np.exp(x_max))"
   ]
  },
  {
   "cell_type": "code",
   "execution_count": 28,
   "metadata": {},
   "outputs": [
    {
     "data": {
      "text/plain": [
       "0.3798854930417224"
      ]
     },
     "execution_count": 28,
     "metadata": {},
     "output_type": "execute_result"
    }
   ],
   "source": [
    "(np.log(1 + np.exp(u)) - np.log(1 + np.exp(l))) / (u - l)"
   ]
  },
  {
   "cell_type": "code",
   "execution_count": 29,
   "metadata": {},
   "outputs": [
    {
     "data": {
      "text/plain": [
       "0.6931471805599453"
      ]
     },
     "execution_count": 29,
     "metadata": {},
     "output_type": "execute_result"
    }
   ],
   "source": [
    "(u * np.log(1 + np.exp(l)) - l * np.log(1 + np.exp(u))) / (u - l)"
   ]
  },
  {
   "cell_type": "code",
   "execution_count": null,
   "metadata": {},
   "outputs": [],
   "source": []
  }
 ],
 "metadata": {
  "kernelspec": {
   "display_name": "Python 3 (ipykernel)",
   "language": "python",
   "name": "python3"
  },
  "language_info": {
   "codemirror_mode": {
    "name": "ipython",
    "version": 3
   },
   "file_extension": ".py",
   "mimetype": "text/x-python",
   "name": "python",
   "nbconvert_exporter": "python",
   "pygments_lexer": "ipython3",
   "version": "3.10.8"
  }
 },
 "nbformat": 4,
 "nbformat_minor": 2
}
