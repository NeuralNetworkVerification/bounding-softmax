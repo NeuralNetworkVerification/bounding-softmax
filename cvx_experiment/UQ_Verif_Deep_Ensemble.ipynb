{
 "cells": [
  {
   "cell_type": "code",
   "execution_count": 1,
   "metadata": {},
   "outputs": [],
   "source": [
    "import numpy as np\n",
    "from tensorflow.keras.datasets import mnist\n",
    "import matplotlib.pyplot as plt\n",
    "import pickle\n",
    "import cvxpy as cvx\n",
    "from scipy.special import softmax, expit, logsumexp"
   ]
  },
  {
   "cell_type": "markdown",
   "metadata": {},
   "source": [
    "#### Load deep ensemble"
   ]
  },
  {
   "cell_type": "markdown",
   "metadata": {},
   "source": [
    "Ensemble dimensions:"
   ]
  },
  {
   "cell_type": "code",
   "execution_count": 2,
   "metadata": {},
   "outputs": [],
   "source": [
    "# Number of models in ensemble\n",
    "M = 5\n",
    "# Number of hidden layers\n",
    "L = 2"
   ]
  },
  {
   "cell_type": "markdown",
   "metadata": {},
   "source": [
    "Load NN weights:"
   ]
  },
  {
   "cell_type": "code",
   "execution_count": 3,
   "metadata": {},
   "outputs": [],
   "source": [
    "w = []\n",
    "b = []\n",
    "\n",
    "# Iterate over models\n",
    "for m in range(M):\n",
    "    W = np.load(f'networks/mnist-{m}.npz')\n",
    "\n",
    "    # Put weights into list of arrays\n",
    "    w.append([None] * (L + 1))\n",
    "    b.append([None] * (L + 1))\n",
    "    for ll in range(L + 1):\n",
    "        w[m][ll] = W['w' + str(ll + 1)]\n",
    "        b[m][ll] = W['b' + str(ll + 1)]\n",
    "\n",
    "#w0 = W[\"w1\"]\n",
    "#b0 = W[\"b1\"]\n",
    "#w1 = W[\"w2\"]\n",
    "#b1 = W[\"b2\"]\n",
    "#w2 = W[\"w3\"]\n",
    "#b2 = W[\"b3\"]"
   ]
  },
  {
   "cell_type": "code",
   "execution_count": 4,
   "metadata": {},
   "outputs": [
    {
     "name": "stdout",
     "output_type": "stream",
     "text": [
      "3\n",
      "[(784, 10), (10, 10), (10, 10)]\n",
      "3\n",
      "[(784, 10), (10, 10), (10, 10)]\n",
      "3\n",
      "[(784, 10), (10, 10), (10, 10)]\n",
      "3\n",
      "[(784, 10), (10, 10), (10, 10)]\n",
      "3\n",
      "[(784, 10), (10, 10), (10, 10)]\n"
     ]
    }
   ],
   "source": [
    "for m in range(M):\n",
    "    print(len(w[m]))\n",
    "    print([ww.shape for ww in w[m]])"
   ]
  },
  {
   "cell_type": "code",
   "execution_count": 5,
   "metadata": {},
   "outputs": [
    {
     "name": "stdout",
     "output_type": "stream",
     "text": [
      "[-0.19310552 -0.51251215  0.9495989  -0.48518208  0.59092283  0.48008457\n",
      " -0.4106386  -0.5927815  -0.40036282 -0.09690651]\n",
      "[ 0.18979953 -0.8046665  -0.8333547   0.17742807 -0.03725496  0.95592374\n",
      "  0.43385687 -0.4073077   0.4657115   0.6474797 ]\n"
     ]
    }
   ],
   "source": [
    "print(w[0][1][0])\n",
    "print(w[1][1][0])"
   ]
  },
  {
   "cell_type": "markdown",
   "metadata": {},
   "source": [
    "#### Load MNIST test images and bounds:"
   ]
  },
  {
   "cell_type": "code",
   "execution_count": 6,
   "metadata": {},
   "outputs": [],
   "source": [
    "(X, y), (Xt, yt) = mnist.load_data()"
   ]
  },
  {
   "cell_type": "markdown",
   "metadata": {},
   "source": [
    "Image index:"
   ]
  },
  {
   "cell_type": "code",
   "execution_count": 7,
   "metadata": {},
   "outputs": [],
   "source": [
    "i = 0"
   ]
  },
  {
   "cell_type": "code",
   "execution_count": 8,
   "metadata": {
    "scrolled": true
   },
   "outputs": [
    {
     "data": {
      "image/png": "[encoded data removed]",
      "text/plain": [
       "<Figure size 640x480 with 1 Axes>"
      ]
     },
     "metadata": {},
     "output_type": "display_data"
    }
   ],
   "source": [
    "plt.imshow(Xt[i])\n",
    "plt.show()"
   ]
  },
  {
   "cell_type": "markdown",
   "metadata": {},
   "source": [
    "Perturbation radius:"
   ]
  },
  {
   "cell_type": "code",
   "execution_count": 9,
   "metadata": {},
   "outputs": [],
   "source": [
    "eps = 0.008"
   ]
  },
  {
   "cell_type": "markdown",
   "metadata": {},
   "source": [
    "Load neuron bounds:"
   ]
  },
  {
   "cell_type": "code",
   "execution_count": 10,
   "metadata": {},
   "outputs": [],
   "source": [
    "lbs = []\n",
    "ubs = []\n",
    "\n",
    "# Iterate over models\n",
    "for m in range(M):\n",
    "    with open(f\"./bounds/bounds_net{m}_ind{i}_eps{eps}.pickle\", 'rb') as fp:\n",
    "        bounds = pickle.load(fp)\n",
    "    lbs.append(bounds[\"lbs\"])\n",
    "    ubs.append(bounds[\"ubs\"])"
   ]
  },
  {
   "cell_type": "code",
   "execution_count": 11,
   "metadata": {},
   "outputs": [
    {
     "data": {
      "text/plain": [
       "[-1.6432,\n",
       " -11.0004,\n",
       " 2.2643,\n",
       " 1.6698,\n",
       " -6.7737,\n",
       " -7.8203,\n",
       " -13.2744,\n",
       " 10.9614,\n",
       " 0.6247,\n",
       " 2.4305]"
      ]
     },
     "execution_count": 11,
     "metadata": {},
     "output_type": "execute_result"
    }
   ],
   "source": [
    "lbs[1][5]"
   ]
  },
  {
   "cell_type": "markdown",
   "metadata": {},
   "source": [
    "#### Input layer"
   ]
  },
  {
   "cell_type": "code",
   "execution_count": 12,
   "metadata": {},
   "outputs": [],
   "source": [
    "mid0 = Xt[i].flatten() / 255"
   ]
  },
  {
   "cell_type": "code",
   "execution_count": 13,
   "metadata": {},
   "outputs": [],
   "source": [
    "# Input bounds\n",
    "l0 = np.maximum(mid0 - eps, 0)\n",
    "u0 = np.minimum(mid0 + eps, 1)"
   ]
  },
  {
   "cell_type": "code",
   "execution_count": 14,
   "metadata": {},
   "outputs": [
    {
     "data": {
      "text/plain": [
       "4.901960784314818e-05"
      ]
     },
     "execution_count": 14,
     "metadata": {},
     "output_type": "execute_result"
    }
   ],
   "source": [
    "# Check that just computed bounds are close to loaded ones\n",
    "np.abs(u0 - np.array(ubs[3][0])).max()"
   ]
  },
  {
   "cell_type": "code",
   "execution_count": 15,
   "metadata": {},
   "outputs": [],
   "source": [
    "D = len(mid0)\n",
    "x0 = cvx.Variable(D)"
   ]
  },
  {
   "cell_type": "code",
   "execution_count": 16,
   "metadata": {},
   "outputs": [
    {
     "data": {
      "text/plain": [
       "[Inequality(Constant(CONSTANT, NONNEGATIVE, (784,))),\n",
       " Inequality(Variable((784,)))]"
      ]
     },
     "execution_count": 16,
     "metadata": {},
     "output_type": "execute_result"
    }
   ],
   "source": [
    "# Initialize list of constraints\n",
    "cons = [x0 >= l0, x0 <= u0]\n",
    "cons"
   ]
  },
  {
   "cell_type": "markdown",
   "metadata": {},
   "source": [
    "#### Hidden layers"
   ]
  },
  {
   "cell_type": "code",
   "execution_count": 17,
   "metadata": {},
   "outputs": [],
   "source": [
    "# Initialize lists of quantities over models\n",
    "z = [None] * M\n",
    "xa = [None] * M\n",
    "xu = [None] * M\n",
    "l = [None] * M\n",
    "u = [None] * M\n",
    "inactive = [None] * M\n",
    "active = [None] * M\n",
    "unstable = [None] * M"
   ]
  },
  {
   "cell_type": "code",
   "execution_count": 18,
   "metadata": {},
   "outputs": [
    {
     "data": {
      "text/plain": [
       "[Inequality(Constant(CONSTANT, NONNEGATIVE, (784,))),\n",
       " Inequality(Variable((784,))),\n",
       " Inequality(Expression(AFFINE, UNKNOWN, (1,))),\n",
       " Inequality(Variable((1,), nonneg=True)),\n",
       " Inequality(Expression(AFFINE, UNKNOWN, (1,))),\n",
       " Inequality(Variable((1,), nonneg=True)),\n",
       " Inequality(Expression(AFFINE, UNKNOWN, (1,))),\n",
       " Inequality(Variable((1,), nonneg=True)),\n",
       " Inequality(Expression(AFFINE, UNKNOWN, (1,))),\n",
       " Inequality(Variable((1,), nonneg=True)),\n",
       " Inequality(Expression(AFFINE, UNKNOWN, (2,))),\n",
       " Inequality(Variable((2,), nonneg=True)),\n",
       " Inequality(Expression(AFFINE, UNKNOWN, (1,))),\n",
       " Inequality(Variable((1,), nonneg=True)),\n",
       " Inequality(Expression(AFFINE, UNKNOWN, (1,))),\n",
       " Inequality(Variable((1,), nonneg=True)),\n",
       " Inequality(Expression(AFFINE, UNKNOWN, (1,))),\n",
       " Inequality(Variable((1,), nonneg=True))]"
      ]
     },
     "execution_count": 18,
     "metadata": {},
     "output_type": "execute_result"
    }
   ],
   "source": [
    "# Iterate over models\n",
    "for m in range(M):\n",
    "    # Initialize lists over layers\n",
    "    z[m] = [None] * (L + 1)\n",
    "    xa[m] = [None] * L\n",
    "    xu[m] = [None] * L\n",
    "    l[m] = [None] * (L + 1)\n",
    "    u[m] = [None] * (L + 1)\n",
    "    inactive[m] = [None] * L\n",
    "    active[m] = [None] * L\n",
    "    unstable[m] = [None] * L\n",
    "    \n",
    "    # Iterate over hidden layers\n",
    "    for ll in range(L):\n",
    "        # Bounds on pre-activation neurons\n",
    "        # NEEDS TO BE MADE MODEL-SPECIFIC FOR DEEP ENSEMBLE\n",
    "        l[m][ll] = np.array(lbs[m][2*ll+1])\n",
    "        u[m][ll] = np.array(ubs[m][2*ll+1])\n",
    "        #print(l[m][ll], u[m][ll])\n",
    "\n",
    "        # Drop inactive neurons\n",
    "        inactive[m][ll] = u[m][ll] <= 0\n",
    "        w[m][ll] = w[m][ll][:, ~inactive[m][ll]]\n",
    "        b[m][ll] = b[m][ll][~inactive[m][ll]]\n",
    "        l[m][ll] = l[m][ll][~inactive[m][ll]]\n",
    "        u[m][ll] = u[m][ll][~inactive[m][ll]]\n",
    "        w[m][ll+1] = w[m][ll+1][~inactive[m][ll], :]\n",
    "        #print(w[m][ll].shape, b[m][ll].shape, w[m][ll+1].shape)\n",
    "        #print(l[m][ll], u[m][ll])\n",
    "\n",
    "        # Find unstable and active neurons\n",
    "        unstable[m][ll] = l[m][ll] < 0\n",
    "        active[m][ll] = ~unstable[m][ll]\n",
    "        #print(active[m][ll], unstable[m][ll])\n",
    "\n",
    "        # Affine transformation\n",
    "        if ll == 0:\n",
    "            # Input layer\n",
    "            z[m][ll] = x0 @ w[m][ll] + b[m][ll]\n",
    "        else:\n",
    "            z[m][ll] = xa[m][ll-1] @ w[m][ll][active[m][ll-1], :] + xu[m][ll-1] @ w[m][ll][unstable[m][ll-1], :] + b[m][ll]\n",
    "        \n",
    "        # Define active neurons\n",
    "        #xa[ll] = xa[ll-1] @ w[ll-1][np.ix_(active[ll-1], active[ll])] + xu[ll-1] @ w[ll-1][np.ix_(unstable[ll-1], active[ll])] + b[ll-1][active[ll]]\n",
    "        xa[m][ll] = z[m][ll][active[m][ll]]\n",
    "\n",
    "        # Define and constrain unstable neurons\n",
    "        nUnstable = unstable[m][ll].sum()\n",
    "        if nUnstable:\n",
    "            xu[m][ll] = cvx.Variable(nUnstable, nonneg=True)\n",
    "            #cons.append( xu[ll] >= xa[ll-1] @ w[ll-1][np.ix_(active[ll-1], unstable[ll])] + xu[ll-1] @ w[ll-1][np.ix_(unstable[ll-1], unstable[ll])] + b[ll-1][unstable[ll]] )\n",
    "            cons.append(xu[m][ll] >= z[m][ll][unstable[m][ll]])\n",
    "            g = u[m][ll][unstable[m][ll]] / (u[m][ll][unstable[m][ll]] - l[m][ll][unstable[m][ll]])\n",
    "            #cons.append( xu[ll] <= cvx.multiply(g, xa[ll-1] @ w[ll-1][np.ix_(active[ll-1], unstable[ll])] + xu[ll-1] @ w[ll-1][np.ix_(unstable[ll-1], unstable[ll])] + b[ll-1][unstable[ll]] - l[ll][unstable[ll]]) )\n",
    "            cons.append(xu[m][ll] <= cvx.multiply(g, z[m][ll][unstable[m][ll]] - l[m][ll][unstable[m][ll]]))\n",
    "        else:\n",
    "            # No unstable neurons\n",
    "            xu[m][ll] = np.zeros(nUnstable)\n",
    "\n",
    "cons"
   ]
  },
  {
   "cell_type": "code",
   "execution_count": 19,
   "metadata": {},
   "outputs": [
    {
     "data": {
      "text/plain": [
       "([[Expression(AFFINE, UNKNOWN, (7,)), Expression(AFFINE, UNKNOWN, (8,))],\n",
       "  [Expression(AFFINE, UNKNOWN, (6,)), Expression(AFFINE, UNKNOWN, (6,))],\n",
       "  [Expression(AFFINE, UNKNOWN, (7,)), Expression(AFFINE, UNKNOWN, (8,))],\n",
       "  [Expression(AFFINE, UNKNOWN, (7,)), Expression(AFFINE, UNKNOWN, (6,))],\n",
       "  [Expression(AFFINE, UNKNOWN, (8,)), Expression(AFFINE, UNKNOWN, (8,))]],\n",
       " [[Variable((1,), nonneg=True), Variable((1,), nonneg=True)],\n",
       "  [Variable((1,), nonneg=True), Variable((1,), nonneg=True)],\n",
       "  [Variable((2,), nonneg=True), Variable((1,), nonneg=True)],\n",
       "  [Variable((1,), nonneg=True), Variable((1,), nonneg=True)],\n",
       "  [array([], dtype=float64), array([], dtype=float64)]])"
      ]
     },
     "execution_count": 19,
     "metadata": {},
     "output_type": "execute_result"
    }
   ],
   "source": [
    "xa, xu"
   ]
  },
  {
   "cell_type": "code",
   "execution_count": 20,
   "metadata": {},
   "outputs": [
    {
     "name": "stdout",
     "output_type": "stream",
     "text": [
      "[2.1145, 2.7422, 3.8015, 7.7546, 4.8569, 1.0791, 2.1942, 1.5316, -6.5672, -7.4727]\n",
      "[3.6519, 4.1378, 5.117, 9.1576, 6.1207, 2.3197, 3.2161, 2.7412, -5.0606, -6.4262]\n"
     ]
    }
   ],
   "source": [
    "print(lbs[4][3])\n",
    "print(ubs[4][3])"
   ]
  },
  {
   "cell_type": "markdown",
   "metadata": {},
   "source": [
    "#### Logits"
   ]
  },
  {
   "cell_type": "code",
   "execution_count": 21,
   "metadata": {},
   "outputs": [
    {
     "data": {
      "text/plain": [
       "[[Expression(AFFINE, UNKNOWN, (8,)),\n",
       "  Expression(AFFINE, UNKNOWN, (9,)),\n",
       "  Expression(AFFINE, UNKNOWN, (10,))],\n",
       " [Expression(AFFINE, UNKNOWN, (7,)),\n",
       "  Expression(AFFINE, UNKNOWN, (7,)),\n",
       "  Expression(AFFINE, UNKNOWN, (10,))],\n",
       " [Expression(AFFINE, UNKNOWN, (9,)),\n",
       "  Expression(AFFINE, UNKNOWN, (9,)),\n",
       "  Expression(AFFINE, UNKNOWN, (10,))],\n",
       " [Expression(AFFINE, UNKNOWN, (8,)),\n",
       "  Expression(AFFINE, UNKNOWN, (7,)),\n",
       "  Expression(AFFINE, UNKNOWN, (10,))],\n",
       " [Expression(AFFINE, UNKNOWN, (8,)),\n",
       "  Expression(AFFINE, UNKNOWN, (8,)),\n",
       "  Expression(AFFINE, UNKNOWN, (10,))]]"
      ]
     },
     "execution_count": 21,
     "metadata": {},
     "output_type": "execute_result"
    }
   ],
   "source": [
    "# Iterate over models\n",
    "for m in range(M):\n",
    "    z[m][L] = xa[m][L-1] @ w[m][L][active[m][L-1], :] + xu[m][L-1] @ w[m][L][unstable[m][L-1], :] + b[m][L]\n",
    "z"
   ]
  },
  {
   "cell_type": "code",
   "execution_count": 22,
   "metadata": {},
   "outputs": [],
   "source": [
    "# Bounds on logits\n",
    "# NEEDS TO BE MODEL-SPECIFIC FOR DEEP ENSEMBLE\n",
    "for m in range(M):\n",
    "    l[m][L] = np.array(lbs[m][2*L+1])\n",
    "    u[m][L] = np.array(ubs[m][2*L+1])\n",
    "#l2 = np.array(lbs[5])\n",
    "#u2 = np.array(ubs[5])\n",
    "#l, u"
   ]
  },
  {
   "cell_type": "code",
   "execution_count": 23,
   "metadata": {},
   "outputs": [
    {
     "data": {
      "text/plain": [
       "array([7, 7, 7, 7, 7])"
      ]
     },
     "execution_count": 23,
     "metadata": {},
     "output_type": "execute_result"
    }
   ],
   "source": [
    "# Index of largest logit in terms of midpoint\n",
    "jmax = np.empty(M, dtype=int)\n",
    "for m in range(M):\n",
    "    jmax[m] = (l[m][L] + u[m][L]).argmax()\n",
    "jmax"
   ]
  },
  {
   "cell_type": "markdown",
   "metadata": {},
   "source": [
    "#### Softmax"
   ]
  },
  {
   "cell_type": "code",
   "execution_count": 24,
   "metadata": {},
   "outputs": [],
   "source": [
    "LBtype = 'lin'\n",
    "UBtype = 'lin'"
   ]
  },
  {
   "cell_type": "code",
   "execution_count": 25,
   "metadata": {},
   "outputs": [],
   "source": [
    "# Number of classes\n",
    "d = 10\n",
    "\n",
    "# Output probabilities\n",
    "p = cvx.Variable((M, d), nonneg=True)"
   ]
  },
  {
   "cell_type": "markdown",
   "metadata": {},
   "source": [
    "Load and compute bounds:"
   ]
  },
  {
   "cell_type": "code",
   "execution_count": 26,
   "metadata": {},
   "outputs": [],
   "source": [
    "# Bounds on logit differences\n",
    "diffs_l = np.empty((M, d, d-1))\n",
    "diffs_u = np.empty((M, d, d-1))\n",
    "# Bounds on probabilities\n",
    "sm_l = np.empty((M, d))\n",
    "sm_u = np.empty((M, d))\n",
    "if UBtype == 'LSE':\n",
    "    lsm_l = np.empty((M, d))\n",
    "    lsm_u = np.empty((M, d))\n",
    "\n",
    "# Iterate over models\n",
    "for m in range(M):\n",
    "    # Iterate over classes\n",
    "    for j in range(d):\n",
    "        # Bounds on logit differences z_{j'} - z_j\n",
    "        # NEEDS TO BE MODEL-SPECIFIC FOR DEEP ENSEMBLE \n",
    "        diffs_l[m, j] = np.array(lbs[m][2*(L+1)])[(d-1)*j:(d-1)*(j+1)]\n",
    "        diffs_u[m, j] = np.array(ubs[m][2*(L+1)])[(d-1)*j:(d-1)*(j+1)]\n",
    "        # Constant bounds on softmax output\n",
    "        sm_l[m, j] = expit(-logsumexp(diffs_u[m, j]))\n",
    "        sm_u[m, j] = expit(-logsumexp(diffs_l[m, j]))\n",
    "        if UBtype == 'LSE':\n",
    "            # Also need log of constant bounds\n",
    "            lsm_l[m, j], lsm_u[m, j] = np.log(sm_l[m, j]), np.log(sm_u[m, j])\n"
   ]
  },
  {
   "cell_type": "code",
   "execution_count": 27,
   "metadata": {},
   "outputs": [
    {
     "name": "stdout",
     "output_type": "stream",
     "text": [
      "[[8.16242010e-06 4.09312976e-08 5.00955898e-04 2.66599216e-03\n",
      "  6.41386515e-07 2.87680890e-06 1.70034911e-12 9.54664722e-01\n",
      "  6.06122309e-08 7.66593859e-06]\n",
      " [1.28587098e-06 9.32036535e-11 7.16617564e-05 3.48515801e-05\n",
      "  7.42595491e-09 2.52095639e-09 9.93733512e-12 9.98421774e-01\n",
      "  1.16029140e-05 7.92729756e-05]\n",
      " [5.18144164e-07 1.14301673e-09 8.34347169e-07 1.07878661e-03\n",
      "  3.90653548e-11 5.80205821e-08 9.63253671e-16 9.59471495e-01\n",
      "  2.81942386e-07 6.55692794e-05]\n",
      " [1.18417203e-07 6.04071829e-08 5.79549200e-05 3.63520856e-04\n",
      "  5.82903709e-11 1.04892497e-06 1.41905640e-12 9.91698505e-01\n",
      "  1.63241396e-06 1.42439136e-04]\n",
      " [5.45593015e-07 2.09276063e-06 3.64802286e-05 9.04262482e-06\n",
      "  6.94061293e-06 4.66725316e-06 1.43164478e-06 9.97989669e-01\n",
      "  2.19349210e-07 5.61995621e-06]]\n",
      "[[2.94950674e-04 1.08400227e-06 3.93832291e-03 3.99740779e-02\n",
      "  2.78032590e-05 2.52094435e-04 2.29795660e-10 9.96807482e-01\n",
      "  1.59987217e-05 1.13173551e-03]\n",
      " [9.91120562e-06 1.60635859e-09 8.30354818e-04 3.04862182e-04\n",
      "  4.44212988e-08 6.44741538e-08 1.68146220e-10 9.99801259e-01\n",
      "  1.10101456e-04 3.23885636e-04]\n",
      " [1.56271112e-05 3.02519539e-08 2.30668049e-05 3.93234389e-02\n",
      "  2.22539038e-09 1.26554623e-05 1.96464320e-13 9.98853242e-01\n",
      "  2.15773368e-05 1.21211328e-03]\n",
      " [6.37685473e-06 7.20462009e-07 6.82400041e-04 5.12983358e-03\n",
      "  4.50144573e-09 4.77462331e-05 1.20106340e-10 9.99432880e-01\n",
      "  4.43350192e-05 2.41427315e-03]\n",
      " [6.73797159e-06 2.68986884e-05 1.21068127e-03 3.64786658e-04\n",
      "  1.43171256e-04 1.19819735e-04 1.08781795e-05 9.99932951e-01\n",
      "  7.98074789e-06 1.21041674e-04]]\n"
     ]
    }
   ],
   "source": [
    "print(sm_l)\n",
    "print(sm_u)"
   ]
  },
  {
   "cell_type": "markdown",
   "metadata": {},
   "source": [
    "Constrain softmax outputs:"
   ]
  },
  {
   "cell_type": "code",
   "execution_count": 28,
   "metadata": {},
   "outputs": [],
   "source": [
    "# Iterate over models\n",
    "diffs = [None] * M\n",
    "for m in range(M):\n",
    "    # Iterate over classes\n",
    "    for j in range(d):\n",
    "\n",
    "        if LBtype == 'lin' or UBtype == 'lin':\n",
    "            # Pre-compute some quantities for linear bounds\n",
    "            # Tangent points for bounding exponentials from below\n",
    "            diffs_t = np.minimum(np.log((np.exp(diffs_u[m, j]) - np.exp(diffs_l[m, j])) / (diffs_u[m, j] - diffs_l[m, j])), diffs_l[m, j] + 1)\n",
    "            # Lower and upper bounds on denominator of softmax\n",
    "            den_l = 1 + np.dot(np.exp(diffs_t), diffs_l[m, j] - diffs_t + 1)\n",
    "            den_u = 1 + np.exp(diffs_u[m, j]).sum()\n",
    "            # Tangent point for bounding reciprocal from below\n",
    "            den_t = max(np.sqrt(den_l * den_u), den_u / 2)\n",
    "            \n",
    "        # Add constraint on jth softmax output\n",
    "        if j == yt[i]:\n",
    "            # Correct class, need lower bound on probability\n",
    "            if LBtype == 'lin':\n",
    "                # Linear ER bound\n",
    "                a_lin_l = np.zeros(d)\n",
    "                others = np.arange(d) != j\n",
    "                a_lin_l[others] = -(np.exp(diffs_u[m, j]) - np.exp(diffs_l[m, j])) / (diffs_u[m, j] - diffs_l[m, j]) / den_t**2\n",
    "                a_lin_l[j] = -a_lin_l[others].sum()\n",
    "                b_lin_l = ((diffs_u[m, j] * np.exp(diffs_l[m, j]) - diffs_l[m, j] * np.exp(diffs_u[m, j])) / (diffs_u[m, j] - diffs_l[m, j])).sum()\n",
    "                b_lin_l = 1 / den_t * (2 - 1 / den_t * (1 + b_lin_l))\n",
    "                bnd = p[m, j] >= a_lin_l @ z[m][L] + b_lin_l\n",
    "            elif LBtype == 'ER' or j == jmax[m]:\n",
    "                # LSE2 bound same as ER bound when j = jmax\n",
    "                # Differences with z_j\n",
    "                others = np.arange(d) != j\n",
    "                diffs[m] = z[m][L][others] - z[m][L][j]\n",
    "                #cons += [diffs[j] >= diffs_l[j], diffs[j] <= diffs_u[j]]\n",
    "                #bnd = p[j] >= cvx.power(1 + cvx.sum((cvx.multiply(np.exp(diffs_l[j]), diffs_u[j] - diffs[j]) + cvx.multiply(np.exp(diffs_u[j]), diffs[j] - diffs_l[j])) / (diffs_u[j] - diffs_l[j])), -1)\n",
    "                # Bounding log probability avoids having to use a second-order cone\n",
    "                bnd = cvx.log(p[m, j]) >= -cvx.log(1 + cvx.sum((cvx.multiply(np.exp(diffs_l[m, j]), diffs_u[m, j] - diffs[m]) + cvx.multiply(np.exp(diffs_u[m, j]), diffs[m] - diffs_l[m, j])) / (diffs_u[m, j] - diffs_l[m, j])))\n",
    "            elif LBtype == 'LSE':\n",
    "                # LSE2 bound for j != jmax\n",
    "                # Differences with z_{jmax}\n",
    "                others = np.arange(d) != jmax[m]\n",
    "                diffs[m] = z[m][L] - z[m][L][jmax[m]]\n",
    "                bnd = cvx.log(p[m, j]) >= diffs[m][j] - cvx.log(1 + cvx.sum((cvx.multiply(np.exp(diffs_l[m, jmax[m]]), diffs_u[m, jmax[m]] - diffs[m][others]) + cvx.multiply(np.exp(diffs_u[m, jmax[m]]), diffs[m][others] - diffs_l[m, jmax[m]])) / (diffs_u[m, jmax[m]] - diffs_l[m, jmax[m]])))\n",
    "            if LBtype == 'LSE':\n",
    "                # LSE1 bound\n",
    "                bnd2 = cvx.log(p[m, j]) >= z[m][L][j] - cvx.log(cvx.sum((cvx.multiply(np.exp(l[m][L]), u[m][L] - z[m][L]) + cvx.multiply(np.exp(u[m][L]), z[m][L] - l[m][L])) / (u[m][L] - l[m][L])))\n",
    "                #cons.append(bnd2)\n",
    "        else:\n",
    "            # Incorrect class, need upper bound on probability\n",
    "            if UBtype == 'lin':\n",
    "                # Linear ER bound\n",
    "                a_lin_u = np.zeros(d)\n",
    "                others = np.arange(d) != j\n",
    "                a_lin_u[others] = -np.exp(diffs_t) / (den_l * den_u)\n",
    "                a_lin_u[j] = -a_lin_u[others].sum()\n",
    "                b_lin_u = 1 / den_l + 1 / den_u - (1 + np.dot(np.exp(diffs_t), 1 - diffs_t)) / (den_l * den_u)\n",
    "                bnd = p[m, j] <= a_lin_u @ z[m][L] + b_lin_u\n",
    "            elif UBtype == 'ER':\n",
    "                # CAN'T USE: HAVING MORE THAN 2 OF THESE BOUNDS PREVENTS CONVERGENCE \n",
    "                #bnd = p[j] <= sm_l[j] + sm_u[j] - sm_l[j] * sm_u[j] * (1 + cvx.sum(cvx.exp(diffs[j])))\n",
    "                bnd = p[m, j] <= sm_l[m, j] + sm_u[m, j] - sm_l[m, j] * sm_u[m, j] * cvx.exp(cvx.log_sum_exp(z[m][L]) - z[m][L][j])\n",
    "            elif UBtype == 'LSE':\n",
    "                bnd = p[m, j] <= (lsm_u[m, j] * sm_l[m, j] - lsm_l[m, j] * sm_u[m, j] - (sm_u[m, j] - sm_l[m, j]) * (cvx.log_sum_exp(z[m][L]) - z[m][L][j])) / (lsm_u[m, j] - lsm_l[m, j])\n",
    "        cons.append(bnd)\n",
    "\n",
    "    # Sum to 1 constraint\n",
    "    cons.append(cvx.sum(p[m, :]) == 1)"
   ]
  },
  {
   "cell_type": "code",
   "execution_count": 29,
   "metadata": {},
   "outputs": [
    {
     "data": {
      "text/plain": [
       "[Inequality(Constant(CONSTANT, NONNEGATIVE, (784,))),\n",
       " Inequality(Variable((784,))),\n",
       " Inequality(Expression(AFFINE, UNKNOWN, (1,))),\n",
       " Inequality(Variable((1,), nonneg=True)),\n",
       " Inequality(Expression(AFFINE, UNKNOWN, (1,))),\n",
       " Inequality(Variable((1,), nonneg=True)),\n",
       " Inequality(Expression(AFFINE, UNKNOWN, (1,))),\n",
       " Inequality(Variable((1,), nonneg=True)),\n",
       " Inequality(Expression(AFFINE, UNKNOWN, (1,))),\n",
       " Inequality(Variable((1,), nonneg=True)),\n",
       " Inequality(Expression(AFFINE, UNKNOWN, (2,))),\n",
       " Inequality(Variable((2,), nonneg=True)),\n",
       " Inequality(Expression(AFFINE, UNKNOWN, (1,))),\n",
       " Inequality(Variable((1,), nonneg=True)),\n",
       " Inequality(Expression(AFFINE, UNKNOWN, (1,))),\n",
       " Inequality(Variable((1,), nonneg=True)),\n",
       " Inequality(Expression(AFFINE, UNKNOWN, (1,))),\n",
       " Inequality(Variable((1,), nonneg=True)),\n",
       " Inequality(Expression(AFFINE, NONNEGATIVE, ())),\n",
       " Inequality(Expression(AFFINE, NONNEGATIVE, ())),\n",
       " Inequality(Expression(AFFINE, NONNEGATIVE, ())),\n",
       " Inequality(Expression(AFFINE, NONNEGATIVE, ())),\n",
       " Inequality(Expression(AFFINE, NONNEGATIVE, ())),\n",
       " Inequality(Expression(AFFINE, NONNEGATIVE, ())),\n",
       " Inequality(Expression(AFFINE, NONNEGATIVE, ())),\n",
       " Inequality(Expression(AFFINE, UNKNOWN, ())),\n",
       " Inequality(Expression(AFFINE, NONNEGATIVE, ())),\n",
       " Inequality(Expression(AFFINE, NONNEGATIVE, ())),\n",
       " Equality(Expression(AFFINE, NONNEGATIVE, ()), Constant(CONSTANT, NONNEGATIVE, ())),\n",
       " Inequality(Expression(AFFINE, NONNEGATIVE, ())),\n",
       " Inequality(Expression(AFFINE, NONNEGATIVE, ())),\n",
       " Inequality(Expression(AFFINE, NONNEGATIVE, ())),\n",
       " Inequality(Expression(AFFINE, NONNEGATIVE, ())),\n",
       " Inequality(Expression(AFFINE, NONNEGATIVE, ())),\n",
       " Inequality(Expression(AFFINE, NONNEGATIVE, ())),\n",
       " Inequality(Expression(AFFINE, NONNEGATIVE, ())),\n",
       " Inequality(Expression(AFFINE, UNKNOWN, ())),\n",
       " Inequality(Expression(AFFINE, NONNEGATIVE, ())),\n",
       " Inequality(Expression(AFFINE, NONNEGATIVE, ())),\n",
       " Equality(Expression(AFFINE, NONNEGATIVE, ()), Constant(CONSTANT, NONNEGATIVE, ())),\n",
       " Inequality(Expression(AFFINE, NONNEGATIVE, ())),\n",
       " Inequality(Expression(AFFINE, NONNEGATIVE, ())),\n",
       " Inequality(Expression(AFFINE, NONNEGATIVE, ())),\n",
       " Inequality(Expression(AFFINE, NONNEGATIVE, ())),\n",
       " Inequality(Expression(AFFINE, NONNEGATIVE, ())),\n",
       " Inequality(Expression(AFFINE, NONNEGATIVE, ())),\n",
       " Inequality(Expression(AFFINE, NONNEGATIVE, ())),\n",
       " Inequality(Expression(AFFINE, UNKNOWN, ())),\n",
       " Inequality(Expression(AFFINE, NONNEGATIVE, ())),\n",
       " Inequality(Expression(AFFINE, NONNEGATIVE, ())),\n",
       " Equality(Expression(AFFINE, NONNEGATIVE, ()), Constant(CONSTANT, NONNEGATIVE, ())),\n",
       " Inequality(Expression(AFFINE, NONNEGATIVE, ())),\n",
       " Inequality(Expression(AFFINE, NONNEGATIVE, ())),\n",
       " Inequality(Expression(AFFINE, NONNEGATIVE, ())),\n",
       " Inequality(Expression(AFFINE, NONNEGATIVE, ())),\n",
       " Inequality(Expression(AFFINE, NONNEGATIVE, ())),\n",
       " Inequality(Expression(AFFINE, NONNEGATIVE, ())),\n",
       " Inequality(Expression(AFFINE, NONNEGATIVE, ())),\n",
       " Inequality(Expression(AFFINE, UNKNOWN, ())),\n",
       " Inequality(Expression(AFFINE, NONNEGATIVE, ())),\n",
       " Inequality(Expression(AFFINE, NONNEGATIVE, ())),\n",
       " Equality(Expression(AFFINE, NONNEGATIVE, ()), Constant(CONSTANT, NONNEGATIVE, ())),\n",
       " Inequality(Expression(AFFINE, NONNEGATIVE, ())),\n",
       " Inequality(Expression(AFFINE, NONNEGATIVE, ())),\n",
       " Inequality(Expression(AFFINE, NONNEGATIVE, ())),\n",
       " Inequality(Expression(AFFINE, NONNEGATIVE, ())),\n",
       " Inequality(Expression(AFFINE, NONNEGATIVE, ())),\n",
       " Inequality(Expression(AFFINE, NONNEGATIVE, ())),\n",
       " Inequality(Expression(AFFINE, NONNEGATIVE, ())),\n",
       " Inequality(Expression(AFFINE, UNKNOWN, ())),\n",
       " Inequality(Expression(AFFINE, NONNEGATIVE, ())),\n",
       " Inequality(Expression(AFFINE, NONNEGATIVE, ())),\n",
       " Equality(Expression(AFFINE, NONNEGATIVE, ()), Constant(CONSTANT, NONNEGATIVE, ()))]"
      ]
     },
     "execution_count": 29,
     "metadata": {},
     "output_type": "execute_result"
    }
   ],
   "source": [
    "cons"
   ]
  },
  {
   "cell_type": "markdown",
   "metadata": {},
   "source": [
    "#### Score function upper bound (use only one of the following)"
   ]
  },
  {
   "cell_type": "markdown",
   "metadata": {},
   "source": [
    "Negative log-likelihood: equivalently minimize probability of correct class"
   ]
  },
  {
   "cell_type": "code",
   "execution_count": 30,
   "metadata": {},
   "outputs": [],
   "source": [
    "#score_ub = -p[yt[i]]\n",
    "score_ub = -cvx.sum(p[:, yt[i]]) / M"
   ]
  },
  {
   "cell_type": "markdown",
   "metadata": {},
   "source": [
    "Brier score: linear upper bound"
   ]
  },
  {
   "cell_type": "code",
   "execution_count": 49,
   "metadata": {},
   "outputs": [],
   "source": [
    "others = np.arange(d) != yt[i]\n",
    "score_ub = -(2 - sm_l[:, yt[i]].mean() - sm_u[:, yt[i]].mean()) * cvx.sum(p[:, yt[i]]) / M + (sm_l[:, others].mean(axis=0) + sm_u[:, others].mean(axis=0)) @ cvx.sum(p[:, others], axis=0) / M - np.dot(sm_l.mean(axis=0), sm_u.mean(axis=0)) + 1 "
   ]
  },
  {
   "cell_type": "code",
   "execution_count": 50,
   "metadata": {},
   "outputs": [
    {
     "data": {
      "text/plain": [
       "Expression(AFFINE, UNKNOWN, ())"
      ]
     },
     "execution_count": 50,
     "metadata": {},
     "output_type": "execute_result"
    }
   ],
   "source": [
    "score_ub"
   ]
  },
  {
   "cell_type": "markdown",
   "metadata": {},
   "source": [
    "#### Solve problem"
   ]
  },
  {
   "cell_type": "code",
   "execution_count": 51,
   "metadata": {},
   "outputs": [],
   "source": [
    "prob = cvx.Problem(cvx.Maximize(score_ub), cons)"
   ]
  },
  {
   "cell_type": "code",
   "execution_count": 52,
   "metadata": {},
   "outputs": [
    {
     "name": "stdout",
     "output_type": "stream",
     "text": [
      "----------------------------------------------------------------------------\n",
      "\tSCS v2.1.1 - Splitting Conic Solver\n",
      "\t(c) Brendan O'Donoghue, Stanford University, 2012\n",
      "----------------------------------------------------------------------------\n",
      "Lin-sys: sparse-direct, nnz in A = 55157\n",
      "eps = 1.00e-04, alpha = 1.50, max_iters = 10000, normalize = 1, scale = 1.00\n",
      "acceleration_lookback = 0, rho_x = 1.00e-03\n",
      "Variables n = 843, constraints m = 1700\n",
      "Cones:\tprimal zero / dual free vars: 5\n",
      "\tlinear vars: 1695\n",
      "Setup time: 1.06e-02s\n",
      "----------------------------------------------------------------------------\n",
      " Iter | pri res | dua res | rel gap | pri obj | dua obj | kap/tau | time (s)\n",
      "----------------------------------------------------------------------------\n",
      "     0| 4.18e+00  8.53e-02  2.51e-01 -3.31e-01  4.74e-03  8.02e-17  2.73e-03 \n",
      "   100| 2.69e-03  1.42e-04  1.76e-04  1.99e-02  1.97e-02  2.14e-18  2.07e-02 \n",
      "   200| 6.58e-04  4.72e-05  4.94e-05  1.99e-02  1.99e-02  7.95e-18  3.80e-02 \n",
      "   300| 2.11e-04  1.88e-05  1.56e-05  1.99e-02  1.99e-02  7.95e-18  5.56e-02 \n",
      "   400| 1.36e-04  1.49e-06  1.61e-06  1.99e-02  1.99e-02  7.94e-18  7.32e-02 \n",
      "   460| 9.91e-05  5.55e-06  6.13e-06  1.99e-02  1.99e-02  2.13e-18  8.40e-02 \n",
      "----------------------------------------------------------------------------\n",
      "Status: Solved\n",
      "Timing: Solve time: 8.40e-02s\n",
      "\tLin-sys: nnz in L factor: 60186, avg solve time: 1.31e-04s\n",
      "\tCones: avg projection time: 2.06e-06s\n",
      "\tAcceleration: avg step time: 3.83e-08s\n",
      "----------------------------------------------------------------------------\n",
      "Error metrics:\n",
      "dist(s, K) = 4.0622e-16, dist(y, K*) = 0.0000e+00, s'y/|s||y| = -3.8293e-17\n",
      "primal res: |Ax + s - b|_2 / (1 + |b|_2) = 9.9111e-05\n",
      "dual res:   |A'y + c|_2 / (1 + |c|_2) = 5.5517e-06\n",
      "rel gap:    |c'x + b'y| / (1 + |c'x| + |b'y|) = 6.1294e-06\n",
      "----------------------------------------------------------------------------\n",
      "c'x = 0.0199, -b'y = 0.0199\n",
      "============================================================================\n"
     ]
    },
    {
     "data": {
      "text/plain": [
       "0.0006721039696381201"
      ]
     },
     "execution_count": 52,
     "metadata": {},
     "output_type": "execute_result"
    }
   ],
   "source": [
    "prob.solve(solver='SCS', verbose=True, acceleration_lookback=0, max_iters=int(1e4))\n",
    "#prob.solve(solver='SCS', verbose=True, acceleration_lookback=0, max_iters=int(1e4), eps=1e-5)\n",
    "#prob.solve(solver='SCS', verbose=True, acceleration_lookback=0, max_iters=int(1e4), scale=0.01)"
   ]
  },
  {
   "cell_type": "code",
   "execution_count": 53,
   "metadata": {},
   "outputs": [
    {
     "data": {
      "text/plain": [
       "0.0006721039696381201"
      ]
     },
     "execution_count": 53,
     "metadata": {},
     "output_type": "execute_result"
    }
   ],
   "source": [
    "prob.value"
   ]
  },
  {
   "cell_type": "code",
   "execution_count": 54,
   "metadata": {},
   "outputs": [
    {
     "data": {
      "text/plain": [
       "'optimal'"
      ]
     },
     "execution_count": 54,
     "metadata": {},
     "output_type": "execute_result"
    }
   ],
   "source": [
    "prob.status"
   ]
  },
  {
   "cell_type": "markdown",
   "metadata": {},
   "source": [
    "Check values of variables:"
   ]
  },
  {
   "cell_type": "code",
   "execution_count": 55,
   "metadata": {},
   "outputs": [
    {
     "name": "stdout",
     "output_type": "stream",
     "text": [
      "[[  1.8117       2.72938061   3.7385    ]\n",
      " [ -3.6509      -2.89044055  -1.9574    ]\n",
      " [  4.7991       5.75015442   7.2427    ]\n",
      " [  7.2054       8.2013068    8.9914    ]\n",
      " [ -0.75         0.17778978   1.3051    ]\n",
      " [  1.283        2.8058071    2.9718    ]\n",
      " [-13.0397     -11.46452456 -10.963     ]\n",
      " [ 11.0574      11.50672687  14.1932    ]\n",
      " [ -2.5334      -0.44001715   0.2762    ]\n",
      " [  2.0738       3.39627875   4.6493    ]]\n",
      "[[ -1.6432      -0.70844717  -0.1942    ]\n",
      " [-11.0004     -10.09857254  -9.0746    ]\n",
      " [  2.2643       3.27576939   4.365     ]\n",
      " [  1.6698       2.52755622   3.2216    ]\n",
      " [ -6.7737      -6.27380527  -5.5967    ]\n",
      " [ -7.8203      -6.27638085  -5.285     ]\n",
      " [-13.2744     -12.09508335 -11.2941    ]\n",
      " [ 10.9614      11.27100572  12.303     ]\n",
      " [  0.6247       1.78679536   2.1705    ]\n",
      " [  2.4305       2.80496033   3.3569    ]]\n"
     ]
    }
   ],
   "source": [
    "for m in range(2):\n",
    "    print(np.hstack((l[m][L][:,np.newaxis], z[m][L].value[:,np.newaxis], u[m][L][:,np.newaxis])))"
   ]
  },
  {
   "cell_type": "code",
   "execution_count": 37,
   "metadata": {},
   "outputs": [
    {
     "ename": "AttributeError",
     "evalue": "'NoneType' object has no attribute 'value'",
     "output_type": "error",
     "traceback": [
      "\u001b[0;31m---------------------------------------------------------------------------\u001b[0m",
      "\u001b[0;31mAttributeError\u001b[0m                            Traceback (most recent call last)",
      "\u001b[0;32m<ipython-input-37-5e83bf88eba3>\u001b[0m in \u001b[0;36m<module>\u001b[0;34m\u001b[0m\n\u001b[1;32m      1\u001b[0m \u001b[0;32mfor\u001b[0m \u001b[0mm\u001b[0m \u001b[0;32min\u001b[0m \u001b[0mrange\u001b[0m\u001b[0;34m(\u001b[0m\u001b[0;36m2\u001b[0m\u001b[0;34m)\u001b[0m\u001b[0;34m:\u001b[0m\u001b[0;34m\u001b[0m\u001b[0;34m\u001b[0m\u001b[0m\n\u001b[0;32m----> 2\u001b[0;31m     \u001b[0mprint\u001b[0m\u001b[0;34m(\u001b[0m\u001b[0mnp\u001b[0m\u001b[0;34m.\u001b[0m\u001b[0mhstack\u001b[0m\u001b[0;34m(\u001b[0m\u001b[0;34m(\u001b[0m\u001b[0mdiffs_l\u001b[0m\u001b[0;34m[\u001b[0m\u001b[0mm\u001b[0m\u001b[0;34m,\u001b[0m\u001b[0myt\u001b[0m\u001b[0;34m[\u001b[0m\u001b[0;36m0\u001b[0m\u001b[0;34m]\u001b[0m\u001b[0;34m,\u001b[0m\u001b[0mnp\u001b[0m\u001b[0;34m.\u001b[0m\u001b[0mnewaxis\u001b[0m\u001b[0;34m]\u001b[0m\u001b[0;34m.\u001b[0m\u001b[0mT\u001b[0m\u001b[0;34m,\u001b[0m \u001b[0mdiffs\u001b[0m\u001b[0;34m[\u001b[0m\u001b[0mm\u001b[0m\u001b[0;34m]\u001b[0m\u001b[0;34m.\u001b[0m\u001b[0mvalue\u001b[0m\u001b[0;34m[\u001b[0m\u001b[0;34m:\u001b[0m\u001b[0;34m,\u001b[0m\u001b[0mnp\u001b[0m\u001b[0;34m.\u001b[0m\u001b[0mnewaxis\u001b[0m\u001b[0;34m]\u001b[0m\u001b[0;34m,\u001b[0m \u001b[0mdiffs_u\u001b[0m\u001b[0;34m[\u001b[0m\u001b[0mm\u001b[0m\u001b[0;34m,\u001b[0m\u001b[0myt\u001b[0m\u001b[0;34m[\u001b[0m\u001b[0;36m0\u001b[0m\u001b[0;34m]\u001b[0m\u001b[0;34m,\u001b[0m\u001b[0mnp\u001b[0m\u001b[0;34m.\u001b[0m\u001b[0mnewaxis\u001b[0m\u001b[0;34m]\u001b[0m\u001b[0;34m.\u001b[0m\u001b[0mT\u001b[0m\u001b[0;34m)\u001b[0m\u001b[0;34m)\u001b[0m\u001b[0;34m)\u001b[0m\u001b[0;34m\u001b[0m\u001b[0;34m\u001b[0m\u001b[0m\n\u001b[0m",
      "\u001b[0;31mAttributeError\u001b[0m: 'NoneType' object has no attribute 'value'"
     ]
    }
   ],
   "source": [
    "for m in range(2):\n",
    "    print(np.hstack((diffs_l[m,yt[0],np.newaxis].T, diffs[m].value[:,np.newaxis], diffs_u[m,yt[0],np.newaxis].T)))"
   ]
  },
  {
   "cell_type": "code",
   "execution_count": 56,
   "metadata": {},
   "outputs": [
    {
     "name": "stdout",
     "output_type": "stream",
     "text": [
      "[[8.16242010e-06 1.48187236e-04 0.00000000e+00 2.94950674e-04]\n",
      " [4.09312976e-08 5.37221617e-07 0.00000000e+00 1.08400227e-06]\n",
      " [5.00955898e-04 3.03889849e-03 0.00000000e+00 3.93832291e-03]\n",
      " [2.66599216e-03 3.52564149e-02 4.39379031e-02 3.99740779e-02]\n",
      " [6.41386515e-07 1.15523138e-05 0.00000000e+00 2.78032590e-05]\n",
      " [2.87680890e-06 1.59956687e-04 0.00000000e+00 2.52094435e-04]\n",
      " [1.70034911e-12 1.01502352e-10 0.00000000e+00 2.29795660e-10]\n",
      " [9.54664722e-01 9.61089529e-01 9.56550423e-01 9.96807482e-01]\n",
      " [6.06122309e-08 6.22814677e-06 0.00000000e+00 1.59987217e-05]\n",
      " [7.66593859e-06 2.88696143e-04 0.00000000e+00 1.13173551e-03]]\n",
      "[[1.28587098e-06 6.26681693e-06 0.00000000e+00 9.91120562e-06]\n",
      " [9.32036535e-11 5.23561102e-10 0.00000000e+00 1.60635859e-09]\n",
      " [7.16617564e-05 3.36798596e-04 0.00000000e+00 8.30354818e-04]\n",
      " [3.48515801e-05 1.59376917e-04 6.98974965e-04 3.04862182e-04]\n",
      " [7.42595491e-09 2.39906875e-08 4.09905492e-04 4.44212988e-08]\n",
      " [2.52095639e-09 2.39289771e-08 0.00000000e+00 6.44741538e-08]\n",
      " [9.93733512e-12 7.11039531e-11 0.00000000e+00 1.68146220e-10]\n",
      " [9.98421774e-01 9.99211196e-01 9.98806388e-01 9.99801259e-01]\n",
      " [1.16029140e-05 7.59831107e-05 0.00000000e+00 1.10101456e-04]\n",
      " [7.92729756e-05 2.10329648e-04 2.46739434e-04 3.23885636e-04]]\n"
     ]
    }
   ],
   "source": [
    "for m in range(2):\n",
    "    print(np.hstack((sm_l[m,np.newaxis].T, softmax(z[m][L].value)[:,np.newaxis], p.value[m,np.newaxis].T, sm_u[m,np.newaxis].T)))\n",
    "#np.hstack((sm_l[:,np.newaxis], p.value[:,np.newaxis], softmax(z.value)[:,np.newaxis], sm_u[:,np.newaxis])) "
   ]
  },
  {
   "cell_type": "markdown",
   "metadata": {},
   "source": [
    "Checks for NLL:"
   ]
  },
  {
   "cell_type": "code",
   "execution_count": 57,
   "metadata": {},
   "outputs": [],
   "source": [
    "def eval_ER_l(X, diffs_l, diffs_u):\n",
    "    \"\"\"\n",
    "    Evaluate exponential-reciprocal lower bound at points in X (shape (n, d))\n",
    "    \"\"\"\n",
    "    diffs = X[:, np.arange(d)!=yt[i]] - X[:, yt[i]]\n",
    "    # Coefficients of affine function of diffs\n",
    "    a_ER_l = (np.exp(diffs_u) - np.exp(diffs_l)) / (diffs_u - diffs_l)\n",
    "    b_ER_l = ((diffs_u * np.exp(diffs_l) - diffs_l * np.exp(diffs_u)) / (diffs_u - diffs_l)).sum()\n",
    "    \n",
    "    ER_l = 1 / (1 + np.dot(diffs, a_ER_l) + b_ER_l)\n",
    "    return ER_l\n"
   ]
  },
  {
   "cell_type": "code",
   "execution_count": 58,
   "metadata": {},
   "outputs": [
    {
     "name": "stdout",
     "output_type": "stream",
     "text": [
      "[0.95706412 0.99887443 0.96218544 0.99303047 0.99839486]\n",
      "0.9819098635229982\n"
     ]
    }
   ],
   "source": [
    "pStarLB = np.empty(M)\n",
    "for m in range(M):\n",
    "    pStarLB[m] = eval_ER_l(z[m][L].value[np.newaxis, :], diffs_l[m,yt[i]], diffs_u[m,yt[i]])\n",
    "print(pStarLB)\n",
    "print(pStarLB.mean())"
   ]
  },
  {
   "cell_type": "code",
   "execution_count": 59,
   "metadata": {},
   "outputs": [
    {
     "data": {
      "text/plain": [
       "array([[0.00000000e+00, 0.00000000e+00, 0.00000000e+00, 4.39379031e-02,\n",
       "        0.00000000e+00, 0.00000000e+00, 0.00000000e+00, 9.56550423e-01,\n",
       "        0.00000000e+00, 0.00000000e+00],\n",
       "       [0.00000000e+00, 0.00000000e+00, 0.00000000e+00, 6.98974965e-04,\n",
       "        4.09905492e-04, 0.00000000e+00, 0.00000000e+00, 9.98806388e-01,\n",
       "        0.00000000e+00, 2.46739434e-04],\n",
       "       [0.00000000e+00, 0.00000000e+00, 0.00000000e+00, 3.84481034e-02,\n",
       "        0.00000000e+00, 0.00000000e+00, 0.00000000e+00, 9.61805972e-01,\n",
       "        0.00000000e+00, 0.00000000e+00],\n",
       "       [0.00000000e+00, 0.00000000e+00, 0.00000000e+00, 7.35546139e-03,\n",
       "        0.00000000e+00, 0.00000000e+00, 0.00000000e+00, 9.92942288e-01,\n",
       "        0.00000000e+00, 0.00000000e+00],\n",
       "       [0.00000000e+00, 0.00000000e+00, 0.00000000e+00, 1.91213624e-03,\n",
       "        0.00000000e+00, 0.00000000e+00, 0.00000000e+00, 9.98320098e-01,\n",
       "        0.00000000e+00, 0.00000000e+00]])"
      ]
     },
     "execution_count": 59,
     "metadata": {},
     "output_type": "execute_result"
    }
   ],
   "source": [
    "p.value"
   ]
  },
  {
   "cell_type": "markdown",
   "metadata": {},
   "source": [
    "Checks for Brier score:"
   ]
  },
  {
   "cell_type": "code",
   "execution_count": 60,
   "metadata": {},
   "outputs": [
    {
     "data": {
      "text/plain": [
       "array([[1.48187236e-04, 5.37221617e-07, 3.03889849e-03, 3.52564149e-02,\n",
       "        1.15523138e-05, 1.59956687e-04, 1.01502352e-10, 9.61089529e-01,\n",
       "        6.22814677e-06, 2.88696143e-04],\n",
       "       [6.26681693e-06, 5.23561102e-10, 3.36798596e-04, 1.59376917e-04,\n",
       "        2.39906875e-08, 2.39289771e-08, 7.11039531e-11, 9.99211196e-01,\n",
       "        7.59831107e-05, 2.10329648e-04],\n",
       "       [7.49899028e-06, 1.40261776e-08, 1.06606816e-05, 3.12976726e-02,\n",
       "        5.97865180e-10, 5.87959378e-06, 8.46225644e-14, 9.68159731e-01,\n",
       "        1.00835236e-05, 5.08458535e-04],\n",
       "       [3.36269860e-06, 4.11708337e-07, 4.13967153e-04, 3.66492958e-03,\n",
       "        1.07364344e-09, 2.95562005e-05, 4.71705039e-11, 9.94718893e-01,\n",
       "        2.81676016e-05, 1.14071063e-03],\n",
       "       [4.67453164e-06, 1.53588931e-05, 5.45093807e-04, 2.12446649e-04,\n",
       "        7.13315811e-05, 8.51637100e-05, 8.30072927e-06, 9.99004647e-01,\n",
       "        4.12915065e-06, 4.88544129e-05]])"
      ]
     },
     "execution_count": 60,
     "metadata": {},
     "output_type": "execute_result"
    }
   ],
   "source": [
    "logits = np.empty((M, d))\n",
    "for m in range(M):\n",
    "    logits[m] = z[m][L].value\n",
    "softmax(logits, axis=1)"
   ]
  },
  {
   "cell_type": "code",
   "execution_count": 61,
   "metadata": {},
   "outputs": [
    {
     "data": {
      "text/plain": [
       "0.0004424894895340013"
      ]
     },
     "execution_count": 61,
     "metadata": {},
     "output_type": "execute_result"
    }
   ],
   "source": [
    "((softmax(logits, axis=1).mean(axis=0) - (np.arange(d) == yt[0]))**2).sum()"
   ]
  },
  {
   "cell_type": "code",
   "execution_count": 62,
   "metadata": {},
   "outputs": [
    {
     "data": {
      "text/plain": [
       "0.0006747775436752736"
      ]
     },
     "execution_count": 62,
     "metadata": {},
     "output_type": "execute_result"
    }
   ],
   "source": [
    "test = sm_u.copy()\n",
    "test[:, yt[i]] = sm_l[:, yt[i]]\n",
    "((test.mean(axis=0) - (np.arange(d) == yt[i]))**2).sum()"
   ]
  },
  {
   "cell_type": "code",
   "execution_count": 63,
   "metadata": {},
   "outputs": [
    {
     "data": {
      "text/plain": [
       "array([6.67207634e-05, 5.74700220e-06, 1.33696517e-03, 1.70193998e-02,\n",
       "       3.42051326e-05, 8.64760679e-05, 2.17573954e-06, 9.80449233e-01,\n",
       "       3.99986564e-05, 1.04060985e-03])"
      ]
     },
     "execution_count": 63,
     "metadata": {},
     "output_type": "execute_result"
    }
   ],
   "source": [
    "test.mean(axis=0)"
   ]
  },
  {
   "cell_type": "code",
   "execution_count": 64,
   "metadata": {},
   "outputs": [
    {
     "data": {
      "text/plain": [
       "0.0006721710796561142"
      ]
     },
     "execution_count": 64,
     "metadata": {},
     "output_type": "execute_result"
    }
   ],
   "source": [
    "-(2 - sm_l[:, yt[i]].mean() - sm_u[:, yt[i]].mean()) * p.value[:, yt[i]].mean() + (sm_l[:, others].mean(axis=0) + sm_u[:, others].mean(axis=0)) @ p.value[:, others].mean(axis=0) - np.dot(sm_l.mean(axis=0), sm_u.mean(axis=0)) + 1 "
   ]
  },
  {
   "cell_type": "code",
   "execution_count": 65,
   "metadata": {},
   "outputs": [
    {
     "data": {
      "text/plain": [
       "0.0006747775436751757"
      ]
     },
     "execution_count": 65,
     "metadata": {},
     "output_type": "execute_result"
    }
   ],
   "source": [
    "-(2 - sm_l[:, yt[i]].mean() - sm_u[:, yt[i]].mean()) * test[:,yt[i]].mean() + (sm_l[:, others].mean(axis=0) + sm_u[:, others].mean(axis=0)) @ test[:,others].mean(axis=0) - np.dot(sm_l.mean(axis=0), sm_u.mean(axis=0)) + 1 "
   ]
  },
  {
   "cell_type": "code",
   "execution_count": null,
   "metadata": {},
   "outputs": [],
   "source": []
  },
  {
   "cell_type": "markdown",
   "metadata": {},
   "source": [
    "## OLD"
   ]
  },
  {
   "cell_type": "markdown",
   "metadata": {},
   "source": [
    "#### Hidden layer 1"
   ]
  },
  {
   "cell_type": "code",
   "execution_count": 705,
   "metadata": {},
   "outputs": [
    {
     "data": {
      "text/plain": [
       "(array([-1.2855,  0.6487,  0.5012, -3.622 , -2.8138, -0.5145,  2.1417,\n",
       "         1.1181,  2.7157,  7.5092]),\n",
       " array([ 2.1951,  4.4368,  3.454 , -0.8622,  0.0459,  3.5994,  4.9922,\n",
       "         4.9872,  6.7239, 10.9493]))"
      ]
     },
     "execution_count": 705,
     "metadata": {},
     "output_type": "execute_result"
    }
   ],
   "source": [
    "l0 = np.array(lbs[1])\n",
    "u0 = np.array(ubs[1])\n",
    "l0, u0"
   ]
  },
  {
   "cell_type": "code",
   "execution_count": 706,
   "metadata": {},
   "outputs": [],
   "source": [
    "# Drop inactive neurons\n",
    "inactive0 = u0 <= 0\n",
    "w0 = w0[:, ~inactive0]\n",
    "b0 = b0[~inactive0]\n",
    "l0 = l0[~inactive0]\n",
    "u0 = u0[~inactive0]"
   ]
  },
  {
   "cell_type": "code",
   "execution_count": 707,
   "metadata": {},
   "outputs": [
    {
     "data": {
      "text/plain": [
       "(9, 10)"
      ]
     },
     "execution_count": 707,
     "metadata": {},
     "output_type": "execute_result"
    }
   ],
   "source": [
    "w1 = w1[~inactive0, :]\n",
    "w1.shape"
   ]
  },
  {
   "cell_type": "code",
   "execution_count": 708,
   "metadata": {},
   "outputs": [
    {
     "data": {
      "text/plain": [
       "(array([-1.2855,  0.6487,  0.5012, -2.8138, -0.5145,  2.1417,  1.1181,\n",
       "         2.7157,  7.5092]),\n",
       " array([ 2.1951,  4.4368,  3.454 ,  0.0459,  3.5994,  4.9922,  4.9872,\n",
       "         6.7239, 10.9493]))"
      ]
     },
     "execution_count": 708,
     "metadata": {},
     "output_type": "execute_result"
    }
   ],
   "source": [
    "w0.shape, b0.shape\n",
    "l0, u0"
   ]
  },
  {
   "cell_type": "code",
   "execution_count": 709,
   "metadata": {},
   "outputs": [
    {
     "data": {
      "text/plain": [
       "(array([False,  True,  True, False, False,  True,  True,  True,  True]),\n",
       " array([ True, False, False,  True,  True, False, False, False, False]))"
      ]
     },
     "execution_count": 709,
     "metadata": {},
     "output_type": "execute_result"
    }
   ],
   "source": [
    "unstable0 = l0 < 0\n",
    "active0 = ~unstable0\n",
    "active0, unstable0"
   ]
  },
  {
   "cell_type": "code",
   "execution_count": 710,
   "metadata": {},
   "outputs": [],
   "source": [
    "nActive = active0.sum()\n",
    "nUnstable = unstable0.sum()\n",
    "#xa1 = cvx.Variable(nActive)\n",
    "xu1 = cvx.Variable(nUnstable, nonneg=True)"
   ]
  },
  {
   "cell_type": "code",
   "execution_count": 650,
   "metadata": {},
   "outputs": [
    {
     "data": {
      "text/plain": [
       "[Inequality(Constant(CONSTANT, NONNEGATIVE, (784,))),\n",
       " Inequality(Variable((784,))),\n",
       " Equality(Variable((6,)), Expression(AFFINE, UNKNOWN, (6,)))]"
      ]
     },
     "execution_count": 650,
     "metadata": {},
     "output_type": "execute_result"
    }
   ],
   "source": [
    "cons.append(xa1 == x0 @ w0[:, active0] + b0[active0])\n",
    "cons"
   ]
  },
  {
   "cell_type": "code",
   "execution_count": 651,
   "metadata": {},
   "outputs": [
    {
     "data": {
      "text/plain": [
       "[Inequality(Constant(CONSTANT, NONNEGATIVE, (784,))),\n",
       " Inequality(Variable((784,))),\n",
       " Equality(Variable((6,)), Expression(AFFINE, UNKNOWN, (6,))),\n",
       " Inequality(Constant(CONSTANT, NONNEGATIVE, (6,))),\n",
       " Inequality(Variable((6,)))]"
      ]
     },
     "execution_count": 651,
     "metadata": {},
     "output_type": "execute_result"
    }
   ],
   "source": [
    "cons += [xa1 >= l0[active0], xa1 <= u0[active0]]\n",
    "cons"
   ]
  },
  {
   "cell_type": "code",
   "execution_count": 711,
   "metadata": {},
   "outputs": [
    {
     "data": {
      "text/plain": [
       "Expression(AFFINE, UNKNOWN, (6,))"
      ]
     },
     "execution_count": 711,
     "metadata": {},
     "output_type": "execute_result"
    }
   ],
   "source": [
    "xa1 = x0 @ w0[:, active0] + b0[active0]\n",
    "xa1"
   ]
  },
  {
   "cell_type": "code",
   "execution_count": 712,
   "metadata": {},
   "outputs": [
    {
     "data": {
      "text/plain": [
       "[Inequality(Constant(CONSTANT, NONNEGATIVE, (784,))),\n",
       " Inequality(Variable((784,))),\n",
       " Inequality(Expression(AFFINE, UNKNOWN, (3,)))]"
      ]
     },
     "execution_count": 712,
     "metadata": {},
     "output_type": "execute_result"
    }
   ],
   "source": [
    "cons.append(xu1 >= x0 @ w0[:, unstable0] + b0[unstable0])\n",
    "cons"
   ]
  },
  {
   "cell_type": "code",
   "execution_count": 713,
   "metadata": {},
   "outputs": [
    {
     "data": {
      "text/plain": [
       "[Inequality(Constant(CONSTANT, NONNEGATIVE, (784,))),\n",
       " Inequality(Variable((784,))),\n",
       " Inequality(Expression(AFFINE, UNKNOWN, (3,))),\n",
       " Inequality(Variable((3,), nonneg=True))]"
      ]
     },
     "execution_count": 713,
     "metadata": {},
     "output_type": "execute_result"
    }
   ],
   "source": [
    "g0 = u0[unstable0] / (u0[unstable0] - l0[unstable0])\n",
    "cons.append(xu1 <= cvx.multiply(g0, x0 @ w0[:, unstable0] + b0[unstable0] - l0[unstable0]))\n",
    "cons"
   ]
  },
  {
   "cell_type": "markdown",
   "metadata": {},
   "source": [
    "#### Hidden layer 2"
   ]
  },
  {
   "cell_type": "code",
   "execution_count": 714,
   "metadata": {},
   "outputs": [
    {
     "data": {
      "text/plain": [
       "(array([-0.3692,  1.4975, -6.9588, -1.2922,  5.5931,  2.4842, -1.4013,\n",
       "         6.9371, -1.712 ,  0.181 ]),\n",
       " array([ 3.3785,  4.9457, -2.9962,  1.5076, 11.3816,  6.3993,  1.7474,\n",
       "        12.2549,  1.71  ,  3.7962]))"
      ]
     },
     "execution_count": 714,
     "metadata": {},
     "output_type": "execute_result"
    }
   ],
   "source": [
    "l1 = np.array(lbs[3])\n",
    "u1 = np.array(ubs[3])\n",
    "l1, u1"
   ]
  },
  {
   "cell_type": "code",
   "execution_count": 715,
   "metadata": {},
   "outputs": [],
   "source": [
    "# Drop inactive neurons\n",
    "inactive1 = u1 <= 0\n",
    "w1 = w1[:, ~inactive1]\n",
    "b1 = b1[~inactive1]\n",
    "l1 = l1[~inactive1]\n",
    "u1 = u1[~inactive1]\n",
    "w2 = w2[~inactive1, :]"
   ]
  },
  {
   "cell_type": "code",
   "execution_count": 716,
   "metadata": {},
   "outputs": [
    {
     "name": "stdout",
     "output_type": "stream",
     "text": [
      "(9, 9) (9,) (9, 10)\n"
     ]
    },
    {
     "data": {
      "text/plain": [
       "(array([-0.3692,  1.4975, -1.2922,  5.5931,  2.4842, -1.4013,  6.9371,\n",
       "        -1.712 ,  0.181 ]),\n",
       " array([ 3.3785,  4.9457,  1.5076, 11.3816,  6.3993,  1.7474, 12.2549,\n",
       "         1.71  ,  3.7962]))"
      ]
     },
     "execution_count": 716,
     "metadata": {},
     "output_type": "execute_result"
    }
   ],
   "source": [
    "print(w1.shape, b1.shape, w2.shape)\n",
    "l1, u1"
   ]
  },
  {
   "cell_type": "code",
   "execution_count": 717,
   "metadata": {},
   "outputs": [
    {
     "data": {
      "text/plain": [
       "(array([False,  True, False,  True,  True, False,  True, False,  True]),\n",
       " array([ True, False,  True, False, False,  True, False,  True, False]))"
      ]
     },
     "execution_count": 717,
     "metadata": {},
     "output_type": "execute_result"
    }
   ],
   "source": [
    "unstable1 = l1 < 0\n",
    "active1 = ~unstable1\n",
    "active1, unstable1"
   ]
  },
  {
   "cell_type": "code",
   "execution_count": 718,
   "metadata": {},
   "outputs": [],
   "source": [
    "nActive = active1.sum()\n",
    "nUnstable = unstable1.sum()\n",
    "#xa2 = cvx.Variable(nActive)\n",
    "xu2 = cvx.Variable(nUnstable, nonneg=True)"
   ]
  },
  {
   "cell_type": "code",
   "execution_count": 659,
   "metadata": {},
   "outputs": [
    {
     "data": {
      "text/plain": [
       "[Inequality(Constant(CONSTANT, NONNEGATIVE, (784,))),\n",
       " Inequality(Variable((784,))),\n",
       " Equality(Variable((6,)), Expression(AFFINE, UNKNOWN, (6,))),\n",
       " Inequality(Constant(CONSTANT, NONNEGATIVE, (6,))),\n",
       " Inequality(Variable((6,))),\n",
       " Inequality(Expression(AFFINE, UNKNOWN, (3,))),\n",
       " Inequality(Variable((3,), nonneg=True)),\n",
       " Equality(Variable((5,)), Expression(AFFINE, UNKNOWN, (5,)))]"
      ]
     },
     "execution_count": 659,
     "metadata": {},
     "output_type": "execute_result"
    }
   ],
   "source": [
    "# indices of active and unstable should be one greater\n",
    "cons.append(xa2 == xa1 @ w1[np.ix_(active0, active1)] + xu1 @ w1[np.ix_(unstable0, active1)] + b1[active1])\n",
    "cons"
   ]
  },
  {
   "cell_type": "code",
   "execution_count": 660,
   "metadata": {},
   "outputs": [
    {
     "data": {
      "text/plain": [
       "[Inequality(Constant(CONSTANT, NONNEGATIVE, (784,))),\n",
       " Inequality(Variable((784,))),\n",
       " Equality(Variable((6,)), Expression(AFFINE, UNKNOWN, (6,))),\n",
       " Inequality(Constant(CONSTANT, NONNEGATIVE, (6,))),\n",
       " Inequality(Variable((6,))),\n",
       " Inequality(Expression(AFFINE, UNKNOWN, (3,))),\n",
       " Inequality(Variable((3,), nonneg=True)),\n",
       " Equality(Variable((5,)), Expression(AFFINE, UNKNOWN, (5,))),\n",
       " Inequality(Constant(CONSTANT, NONNEGATIVE, (5,))),\n",
       " Inequality(Variable((5,)))]"
      ]
     },
     "execution_count": 660,
     "metadata": {},
     "output_type": "execute_result"
    }
   ],
   "source": [
    "cons += [xa2 >= l1[active1], xa2 <= u1[active1]]\n",
    "cons"
   ]
  },
  {
   "cell_type": "code",
   "execution_count": 719,
   "metadata": {},
   "outputs": [
    {
     "data": {
      "text/plain": [
       "Expression(AFFINE, UNKNOWN, (5,))"
      ]
     },
     "execution_count": 719,
     "metadata": {},
     "output_type": "execute_result"
    }
   ],
   "source": [
    "xa2 = xa1 @ w1[np.ix_(active0, active1)] + xu1 @ w1[np.ix_(unstable0, active1)] + b1[active1]\n",
    "xa2"
   ]
  },
  {
   "cell_type": "code",
   "execution_count": 720,
   "metadata": {},
   "outputs": [
    {
     "data": {
      "text/plain": [
       "[Inequality(Constant(CONSTANT, NONNEGATIVE, (784,))),\n",
       " Inequality(Variable((784,))),\n",
       " Inequality(Expression(AFFINE, UNKNOWN, (3,))),\n",
       " Inequality(Variable((3,), nonneg=True)),\n",
       " Inequality(Expression(AFFINE, UNKNOWN, (4,)))]"
      ]
     },
     "execution_count": 720,
     "metadata": {},
     "output_type": "execute_result"
    }
   ],
   "source": [
    "cons.append(xu2 >= xa1 @ w1[np.ix_(active0, unstable1)] + xu1 @ w1[np.ix_(unstable0, unstable1)] + b1[unstable1])\n",
    "cons"
   ]
  },
  {
   "cell_type": "code",
   "execution_count": 721,
   "metadata": {
    "scrolled": true
   },
   "outputs": [
    {
     "data": {
      "text/plain": [
       "[Inequality(Constant(CONSTANT, NONNEGATIVE, (784,))),\n",
       " Inequality(Variable((784,))),\n",
       " Inequality(Expression(AFFINE, UNKNOWN, (3,))),\n",
       " Inequality(Variable((3,), nonneg=True)),\n",
       " Inequality(Expression(AFFINE, UNKNOWN, (4,))),\n",
       " Inequality(Variable((4,), nonneg=True))]"
      ]
     },
     "execution_count": 721,
     "metadata": {},
     "output_type": "execute_result"
    }
   ],
   "source": [
    "g1 = u1[unstable1] / (u1[unstable1] - l1[unstable1])\n",
    "cons.append(xu2 <= cvx.multiply(g1, xa1 @ w1[np.ix_(active0, unstable1)] + xu1 @ w1[np.ix_(unstable0, unstable1)] + b1[unstable1] - l1[unstable1]))\n",
    "cons"
   ]
  },
  {
   "cell_type": "markdown",
   "metadata": {},
   "source": [
    "#### Logits"
   ]
  },
  {
   "cell_type": "code",
   "execution_count": 663,
   "metadata": {},
   "outputs": [],
   "source": [
    "z = cvx.Variable(10)"
   ]
  },
  {
   "cell_type": "code",
   "execution_count": 613,
   "metadata": {},
   "outputs": [],
   "source": [
    "cons = []"
   ]
  },
  {
   "cell_type": "code",
   "execution_count": 665,
   "metadata": {},
   "outputs": [
    {
     "data": {
      "text/plain": [
       "[Inequality(Constant(CONSTANT, NONNEGATIVE, (784,))),\n",
       " Inequality(Variable((784,))),\n",
       " Equality(Variable((6,)), Expression(AFFINE, UNKNOWN, (6,))),\n",
       " Inequality(Constant(CONSTANT, NONNEGATIVE, (6,))),\n",
       " Inequality(Variable((6,))),\n",
       " Inequality(Expression(AFFINE, UNKNOWN, (3,))),\n",
       " Inequality(Variable((3,), nonneg=True)),\n",
       " Equality(Variable((5,)), Expression(AFFINE, UNKNOWN, (5,))),\n",
       " Inequality(Constant(CONSTANT, NONNEGATIVE, (5,))),\n",
       " Inequality(Variable((5,))),\n",
       " Inequality(Expression(AFFINE, UNKNOWN, (4,))),\n",
       " Inequality(Variable((4,), nonneg=True)),\n",
       " Inequality(Constant(CONSTANT, UNKNOWN, (10,))),\n",
       " Inequality(Variable((10,)))]"
      ]
     },
     "execution_count": 665,
     "metadata": {},
     "output_type": "execute_result"
    }
   ],
   "source": [
    "cons += [z >= l2, z <= u2]\n",
    "cons"
   ]
  },
  {
   "cell_type": "code",
   "execution_count": 666,
   "metadata": {
    "scrolled": true
   },
   "outputs": [
    {
     "data": {
      "text/plain": [
       "[Inequality(Constant(CONSTANT, NONNEGATIVE, (784,))),\n",
       " Inequality(Variable((784,))),\n",
       " Equality(Variable((6,)), Expression(AFFINE, UNKNOWN, (6,))),\n",
       " Inequality(Constant(CONSTANT, NONNEGATIVE, (6,))),\n",
       " Inequality(Variable((6,))),\n",
       " Inequality(Expression(AFFINE, UNKNOWN, (3,))),\n",
       " Inequality(Variable((3,), nonneg=True)),\n",
       " Equality(Variable((5,)), Expression(AFFINE, UNKNOWN, (5,))),\n",
       " Inequality(Constant(CONSTANT, NONNEGATIVE, (5,))),\n",
       " Inequality(Variable((5,))),\n",
       " Inequality(Expression(AFFINE, UNKNOWN, (4,))),\n",
       " Inequality(Variable((4,), nonneg=True)),\n",
       " Inequality(Constant(CONSTANT, UNKNOWN, (10,))),\n",
       " Inequality(Variable((10,))),\n",
       " Equality(Variable((10,)), Expression(AFFINE, UNKNOWN, (10,)))]"
      ]
     },
     "execution_count": 666,
     "metadata": {},
     "output_type": "execute_result"
    }
   ],
   "source": [
    "cons.append(z == xa2 @ w2[active1, :] + xu2 @ w2[unstable1, :] + b2)\n",
    "cons"
   ]
  },
  {
   "cell_type": "markdown",
   "metadata": {},
   "source": [
    "#### Score function upper bound"
   ]
  },
  {
   "cell_type": "markdown",
   "metadata": {},
   "source": [
    "Negative log-likelihood, using LSE lower bound 1:"
   ]
  },
  {
   "cell_type": "code",
   "execution_count": 36,
   "metadata": {},
   "outputs": [],
   "source": [
    "score_ub = cvx.log(cvx.sum((cvx.multiply(np.exp(l2), u2 - z) + cvx.multiply(np.exp(u2), z - l2)) / (u2 - l2))) - z[yt[0]]"
   ]
  },
  {
   "cell_type": "markdown",
   "metadata": {},
   "source": [
    "#### Solve problem"
   ]
  },
  {
   "cell_type": "code",
   "execution_count": 371,
   "metadata": {},
   "outputs": [],
   "source": [
    "j = yt[0]\n",
    "obj = cvx.power(1 + cvx.sum((cvx.multiply(np.exp(diffs_l[j]), diffs_u[j] - diffs[j]) + cvx.multiply(np.exp(diffs_u[j]), diffs[j] - diffs_l[j])) / (diffs_u[j] - diffs_l[j])), -1)\n",
    "#obj = cvx.log(1 + cvx.sum((cvx.multiply(np.exp(diffs_l[j]), diffs_u[j] - diffs[j]) + cvx.multiply(np.exp(diffs_u[j]), diffs[j] - diffs_l[j])) / (diffs_u[j] - diffs_l[j])))\n",
    "#prob = cvx.Problem(cvx.Maximize(obj), cons)\n",
    "#prob = cvx.Problem(cvx.Minimize(obj), cons)\n",
    "bnds = []\n",
    "for j in [0, 3, 9]:\n",
    "    bnds.append(p[j] <= sm_l[j] + sm_u[j] - sm_l[j] * sm_u[j] * (1 + cvx.sum(cvx.exp(diffs[j]))) )\n",
    "prob = cvx.Problem(cvx.Minimize(p[yt[0]]), cons + [p[yt[0]] >= obj, cvx.sum(p) == 1] + bnds)"
   ]
  },
  {
   "cell_type": "markdown",
   "metadata": {},
   "source": [
    "## Scratch"
   ]
  },
  {
   "cell_type": "code",
   "execution_count": 85,
   "metadata": {},
   "outputs": [
    {
     "data": {
      "text/plain": [
       "0.9966685287667276"
      ]
     },
     "execution_count": 85,
     "metadata": {},
     "output_type": "execute_result"
    }
   ],
   "source": [
    "sm_l + sm_u - sm_l * sm_u * (1 + np.exp(z.value[others] - z.value[yt[0]]).sum())"
   ]
  },
  {
   "cell_type": "code",
   "execution_count": 86,
   "metadata": {},
   "outputs": [
    {
     "data": {
      "text/plain": [
       "0.9966673006736713"
      ]
     },
     "execution_count": 86,
     "metadata": {},
     "output_type": "execute_result"
    }
   ],
   "source": [
    "(lsm_u * sm_l - lsm_l * sm_u - (sm_u - sm_l) * (logsumexp(z.value) - z.value[yt[0]])) / (lsm_u - lsm_l)"
   ]
  },
  {
   "cell_type": "code",
   "execution_count": 212,
   "metadata": {},
   "outputs": [],
   "source": [
    "def eval_hybrid_l(X, l, u):\n",
    "    \"\"\"\n",
    "    Evaluate hybrid LSE-ER lower bound at points in X (shape (n, d))\n",
    "    \"\"\"\n",
    "    # Linear upper bound on sum of exponentials\n",
    "    a = (np.exp(u) - np.exp(l)) / (u - l)\n",
    "    b = ((u * np.exp(l) - l * np.exp(u)) / (u - l)).sum()\n",
    "    se_u = np.dot(X, a) + b\n",
    "    hybrid_l = np.exp(X[:, yt[0]]) / se_u\n",
    "    return hybrid_l\n"
   ]
  },
  {
   "cell_type": "code",
   "execution_count": 214,
   "metadata": {},
   "outputs": [
    {
     "data": {
      "text/plain": [
       "array([0.58342397])"
      ]
     },
     "execution_count": 214,
     "metadata": {},
     "output_type": "execute_result"
    }
   ],
   "source": [
    "-np.log(eval_hybrid_l(z.value[np.newaxis, :], l2, u2))"
   ]
  },
  {
   "cell_type": "code",
   "execution_count": 241,
   "metadata": {},
   "outputs": [],
   "source": [
    "prob = cvx.Problem(cvx.Minimize(z[7] - z[0]), cons)"
   ]
  },
  {
   "cell_type": "code",
   "execution_count": 242,
   "metadata": {},
   "outputs": [
    {
     "data": {
      "text/plain": [
       "8.720675386749766"
      ]
     },
     "execution_count": 242,
     "metadata": {},
     "output_type": "execute_result"
    }
   ],
   "source": [
    "prob.solve(solver='SCS')"
   ]
  },
  {
   "cell_type": "code",
   "execution_count": 244,
   "metadata": {},
   "outputs": [
    {
     "data": {
      "text/plain": [
       "(array([ -5.1751,  -6.4589,  -3.4669,  -2.0331,  -4.7503,  -4.8355,\n",
       "        -11.6982,   5.8715,  -6.908 ,  -1.0644]),\n",
       " array([-2.0966, -3.9739, -1.5482, -0.4229, -1.8881, -2.5569, -8.2361,\n",
       "         8.0983, -5.2155,  0.9379]))"
      ]
     },
     "execution_count": 244,
     "metadata": {},
     "output_type": "execute_result"
    }
   ],
   "source": [
    "l2, u2"
   ]
  },
  {
   "cell_type": "code",
   "execution_count": 245,
   "metadata": {},
   "outputs": [
    {
     "data": {
      "text/plain": [
       "array([-2.29431912, -5.31180294, -2.39607773, -1.14592626, -3.09482053,\n",
       "       -2.99467201, -9.1358624 ,  6.42635627, -5.42358417, -0.22449742])"
      ]
     },
     "execution_count": 245,
     "metadata": {},
     "output_type": "execute_result"
    }
   ],
   "source": [
    "z.value"
   ]
  },
  {
   "cell_type": "code",
   "execution_count": 247,
   "metadata": {},
   "outputs": [
    {
     "data": {
      "text/plain": [
       "array([3.80762831e-02, 6.93499081e-03, 9.45518951e-02, 3.25559019e-01,\n",
       "       4.98602537e-02, 3.05459673e-02, 7.41187851e-05, 1.31762686e+03,\n",
       "       2.61858885e-03, 1.10356907e+00])"
      ]
     },
     "execution_count": 247,
     "metadata": {},
     "output_type": "execute_result"
    }
   ],
   "source": [
    "a = (np.exp(u2) - np.exp(l2)) / (u2 - l2)\n",
    "a"
   ]
  },
  {
   "cell_type": "code",
   "execution_count": 249,
   "metadata": {},
   "outputs": [
    {
     "data": {
      "text/plain": [
       "-7378.323749876522"
      ]
     },
     "execution_count": 249,
     "metadata": {},
     "output_type": "execute_result"
    }
   ],
   "source": [
    "b = ((u2 * np.exp(l2) - l2 * np.exp(u2)) / (u2 - l2)).sum()\n",
    "b"
   ]
  },
  {
   "cell_type": "code",
   "execution_count": 251,
   "metadata": {},
   "outputs": [
    {
     "data": {
      "text/plain": [
       "1087.9836312842463"
      ]
     },
     "execution_count": 251,
     "metadata": {},
     "output_type": "execute_result"
    }
   ],
   "source": [
    "se_u = np.dot(z.value, a) + b\n",
    "se_u"
   ]
  },
  {
   "cell_type": "code",
   "execution_count": 252,
   "metadata": {},
   "outputs": [
    {
     "data": {
      "text/plain": [
       "617.9183117110357"
      ]
     },
     "execution_count": 252,
     "metadata": {},
     "output_type": "execute_result"
    }
   ],
   "source": [
    "np.exp(z.value[yt[0]])"
   ]
  },
  {
   "cell_type": "code",
   "execution_count": 258,
   "metadata": {},
   "outputs": [
    {
     "data": {
      "text/plain": [
       "array([0.99328834])"
      ]
     },
     "execution_count": 258,
     "metadata": {},
     "output_type": "execute_result"
    }
   ],
   "source": [
    "diffs_l = l2[np.arange(10)!=yt[0]] - u2[yt[0]]\n",
    "diffs_u = u2[np.arange(10)!=yt[0]] - l2[yt[0]]\n",
    "eval_ER_l(z.value[np.newaxis, :], diffs_l, diffs_u)"
   ]
  },
  {
   "cell_type": "code",
   "execution_count": 261,
   "metadata": {},
   "outputs": [
    {
     "data": {
      "text/plain": [
       "array([-12.5444, -14.0241, -10.9431,  -9.7428, -11.891 , -12.4112,\n",
       "       -19.1028, -14.6832,  -8.0356])"
      ]
     },
     "execution_count": 261,
     "metadata": {},
     "output_type": "execute_result"
    }
   ],
   "source": [
    "np.array(lbs[6])[63:72]"
   ]
  },
  {
   "cell_type": "code",
   "execution_count": 263,
   "metadata": {},
   "outputs": [
    {
     "data": {
      "text/plain": [
       "array([0.99679823])"
      ]
     },
     "execution_count": 263,
     "metadata": {},
     "output_type": "execute_result"
    }
   ],
   "source": [
    "eval_ER_l(z.value[np.newaxis, :], np.array(lbs[6])[63:72], np.array(ubs[6])[63:72])"
   ]
  },
  {
   "cell_type": "code",
   "execution_count": 273,
   "metadata": {},
   "outputs": [],
   "source": [
    "diffs_l = np.array(lbs[6])[63:72]\n",
    "diffs_u = np.array(ubs[6])[63:72]"
   ]
  },
  {
   "cell_type": "code",
   "execution_count": 274,
   "metadata": {},
   "outputs": [
    {
     "data": {
      "text/plain": [
       "(0.9958275057469839, 0.9995843211162739)"
      ]
     },
     "execution_count": 274,
     "metadata": {},
     "output_type": "execute_result"
    }
   ],
   "source": [
    "sm_l = 1 / (1 + np.exp(diffs_u).sum())\n",
    "sm_u = 1 / (1 + np.exp(diffs_l).sum())\n",
    "sm_l, sm_u"
   ]
  },
  {
   "cell_type": "code",
   "execution_count": 280,
   "metadata": {},
   "outputs": [
    {
     "data": {
      "text/plain": [
       "(-0.004181223397159428, -0.000415765302142292)"
      ]
     },
     "execution_count": 280,
     "metadata": {},
     "output_type": "execute_result"
    }
   ],
   "source": [
    "lsm_l = np.log(sm_l)\n",
    "lsm_u = np.log(sm_u)\n",
    "lsm_l, lsm_u"
   ]
  },
  {
   "cell_type": "code",
   "execution_count": 275,
   "metadata": {},
   "outputs": [
    {
     "data": {
      "text/plain": [
       "(-7.78518174460023, -5.475060056379923)"
      ]
     },
     "execution_count": 275,
     "metadata": {},
     "output_type": "execute_result"
    }
   ],
   "source": [
    "from scipy.special import logsumexp\n",
    "lse_l = logsumexp(diffs_l)\n",
    "lse_u = logsumexp(diffs_u)\n",
    "lse_l, lse_u"
   ]
  },
  {
   "cell_type": "code",
   "execution_count": 276,
   "metadata": {},
   "outputs": [
    {
     "name": "stdout",
     "output_type": "stream",
     "text": [
      "[-12.5444 -14.0241 -10.9431  -9.7428 -11.891  -12.4112 -19.1028 -14.6832\n",
      "  -8.0356]\n",
      "[ -8.72067539 -11.73815921  -8.82243399  -7.57228252  -9.5211768\n",
      "  -9.42102828 -15.56221867 -11.84994043  -6.65085369]\n",
      "[ -8.7134 -10.4332  -8.1062  -6.7326  -8.7978  -8.9615 -14.8448 -11.3933\n",
      "  -6.1138]\n"
     ]
    }
   ],
   "source": [
    "diffs = z.value[np.arange(10)!=yt[0]] - z.value[yt[0]]\n",
    "print(diffs_l)\n",
    "print(diffs)\n",
    "print(diffs_u)"
   ]
  },
  {
   "cell_type": "code",
   "execution_count": 272,
   "metadata": {},
   "outputs": [
    {
     "data": {
      "text/plain": [
       "-6.080259301010307"
      ]
     },
     "execution_count": 272,
     "metadata": {},
     "output_type": "execute_result"
    }
   ],
   "source": [
    "logsumexp(diffs)"
   ]
  },
  {
   "cell_type": "code",
   "execution_count": 277,
   "metadata": {},
   "outputs": [
    {
     "data": {
      "text/plain": [
       "-5.740845292030437"
      ]
     },
     "execution_count": 277,
     "metadata": {},
     "output_type": "execute_result"
    }
   ],
   "source": [
    "a = (np.exp(diffs_u) - np.exp(diffs_l)) / (diffs_u - diffs_l)\n",
    "b = ((diffs_u * np.exp(diffs_l) - diffs_l * np.exp(diffs_u)) / (diffs_u - diffs_l)).sum()\n",
    "np.log(np.dot(diffs, a) + b)"
   ]
  },
  {
   "cell_type": "code",
   "execution_count": 281,
   "metadata": {},
   "outputs": [
    {
     "data": {
      "text/plain": [
       "0.996259016883389"
      ]
     },
     "execution_count": 281,
     "metadata": {},
     "output_type": "execute_result"
    }
   ],
   "source": [
    "np.exp((lse_u * lsm_u - lse_l * lsm_l - (lsm_u - lsm_l) * np.log(np.dot(diffs, a) + b)) / (lse_u - lse_l))"
   ]
  },
  {
   "cell_type": "code",
   "execution_count": 282,
   "metadata": {},
   "outputs": [
    {
     "data": {
      "text/plain": [
       "0.9967982322390713"
      ]
     },
     "execution_count": 282,
     "metadata": {},
     "output_type": "execute_result"
    }
   ],
   "source": [
    "1 / (1 + np.dot(diffs, a) + b)"
   ]
  },
  {
   "cell_type": "code",
   "execution_count": 284,
   "metadata": {},
   "outputs": [
    {
     "data": {
      "text/plain": [
       "0.002284970867912273"
      ]
     },
     "execution_count": 284,
     "metadata": {},
     "output_type": "execute_result"
    }
   ],
   "source": [
    "np.log(1 + np.exp(logsumexp(diffs)))"
   ]
  },
  {
   "cell_type": "code",
   "execution_count": 285,
   "metadata": {},
   "outputs": [
    {
     "data": {
      "text/plain": [
       "0.003206904386444612"
      ]
     },
     "execution_count": 285,
     "metadata": {},
     "output_type": "execute_result"
    }
   ],
   "source": [
    "np.log(1 + np.dot(diffs, a) + b)"
   ]
  },
  {
   "cell_type": "code",
   "execution_count": 286,
   "metadata": {},
   "outputs": [
    {
     "data": {
      "text/plain": [
       "-0.0037479980946918"
      ]
     },
     "execution_count": 286,
     "metadata": {},
     "output_type": "execute_result"
    }
   ],
   "source": [
    "(lse_u * lsm_u - lse_l * lsm_l - (lsm_u - lsm_l) * np.log(np.dot(diffs, a) + b)) / (lse_u - lse_l)"
   ]
  },
  {
   "cell_type": "code",
   "execution_count": 287,
   "metadata": {},
   "outputs": [
    {
     "data": {
      "text/plain": [
       "0.00228758340332274"
      ]
     },
     "execution_count": 287,
     "metadata": {},
     "output_type": "execute_result"
    }
   ],
   "source": [
    "np.exp(logsumexp(diffs))"
   ]
  },
  {
   "cell_type": "code",
   "execution_count": 288,
   "metadata": {
    "scrolled": true
   },
   "outputs": [
    {
     "data": {
      "text/plain": [
       "0.0032120520054864012"
      ]
     },
     "execution_count": 288,
     "metadata": {},
     "output_type": "execute_result"
    }
   ],
   "source": [
    "np.dot(diffs, a) + b"
   ]
  },
  {
   "cell_type": "code",
   "execution_count": null,
   "metadata": {},
   "outputs": [],
   "source": []
  }
 ],
 "metadata": {
  "kernelspec": {
   "display_name": "Python 3",
   "language": "python",
   "name": "python3"
  },
  "language_info": {
   "codemirror_mode": {
    "name": "ipython",
    "version": 3
   },
   "file_extension": ".py",
   "mimetype": "text/x-python",
   "name": "python",
   "nbconvert_exporter": "python",
   "pygments_lexer": "ipython3",
   "version": "3.7.1"
  }
 },
 "nbformat": 4,
 "nbformat_minor": 2
}
