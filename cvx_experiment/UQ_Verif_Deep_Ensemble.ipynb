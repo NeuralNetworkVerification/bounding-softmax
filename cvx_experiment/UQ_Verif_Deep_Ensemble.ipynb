{
 "cells": [
  {
   "cell_type": "code",
   "execution_count": 1,
   "metadata": {},
   "outputs": [],
   "source": [
    "import numpy as np\n",
    "from tensorflow.keras.datasets import mnist\n",
    "import matplotlib.pyplot as plt\n",
    "import pickle\n",
    "import cvxpy as cvx\n",
    "from scipy.special import softmax, expit, logsumexp"
   ]
  },
  {
   "cell_type": "markdown",
   "metadata": {},
   "source": [
    "#### Load deep ensemble"
   ]
  },
  {
   "cell_type": "markdown",
   "metadata": {},
   "source": [
    "Ensemble dimensions:"
   ]
  },
  {
   "cell_type": "code",
   "execution_count": 2,
   "metadata": {},
   "outputs": [],
   "source": [
    "# Number of models in ensemble\n",
    "M = 5\n",
    "# Number of hidden layers\n",
    "L = 2"
   ]
  },
  {
   "cell_type": "markdown",
   "metadata": {},
   "source": [
    "Load NN weights:"
   ]
  },
  {
   "cell_type": "code",
   "execution_count": 3,
   "metadata": {},
   "outputs": [],
   "source": [
    "w = []\n",
    "b = []\n",
    "\n",
    "# Iterate over models\n",
    "for m in range(M):\n",
    "    W = np.load(\"robust_mnist2x10.npz\")\n",
    "\n",
    "    # Put weights into list of arrays\n",
    "    w.append([None] * (L + 1))\n",
    "    b.append([None] * (L + 1))\n",
    "    for ll in range(L + 1):\n",
    "        w[m][ll] = W['w' + str(ll + 1)]\n",
    "        b[m][ll] = W['b' + str(ll + 1)]\n",
    "\n",
    "#w0 = W[\"w1\"]\n",
    "#b0 = W[\"b1\"]\n",
    "#w1 = W[\"w2\"]\n",
    "#b1 = W[\"b2\"]\n",
    "#w2 = W[\"w3\"]\n",
    "#b2 = W[\"b3\"]"
   ]
  },
  {
   "cell_type": "code",
   "execution_count": 4,
   "metadata": {},
   "outputs": [
    {
     "name": "stdout",
     "output_type": "stream",
     "text": [
      "3\n",
      "[(784, 10), (10, 10), (10, 10)]\n",
      "3\n",
      "[(784, 10), (10, 10), (10, 10)]\n",
      "3\n",
      "[(784, 10), (10, 10), (10, 10)]\n",
      "3\n",
      "[(784, 10), (10, 10), (10, 10)]\n",
      "3\n",
      "[(784, 10), (10, 10), (10, 10)]\n"
     ]
    }
   ],
   "source": [
    "for m in range(M):\n",
    "    print(len(w[m]))\n",
    "    print([ww.shape for ww in w[m]])"
   ]
  },
  {
   "cell_type": "markdown",
   "metadata": {},
   "source": [
    "#### Load MNIST test images and bounds:"
   ]
  },
  {
   "cell_type": "code",
   "execution_count": 5,
   "metadata": {},
   "outputs": [],
   "source": [
    "(X, y), (Xt, yt) = mnist.load_data()"
   ]
  },
  {
   "cell_type": "code",
   "execution_count": 6,
   "metadata": {
    "scrolled": true
   },
   "outputs": [
    {
     "data": {
      "image/png": "[encoded data removed]",
      "text/plain": [
       "<Figure size 640x480 with 1 Axes>"
      ]
     },
     "metadata": {},
     "output_type": "display_data"
    }
   ],
   "source": [
    "plt.imshow(Xt[0])\n",
    "plt.show()"
   ]
  },
  {
   "cell_type": "markdown",
   "metadata": {},
   "source": [
    "Perturbation radius:"
   ]
  },
  {
   "cell_type": "code",
   "execution_count": 7,
   "metadata": {},
   "outputs": [],
   "source": [
    "eps = 0.08"
   ]
  },
  {
   "cell_type": "markdown",
   "metadata": {},
   "source": [
    "Load neuron bounds:"
   ]
  },
  {
   "cell_type": "code",
   "execution_count": 8,
   "metadata": {},
   "outputs": [],
   "source": [
    "with open(f\"./bounds/bounds_ind0_eps{eps}.pickle\", 'rb') as fp:\n",
    "    bounds = pickle.load(fp)\n",
    "lbs = bounds[\"lbs\"]\n",
    "ubs = bounds[\"ubs\"]"
   ]
  },
  {
   "cell_type": "markdown",
   "metadata": {},
   "source": [
    "#### Input layer"
   ]
  },
  {
   "cell_type": "code",
   "execution_count": 9,
   "metadata": {},
   "outputs": [],
   "source": [
    "mid0 = Xt[0].flatten() / 255"
   ]
  },
  {
   "cell_type": "code",
   "execution_count": 10,
   "metadata": {},
   "outputs": [],
   "source": [
    "# Input bounds\n",
    "l0 = np.maximum(mid0 - eps, 0)\n",
    "u0 = np.minimum(mid0 + eps, 1)"
   ]
  },
  {
   "cell_type": "code",
   "execution_count": 11,
   "metadata": {},
   "outputs": [
    {
     "data": {
      "text/plain": [
       "4.901960784314818e-05"
      ]
     },
     "execution_count": 11,
     "metadata": {},
     "output_type": "execute_result"
    }
   ],
   "source": [
    "# Check that just computed bounds are close to loaded ones\n",
    "np.abs(u0 - np.array(ubs[0])).max()"
   ]
  },
  {
   "cell_type": "code",
   "execution_count": 12,
   "metadata": {},
   "outputs": [],
   "source": [
    "D = len(mid0)\n",
    "x0 = cvx.Variable(D)"
   ]
  },
  {
   "cell_type": "code",
   "execution_count": 13,
   "metadata": {},
   "outputs": [
    {
     "data": {
      "text/plain": [
       "[Inequality(Constant(CONSTANT, NONNEGATIVE, (784,))),\n",
       " Inequality(Variable((784,)))]"
      ]
     },
     "execution_count": 13,
     "metadata": {},
     "output_type": "execute_result"
    }
   ],
   "source": [
    "# Initialize list of constraints\n",
    "cons = [x0 >= l0, x0 <= u0]\n",
    "cons"
   ]
  },
  {
   "cell_type": "markdown",
   "metadata": {},
   "source": [
    "#### Hidden layers"
   ]
  },
  {
   "cell_type": "code",
   "execution_count": 14,
   "metadata": {},
   "outputs": [],
   "source": [
    "# Initialize lists of quantities over models\n",
    "z = [None] * M\n",
    "xa = [None] * M\n",
    "xu = [None] * M\n",
    "l = [None] * M\n",
    "u = [None] * M\n",
    "inactive = [None] * M\n",
    "active = [None] * M\n",
    "unstable = [None] * M"
   ]
  },
  {
   "cell_type": "code",
   "execution_count": 15,
   "metadata": {},
   "outputs": [
    {
     "data": {
      "text/plain": [
       "[Inequality(Constant(CONSTANT, NONNEGATIVE, (784,))),\n",
       " Inequality(Variable((784,))),\n",
       " Inequality(Expression(AFFINE, UNKNOWN, (3,))),\n",
       " Inequality(Variable((3,), nonneg=True)),\n",
       " Inequality(Expression(AFFINE, UNKNOWN, (4,))),\n",
       " Inequality(Variable((4,), nonneg=True)),\n",
       " Inequality(Expression(AFFINE, UNKNOWN, (3,))),\n",
       " Inequality(Variable((3,), nonneg=True)),\n",
       " Inequality(Expression(AFFINE, UNKNOWN, (4,))),\n",
       " Inequality(Variable((4,), nonneg=True)),\n",
       " Inequality(Expression(AFFINE, UNKNOWN, (3,))),\n",
       " Inequality(Variable((3,), nonneg=True)),\n",
       " Inequality(Expression(AFFINE, UNKNOWN, (4,))),\n",
       " Inequality(Variable((4,), nonneg=True)),\n",
       " Inequality(Expression(AFFINE, UNKNOWN, (3,))),\n",
       " Inequality(Variable((3,), nonneg=True)),\n",
       " Inequality(Expression(AFFINE, UNKNOWN, (4,))),\n",
       " Inequality(Variable((4,), nonneg=True)),\n",
       " Inequality(Expression(AFFINE, UNKNOWN, (3,))),\n",
       " Inequality(Variable((3,), nonneg=True)),\n",
       " Inequality(Expression(AFFINE, UNKNOWN, (4,))),\n",
       " Inequality(Variable((4,), nonneg=True))]"
      ]
     },
     "execution_count": 15,
     "metadata": {},
     "output_type": "execute_result"
    }
   ],
   "source": [
    "# Iterate over models\n",
    "for m in range(M):\n",
    "    # Initialize lists over layers\n",
    "    z[m] = [None] * (L + 1)\n",
    "    xa[m] = [None] * L\n",
    "    xu[m] = [None] * L\n",
    "    l[m] = [None] * (L + 1)\n",
    "    u[m] = [None] * (L + 1)\n",
    "    inactive[m] = [None] * L\n",
    "    active[m] = [None] * L\n",
    "    unstable[m] = [None] * L\n",
    "    \n",
    "    # Iterate over hidden layers\n",
    "    for ll in range(L):\n",
    "        # Bounds on pre-activation neurons\n",
    "        l[m][ll] = np.array(lbs[2*ll+1])\n",
    "        u[m][ll] = np.array(ubs[2*ll+1])\n",
    "        #print(l[m][ll], u[m][ll])\n",
    "\n",
    "        # Drop inactive neurons\n",
    "        inactive[m][ll] = u[m][ll] <= 0\n",
    "        w[m][ll] = w[m][ll][:, ~inactive[m][ll]]\n",
    "        b[m][ll] = b[m][ll][~inactive[m][ll]]\n",
    "        l[m][ll] = l[m][ll][~inactive[m][ll]]\n",
    "        u[m][ll] = u[m][ll][~inactive[m][ll]]\n",
    "        w[m][ll+1] = w[m][ll+1][~inactive[m][ll], :]\n",
    "        #print(w[m][ll].shape, b[m][ll].shape, w[m][ll+1].shape)\n",
    "        #print(l[m][ll], u[m][ll])\n",
    "\n",
    "        # Find unstable and active neurons\n",
    "        unstable[m][ll] = l[m][ll] < 0\n",
    "        active[m][ll] = ~unstable[m][ll]\n",
    "        #print(active[m][ll], unstable[m][ll])\n",
    "\n",
    "        # Affine transformation\n",
    "        if ll == 0:\n",
    "            # Input layer\n",
    "            z[m][ll] = x0 @ w[m][ll] + b[m][ll]\n",
    "        else:\n",
    "            z[m][ll] = xa[m][ll-1] @ w[m][ll][active[m][ll-1], :] + xu[m][ll-1] @ w[m][ll][unstable[m][ll-1], :] + b[m][ll]\n",
    "        \n",
    "        # Define active neurons\n",
    "        #xa[ll] = xa[ll-1] @ w[ll-1][np.ix_(active[ll-1], active[ll])] + xu[ll-1] @ w[ll-1][np.ix_(unstable[ll-1], active[ll])] + b[ll-1][active[ll]]\n",
    "        xa[m][ll] = z[m][ll][active[m][ll]]\n",
    "\n",
    "        # Define and constrain unstable neurons\n",
    "        xu[m][ll] = cvx.Variable(unstable[m][ll].sum(), nonneg=True)\n",
    "        #cons.append( xu[ll] >= xa[ll-1] @ w[ll-1][np.ix_(active[ll-1], unstable[ll])] + xu[ll-1] @ w[ll-1][np.ix_(unstable[ll-1], unstable[ll])] + b[ll-1][unstable[ll]] )\n",
    "        cons.append(xu[m][ll] >= z[m][ll][unstable[m][ll]])\n",
    "        g = u[m][ll][unstable[m][ll]] / (u[m][ll][unstable[m][ll]] - l[m][ll][unstable[m][ll]])\n",
    "        #cons.append( xu[ll] <= cvx.multiply(g, xa[ll-1] @ w[ll-1][np.ix_(active[ll-1], unstable[ll])] + xu[ll-1] @ w[ll-1][np.ix_(unstable[ll-1], unstable[ll])] + b[ll-1][unstable[ll]] - l[ll][unstable[ll]]) )\n",
    "        cons.append(xu[m][ll] <= cvx.multiply(g, z[m][ll][unstable[m][ll]] - l[m][ll][unstable[m][ll]]))\n",
    "\n",
    "cons"
   ]
  },
  {
   "cell_type": "code",
   "execution_count": 16,
   "metadata": {},
   "outputs": [
    {
     "data": {
      "text/plain": [
       "([[Expression(AFFINE, UNKNOWN, (6,)), Expression(AFFINE, UNKNOWN, (5,))],\n",
       "  [Expression(AFFINE, UNKNOWN, (6,)), Expression(AFFINE, UNKNOWN, (5,))],\n",
       "  [Expression(AFFINE, UNKNOWN, (6,)), Expression(AFFINE, UNKNOWN, (5,))],\n",
       "  [Expression(AFFINE, UNKNOWN, (6,)), Expression(AFFINE, UNKNOWN, (5,))],\n",
       "  [Expression(AFFINE, UNKNOWN, (6,)), Expression(AFFINE, UNKNOWN, (5,))]],\n",
       " [[Variable((3,), nonneg=True), Variable((4,), nonneg=True)],\n",
       "  [Variable((3,), nonneg=True), Variable((4,), nonneg=True)],\n",
       "  [Variable((3,), nonneg=True), Variable((4,), nonneg=True)],\n",
       "  [Variable((3,), nonneg=True), Variable((4,), nonneg=True)],\n",
       "  [Variable((3,), nonneg=True), Variable((4,), nonneg=True)]])"
      ]
     },
     "execution_count": 16,
     "metadata": {},
     "output_type": "execute_result"
    }
   ],
   "source": [
    "xa, xu"
   ]
  },
  {
   "cell_type": "markdown",
   "metadata": {},
   "source": [
    "#### Logits"
   ]
  },
  {
   "cell_type": "code",
   "execution_count": 17,
   "metadata": {},
   "outputs": [
    {
     "data": {
      "text/plain": [
       "[[Expression(AFFINE, UNKNOWN, (9,)),\n",
       "  Expression(AFFINE, UNKNOWN, (9,)),\n",
       "  Expression(AFFINE, UNKNOWN, (10,))],\n",
       " [Expression(AFFINE, UNKNOWN, (9,)),\n",
       "  Expression(AFFINE, UNKNOWN, (9,)),\n",
       "  Expression(AFFINE, UNKNOWN, (10,))],\n",
       " [Expression(AFFINE, UNKNOWN, (9,)),\n",
       "  Expression(AFFINE, UNKNOWN, (9,)),\n",
       "  Expression(AFFINE, UNKNOWN, (10,))],\n",
       " [Expression(AFFINE, UNKNOWN, (9,)),\n",
       "  Expression(AFFINE, UNKNOWN, (9,)),\n",
       "  Expression(AFFINE, UNKNOWN, (10,))],\n",
       " [Expression(AFFINE, UNKNOWN, (9,)),\n",
       "  Expression(AFFINE, UNKNOWN, (9,)),\n",
       "  Expression(AFFINE, UNKNOWN, (10,))]]"
      ]
     },
     "execution_count": 17,
     "metadata": {},
     "output_type": "execute_result"
    }
   ],
   "source": [
    "# Iterate over models\n",
    "for m in range(M):\n",
    "    z[m][L] = xa[m][L-1] @ w[m][L][active[m][L-1], :] + xu[m][L-1] @ w[m][L][unstable[m][L-1], :] + b[m][L]\n",
    "z"
   ]
  },
  {
   "cell_type": "code",
   "execution_count": 18,
   "metadata": {},
   "outputs": [],
   "source": [
    "# Bounds on logits\n",
    "for m in range(M):\n",
    "    l[m][L] = np.array(lbs[2*L+1])\n",
    "    u[m][L] = np.array(ubs[2*L+1])\n",
    "#l2 = np.array(lbs[5])\n",
    "#u2 = np.array(ubs[5])\n",
    "#l, u"
   ]
  },
  {
   "cell_type": "code",
   "execution_count": 19,
   "metadata": {},
   "outputs": [
    {
     "data": {
      "text/plain": [
       "array([7, 7, 7, 7, 7])"
      ]
     },
     "execution_count": 19,
     "metadata": {},
     "output_type": "execute_result"
    }
   ],
   "source": [
    "# Index of largest logit in terms of midpoint\n",
    "jmax = np.empty(M, dtype=int)\n",
    "for m in range(M):\n",
    "    jmax[m] = (l[m][L] + u[m][L]).argmax()\n",
    "jmax"
   ]
  },
  {
   "cell_type": "markdown",
   "metadata": {},
   "source": [
    "#### Softmax"
   ]
  },
  {
   "cell_type": "code",
   "execution_count": 20,
   "metadata": {},
   "outputs": [],
   "source": [
    "LBtype = 'LSE'\n",
    "UBtype = 'LSE'"
   ]
  },
  {
   "cell_type": "code",
   "execution_count": 21,
   "metadata": {},
   "outputs": [],
   "source": [
    "# Number of classes\n",
    "d = 10\n",
    "\n",
    "# Output probabilities\n",
    "p = cvx.Variable((M, d), nonneg=True)"
   ]
  },
  {
   "cell_type": "markdown",
   "metadata": {},
   "source": [
    "Load and compute bounds:"
   ]
  },
  {
   "cell_type": "code",
   "execution_count": 22,
   "metadata": {},
   "outputs": [],
   "source": [
    "# Bounds on logit differences\n",
    "diffs_l = np.empty((M, d, d-1))\n",
    "diffs_u = np.empty((M, d, d-1))\n",
    "# Bounds on probabilities\n",
    "sm_l = np.empty((M, d))\n",
    "sm_u = np.empty((M, d))\n",
    "if UBtype == 'LSE':\n",
    "    lsm_l = np.empty((M, d))\n",
    "    lsm_u = np.empty((M, d))\n",
    "\n",
    "# Iterate over models\n",
    "for m in range(M):\n",
    "    # Iterate over classes\n",
    "    for j in range(d):\n",
    "        # Bounds on logit differences z_{j'} - z_j\n",
    "        diffs_l[m, j] = np.array(lbs[6])[(d-1)*j:(d-1)*(j+1)]\n",
    "        diffs_u[m, j] = np.array(ubs[6])[(d-1)*j:(d-1)*(j+1)]\n",
    "        # Constant bounds on softmax output\n",
    "        sm_l[m, j] = expit(-logsumexp(diffs_u[m, j]))\n",
    "        sm_u[m, j] = expit(-logsumexp(diffs_l[m, j]))\n",
    "        if UBtype == 'LSE':\n",
    "            # Also need log of constant bounds\n",
    "            lsm_l[m, j], lsm_u[m, j] = np.log(sm_l[m, j]), np.log(sm_u[m, j])\n"
   ]
  },
  {
   "cell_type": "code",
   "execution_count": 23,
   "metadata": {},
   "outputs": [
    {
     "name": "stdout",
     "output_type": "stream",
     "text": [
      "[[4.85158749e-07 2.75765368e-07 7.97060862e-06 2.43861283e-05\n",
      "  1.66438523e-06 1.10356091e-06 1.02594824e-09 9.63653513e-01\n",
      "  9.12210043e-08 1.11051326e-04]\n",
      " [4.85158749e-07 2.75765368e-07 7.97060862e-06 2.43861283e-05\n",
      "  1.66438523e-06 1.10356091e-06 1.02594824e-09 9.63653513e-01\n",
      "  9.12210043e-08 1.11051326e-04]\n",
      " [4.85158749e-07 2.75765368e-07 7.97060862e-06 2.43861283e-05\n",
      "  1.66438523e-06 1.10356091e-06 1.02594824e-09 9.63653513e-01\n",
      "  9.12210043e-08 1.11051326e-04]\n",
      " [4.85158749e-07 2.75765368e-07 7.97060862e-06 2.43861283e-05\n",
      "  1.66438523e-06 1.10356091e-06 1.02594824e-09 9.63653513e-01\n",
      "  9.12210043e-08 1.11051326e-04]\n",
      " [4.85158749e-07 2.75765368e-07 7.97060862e-06 2.43861283e-05\n",
      "  1.66438523e-06 1.10356091e-06 1.02594824e-09 9.63653513e-01\n",
      "  9.12210043e-08 1.11051326e-04]]\n",
      "[[3.95253078e-03 2.61973402e-04 2.75567797e-03 9.99404486e-03\n",
      "  2.08911714e-03 2.51198846e-03 1.64052423e-05 9.99852686e-01\n",
      "  2.03718425e-04 1.54540578e-02]\n",
      " [3.95253078e-03 2.61973402e-04 2.75567797e-03 9.99404486e-03\n",
      "  2.08911714e-03 2.51198846e-03 1.64052423e-05 9.99852686e-01\n",
      "  2.03718425e-04 1.54540578e-02]\n",
      " [3.95253078e-03 2.61973402e-04 2.75567797e-03 9.99404486e-03\n",
      "  2.08911714e-03 2.51198846e-03 1.64052423e-05 9.99852686e-01\n",
      "  2.03718425e-04 1.54540578e-02]\n",
      " [3.95253078e-03 2.61973402e-04 2.75567797e-03 9.99404486e-03\n",
      "  2.08911714e-03 2.51198846e-03 1.64052423e-05 9.99852686e-01\n",
      "  2.03718425e-04 1.54540578e-02]\n",
      " [3.95253078e-03 2.61973402e-04 2.75567797e-03 9.99404486e-03\n",
      "  2.08911714e-03 2.51198846e-03 1.64052423e-05 9.99852686e-01\n",
      "  2.03718425e-04 1.54540578e-02]]\n"
     ]
    }
   ],
   "source": [
    "print(sm_l)\n",
    "print(sm_u)"
   ]
  },
  {
   "cell_type": "markdown",
   "metadata": {},
   "source": [
    "Constrain softmax outputs:"
   ]
  },
  {
   "cell_type": "code",
   "execution_count": 24,
   "metadata": {},
   "outputs": [],
   "source": [
    "# Iterate over models\n",
    "diffs = [None] * M\n",
    "for m in range(M):\n",
    "    # Iterate over classes\n",
    "    for j in range(d):\n",
    "\n",
    "        # Add constraint on jth softmax output\n",
    "        if j == yt[0]:\n",
    "            # Correct class, need lower bound on probability\n",
    "            if LBtype == 'ER' or j == jmax[m]:\n",
    "                # LSE2 bound same as ER bound when j = jmax\n",
    "                # Differences with z_j\n",
    "                others = np.arange(d) != j\n",
    "                diffs[m] = z[m][L][others] - z[m][L][j]\n",
    "                #cons += [diffs[j] >= diffs_l[j], diffs[j] <= diffs_u[j]]\n",
    "                #bnd = p[j] >= cvx.power(1 + cvx.sum((cvx.multiply(np.exp(diffs_l[j]), diffs_u[j] - diffs[j]) + cvx.multiply(np.exp(diffs_u[j]), diffs[j] - diffs_l[j])) / (diffs_u[j] - diffs_l[j])), -1)\n",
    "                # Bounding log probability avoids having to use a second-order cone\n",
    "                bnd = cvx.log(p[m, j]) >= -cvx.log(1 + cvx.sum((cvx.multiply(np.exp(diffs_l[m, j]), diffs_u[m, j] - diffs[m]) + cvx.multiply(np.exp(diffs_u[m, j]), diffs[m] - diffs_l[m, j])) / (diffs_u[m, j] - diffs_l[m, j])))\n",
    "            elif LBtype == 'LSE':\n",
    "                # LSE2 bound for j != jmax\n",
    "                # Differences with z_{jmax}\n",
    "                others = np.arange(d) != jmax[m]\n",
    "                diffs[m] = z[m][L] - z[m][L][jmax[m]]\n",
    "                bnd = cvx.log(p[m, j]) >= diffs[m][j] - cvx.log(1 + cvx.sum((cvx.multiply(np.exp(diffs_l[m, jmax[m]]), diffs_u[m, jmax[m]] - diffs[m][others]) + cvx.multiply(np.exp(diffs_u[m, jmax[m]]), diffs[m][others] - diffs_l[m, jmax[m]])) / (diffs_u[m, jmax[m]] - diffs_l[m, jmax[m]])))\n",
    "        else:\n",
    "            # Incorrect class, need upper bound on probability\n",
    "            if UBtype == 'ER':\n",
    "                # CAN'T USE: HAVING MORE THAN 2 OF THESE BOUNDS PREVENTS CONVERGENCE \n",
    "                #bnd = p[j] <= sm_l[j] + sm_u[j] - sm_l[j] * sm_u[j] * (1 + cvx.sum(cvx.exp(diffs[j])))\n",
    "                bnd = p[m, j] <= sm_l[m, j] + sm_u[m, j] - sm_l[m, j] * sm_u[m, j] * cvx.exp(cvx.log_sum_exp(z[m][L]) - z[m][L][j])\n",
    "            elif UBtype == 'LSE':\n",
    "                bnd = p[m, j] <= (lsm_u[m, j] * sm_l[m, j] - lsm_l[m, j] * sm_u[m, j] - (sm_u[m, j] - sm_l[m, j]) * (cvx.log_sum_exp(z[m][L]) - z[m][L][j])) / (lsm_u[m, j] - lsm_l[m, j])\n",
    "        cons.append(bnd)\n",
    "\n",
    "    # Sum to 1 constraint\n",
    "    cons.append(cvx.sum(p[m, :]) == 1)"
   ]
  },
  {
   "cell_type": "code",
   "execution_count": 25,
   "metadata": {},
   "outputs": [
    {
     "data": {
      "text/plain": [
       "[Inequality(Constant(CONSTANT, NONNEGATIVE, (784,))),\n",
       " Inequality(Variable((784,))),\n",
       " Inequality(Expression(AFFINE, UNKNOWN, (3,))),\n",
       " Inequality(Variable((3,), nonneg=True)),\n",
       " Inequality(Expression(AFFINE, UNKNOWN, (4,))),\n",
       " Inequality(Variable((4,), nonneg=True)),\n",
       " Inequality(Expression(AFFINE, UNKNOWN, (3,))),\n",
       " Inequality(Variable((3,), nonneg=True)),\n",
       " Inequality(Expression(AFFINE, UNKNOWN, (4,))),\n",
       " Inequality(Variable((4,), nonneg=True)),\n",
       " Inequality(Expression(AFFINE, UNKNOWN, (3,))),\n",
       " Inequality(Variable((3,), nonneg=True)),\n",
       " Inequality(Expression(AFFINE, UNKNOWN, (4,))),\n",
       " Inequality(Variable((4,), nonneg=True)),\n",
       " Inequality(Expression(AFFINE, UNKNOWN, (3,))),\n",
       " Inequality(Variable((3,), nonneg=True)),\n",
       " Inequality(Expression(AFFINE, UNKNOWN, (4,))),\n",
       " Inequality(Variable((4,), nonneg=True)),\n",
       " Inequality(Expression(AFFINE, UNKNOWN, (3,))),\n",
       " Inequality(Variable((3,), nonneg=True)),\n",
       " Inequality(Expression(AFFINE, UNKNOWN, (4,))),\n",
       " Inequality(Variable((4,), nonneg=True)),\n",
       " Inequality(Expression(AFFINE, NONNEGATIVE, ())),\n",
       " Inequality(Expression(AFFINE, NONNEGATIVE, ())),\n",
       " Inequality(Expression(AFFINE, NONNEGATIVE, ())),\n",
       " Inequality(Expression(AFFINE, NONNEGATIVE, ())),\n",
       " Inequality(Expression(AFFINE, NONNEGATIVE, ())),\n",
       " Inequality(Expression(AFFINE, NONNEGATIVE, ())),\n",
       " Inequality(Expression(AFFINE, NONNEGATIVE, ())),\n",
       " Inequality(Expression(CONVEX, UNKNOWN, ())),\n",
       " Inequality(Expression(AFFINE, NONNEGATIVE, ())),\n",
       " Inequality(Expression(AFFINE, NONNEGATIVE, ())),\n",
       " Equality(Expression(AFFINE, NONNEGATIVE, ()), Constant(CONSTANT, NONNEGATIVE, ())),\n",
       " Inequality(Expression(AFFINE, NONNEGATIVE, ())),\n",
       " Inequality(Expression(AFFINE, NONNEGATIVE, ())),\n",
       " Inequality(Expression(AFFINE, NONNEGATIVE, ())),\n",
       " Inequality(Expression(AFFINE, NONNEGATIVE, ())),\n",
       " Inequality(Expression(AFFINE, NONNEGATIVE, ())),\n",
       " Inequality(Expression(AFFINE, NONNEGATIVE, ())),\n",
       " Inequality(Expression(AFFINE, NONNEGATIVE, ())),\n",
       " Inequality(Expression(CONVEX, UNKNOWN, ())),\n",
       " Inequality(Expression(AFFINE, NONNEGATIVE, ())),\n",
       " Inequality(Expression(AFFINE, NONNEGATIVE, ())),\n",
       " Equality(Expression(AFFINE, NONNEGATIVE, ()), Constant(CONSTANT, NONNEGATIVE, ())),\n",
       " Inequality(Expression(AFFINE, NONNEGATIVE, ())),\n",
       " Inequality(Expression(AFFINE, NONNEGATIVE, ())),\n",
       " Inequality(Expression(AFFINE, NONNEGATIVE, ())),\n",
       " Inequality(Expression(AFFINE, NONNEGATIVE, ())),\n",
       " Inequality(Expression(AFFINE, NONNEGATIVE, ())),\n",
       " Inequality(Expression(AFFINE, NONNEGATIVE, ())),\n",
       " Inequality(Expression(AFFINE, NONNEGATIVE, ())),\n",
       " Inequality(Expression(CONVEX, UNKNOWN, ())),\n",
       " Inequality(Expression(AFFINE, NONNEGATIVE, ())),\n",
       " Inequality(Expression(AFFINE, NONNEGATIVE, ())),\n",
       " Equality(Expression(AFFINE, NONNEGATIVE, ()), Constant(CONSTANT, NONNEGATIVE, ())),\n",
       " Inequality(Expression(AFFINE, NONNEGATIVE, ())),\n",
       " Inequality(Expression(AFFINE, NONNEGATIVE, ())),\n",
       " Inequality(Expression(AFFINE, NONNEGATIVE, ())),\n",
       " Inequality(Expression(AFFINE, NONNEGATIVE, ())),\n",
       " Inequality(Expression(AFFINE, NONNEGATIVE, ())),\n",
       " Inequality(Expression(AFFINE, NONNEGATIVE, ())),\n",
       " Inequality(Expression(AFFINE, NONNEGATIVE, ())),\n",
       " Inequality(Expression(CONVEX, UNKNOWN, ())),\n",
       " Inequality(Expression(AFFINE, NONNEGATIVE, ())),\n",
       " Inequality(Expression(AFFINE, NONNEGATIVE, ())),\n",
       " Equality(Expression(AFFINE, NONNEGATIVE, ()), Constant(CONSTANT, NONNEGATIVE, ())),\n",
       " Inequality(Expression(AFFINE, NONNEGATIVE, ())),\n",
       " Inequality(Expression(AFFINE, NONNEGATIVE, ())),\n",
       " Inequality(Expression(AFFINE, NONNEGATIVE, ())),\n",
       " Inequality(Expression(AFFINE, NONNEGATIVE, ())),\n",
       " Inequality(Expression(AFFINE, NONNEGATIVE, ())),\n",
       " Inequality(Expression(AFFINE, NONNEGATIVE, ())),\n",
       " Inequality(Expression(AFFINE, NONNEGATIVE, ())),\n",
       " Inequality(Expression(CONVEX, UNKNOWN, ())),\n",
       " Inequality(Expression(AFFINE, NONNEGATIVE, ())),\n",
       " Inequality(Expression(AFFINE, NONNEGATIVE, ())),\n",
       " Equality(Expression(AFFINE, NONNEGATIVE, ()), Constant(CONSTANT, NONNEGATIVE, ()))]"
      ]
     },
     "execution_count": 25,
     "metadata": {},
     "output_type": "execute_result"
    }
   ],
   "source": [
    "cons"
   ]
  },
  {
   "cell_type": "markdown",
   "metadata": {},
   "source": [
    "#### Score function upper bound (use only one of the following)"
   ]
  },
  {
   "cell_type": "markdown",
   "metadata": {},
   "source": [
    "Negative log-likelihood: equivalently minimize probability of correct class"
   ]
  },
  {
   "cell_type": "code",
   "execution_count": 26,
   "metadata": {},
   "outputs": [],
   "source": [
    "#score_ub = -p[yt[0]]\n",
    "score_ub = -cvx.sum(p[:, yt[0]]) / M"
   ]
  },
  {
   "cell_type": "markdown",
   "metadata": {},
   "source": [
    "Brier score: linear upper bound"
   ]
  },
  {
   "cell_type": "code",
   "execution_count": 37,
   "metadata": {},
   "outputs": [],
   "source": [
    "others = np.arange(d) != yt[0]\n",
    "score_ub = -(2 - sm_l[:, yt[0]].mean() - sm_u[:, yt[0]].mean()) * cvx.sum(p[:, yt[0]]) / M + (sm_l[:, others].mean(axis=0) + sm_u[:, others].mean(axis=0)) @ cvx.sum(p[:, others], axis=0) / M - np.dot(sm_l.mean(axis=0), sm_u.mean(axis=0)) + 1 "
   ]
  },
  {
   "cell_type": "code",
   "execution_count": 38,
   "metadata": {},
   "outputs": [
    {
     "data": {
      "text/plain": [
       "Expression(AFFINE, UNKNOWN, ())"
      ]
     },
     "execution_count": 38,
     "metadata": {},
     "output_type": "execute_result"
    }
   ],
   "source": [
    "score_ub"
   ]
  },
  {
   "cell_type": "markdown",
   "metadata": {},
   "source": [
    "#### Solve problem"
   ]
  },
  {
   "cell_type": "code",
   "execution_count": 39,
   "metadata": {},
   "outputs": [],
   "source": [
    "prob = cvx.Problem(cvx.Maximize(score_ub), cons)"
   ]
  },
  {
   "cell_type": "code",
   "execution_count": 40,
   "metadata": {},
   "outputs": [
    {
     "name": "stdout",
     "output_type": "stream",
     "text": [
      "----------------------------------------------------------------------------\n",
      "\tSCS v2.1.1 - Splitting Conic Solver\n",
      "\t(c) Brendan O'Donoghue, Stanford University, 2012\n",
      "----------------------------------------------------------------------------\n",
      "Lin-sys: sparse-direct, nnz in A = 453738\n",
      "eps = 1.00e-05, alpha = 1.50, max_iters = 10000, normalize = 1, scale = 1.00\n",
      "acceleration_lookback = 0, rho_x = 1.00e-03\n",
      "Variables n = 1374, constraints m = 3203\n",
      "Cones:\tprimal zero / dual free vars: 5\n",
      "\tlinear vars: 1818\n",
      "\texp vars: 1380, dual exp vars: 0\n",
      "Setup time: 2.83e-01s\n",
      "----------------------------------------------------------------------------\n",
      " Iter | pri res | dua res | rel gap | pri obj | dua obj | kap/tau | time (s)\n",
      "----------------------------------------------------------------------------\n",
      "     0| 2.43e+20  3.65e+19  1.00e+00 -6.05e+19  3.11e+19  1.57e+20  1.50e-02 \n",
      "   100| 1.63e-02  2.01e-03  1.39e-03  3.51e-02  3.37e-02  5.79e-18  7.90e-01 \n",
      "   200| 1.17e-03  9.91e-04  4.15e-04  3.48e-02  3.44e-02  4.99e-18  1.02e+00 \n",
      "   300| 9.34e-04  3.68e-04  2.79e-04  3.49e-02  3.46e-02  5.20e-17  1.29e+00 \n",
      "   400| 8.28e-04  2.36e-04  1.57e-04  3.50e-02  3.49e-02  5.07e-17  1.59e+00 \n",
      "   500| 7.96e-04  1.04e-04  9.89e-05  3.51e-02  3.50e-02  2.27e-17  1.88e+00 \n",
      "   600| 7.69e-04  8.59e-05  8.15e-05  3.51e-02  3.50e-02  4.56e-18  2.19e+00 \n",
      "   700| 7.23e-04  7.60e-05  6.83e-05  3.51e-02  3.51e-02  4.52e-18  2.50e+00 \n",
      "   800| 6.30e-04  9.45e-05  4.32e-05  3.51e-02  3.50e-02  4.50e-18  2.80e+00 \n",
      "   900| 9.99e-05  4.58e-05  2.26e-06  3.49e-02  3.49e-02  4.49e-18  3.10e+00 \n",
      "  1000| 8.25e-05  4.72e-05  2.10e-05  3.49e-02  3.49e-02  2.22e-17  3.42e+00 \n",
      "  1100| 6.80e-05  2.58e-05  1.49e-07  3.49e-02  3.49e-02  3.12e-17  3.73e+00 \n",
      "  1200| 6.38e-05  1.02e-05  1.90e-05  3.49e-02  3.49e-02  2.22e-17  4.06e+00 \n",
      "  1300| 5.66e-05  1.18e-05  1.56e-06  3.49e-02  3.49e-02  4.48e-18  4.44e+00 \n",
      "  1400| 4.28e-05  2.06e-05  1.59e-06  3.49e-02  3.49e-02  4.48e-18  4.84e+00 \n",
      "  1500| 3.84e-05  1.36e-05  5.89e-06  3.49e-02  3.49e-02  4.48e-18  5.24e+00 \n",
      "  1600| 3.39e-05  1.30e-05  2.86e-06  3.49e-02  3.49e-02  4.48e-18  5.65e+00 \n",
      "  1700| 3.52e-05  8.17e-06  6.99e-06  3.49e-02  3.49e-02  4.88e-17  6.08e+00 \n",
      "  1800| 3.10e-05  1.40e-05  4.96e-06  3.49e-02  3.49e-02  4.48e-18  6.53e+00 \n",
      "  1900| 2.84e-05  1.89e-05  1.76e-06  3.49e-02  3.49e-02  4.88e-17  6.99e+00 \n",
      "  2000| 2.42e-05  1.58e-05  2.52e-06  3.49e-02  3.49e-02  4.48e-18  7.47e+00 \n",
      "  2100| 2.20e-05  6.77e-06  2.95e-06  3.49e-02  3.49e-02  4.88e-17  7.95e+00 \n",
      "  2200| 2.09e-05  4.88e-06  1.72e-06  3.49e-02  3.49e-02  4.88e-17  8.42e+00 \n",
      "  2300| 1.75e-05  1.34e-05  6.35e-07  3.49e-02  3.49e-02  4.48e-18  8.90e+00 \n",
      "  2400| 1.49e-05  1.66e-05  1.00e-06  3.49e-02  3.49e-02  2.22e-17  9.39e+00 \n",
      "  2500| 1.57e-05  1.24e-05  9.60e-07  3.49e-02  3.49e-02  4.88e-17  9.94e+00 \n",
      "  2600| 1.73e-05  5.06e-06  4.20e-07  3.49e-02  3.49e-02  2.22e-17  1.04e+01 \n",
      "  2700| 1.69e-05  5.63e-06  4.03e-07  3.49e-02  3.49e-02  4.48e-18  1.09e+01 \n",
      "  2800| 1.50e-05  1.16e-05  9.64e-07  3.49e-02  3.49e-02  4.48e-18  1.15e+01 \n",
      "  2900| 1.40e-05  1.37e-05  2.56e-06  3.49e-02  3.49e-02  2.22e-17  1.20e+01 \n",
      "  3000| 1.36e-05  1.04e-05  4.16e-07  3.49e-02  3.49e-02  2.22e-17  1.25e+01 \n",
      "  3100| 1.50e-05  3.56e-06  1.27e-06  3.49e-02  3.49e-02  3.11e-17  1.30e+01 \n",
      "  3200| 1.48e-05  4.84e-06  8.78e-07  3.49e-02  3.49e-02  2.22e-17  1.35e+01 \n",
      "  3300| 1.29e-05  1.04e-05  7.43e-07  3.49e-02  3.49e-02  3.11e-17  1.39e+01 \n",
      "  3400| 1.20e-05  1.27e-05  1.46e-06  3.49e-02  3.49e-02  4.47e-18  1.44e+01 \n",
      "  3500| 1.31e-05  8.57e-06  1.75e-06  3.49e-02  3.49e-02  2.22e-17  1.49e+01 \n",
      "  3600| 1.42e-05  3.02e-06  6.47e-07  3.49e-02  3.49e-02  3.11e-17  1.55e+01 \n",
      "  3700| 1.39e-05  4.94e-06  7.19e-07  3.49e-02  3.49e-02  2.22e-17  1.60e+01 \n",
      "  3800| 1.23e-05  9.54e-06  1.01e-06  3.49e-02  3.49e-02  4.47e-18  1.65e+01 \n",
      "  3900| 1.17e-05  1.11e-05  1.99e-06  3.49e-02  3.49e-02  2.22e-17  1.70e+01 \n",
      "  4000| 1.27e-05  7.72e-06  6.39e-07  3.49e-02  3.49e-02  4.88e-17  1.75e+01 \n",
      "  4100| 1.35e-05  2.04e-06  7.71e-07  3.49e-02  3.49e-02  4.47e-18  1.80e+01 \n",
      "  4200| 1.31e-05  4.85e-06  5.69e-07  3.49e-02  3.49e-02  2.22e-17  1.84e+01 \n",
      "  4300| 1.18e-05  8.82e-06  1.07e-06  3.49e-02  3.49e-02  2.22e-17  1.90e+01 \n",
      "  4400| 1.15e-05  9.97e-06  1.44e-06  3.49e-02  3.49e-02  4.47e-18  1.96e+01 \n",
      "  4500| 1.24e-05  5.98e-06  7.17e-07  3.49e-02  3.49e-02  4.47e-18  2.02e+01 \n",
      "  4600| 1.30e-05  1.19e-06  5.90e-07  3.49e-02  3.49e-02  4.47e-18  2.07e+01 \n",
      "  4700| 1.25e-05  5.24e-06  1.04e-06  3.49e-02  3.49e-02  4.47e-18  2.12e+01 \n",
      "  4800| 1.14e-05  8.25e-06  7.58e-07  3.49e-02  3.49e-02  4.47e-18  2.17e+01 \n",
      "  4900| 1.13e-05  8.76e-06  1.51e-06  3.49e-02  3.49e-02  4.88e-17  2.22e+01 \n",
      "  5000| 1.22e-05  5.01e-06  3.61e-07  3.49e-02  3.49e-02  4.47e-18  2.27e+01 \n",
      "  5100| 1.26e-05  3.14e-07  4.02e-07  3.49e-02  3.49e-02  4.47e-18  2.32e+01 \n",
      "  5200| 1.20e-05  5.49e-06  9.13e-07  3.49e-02  3.49e-02  2.22e-17  2.36e+01 \n",
      "  5300| 1.12e-05  7.64e-06  7.80e-07  3.49e-02  3.49e-02  4.88e-17  2.41e+01 \n",
      "  5400| 1.12e-05  7.85e-06  1.29e-06  3.49e-02  3.49e-02  2.22e-17  2.46e+01 \n",
      "  5500| 1.20e-05  3.81e-06  3.59e-07  3.49e-02  3.49e-02  2.21e-17  2.51e+01 \n",
      "  5600| 1.22e-05  5.55e-07  2.29e-07  3.49e-02  3.49e-02  3.11e-17  2.56e+01 \n",
      "  5700| 1.16e-05  5.47e-06  9.99e-07  3.49e-02  3.49e-02  2.21e-17  2.60e+01 \n",
      "  5800| 1.09e-05  7.11e-06  6.08e-07  3.49e-02  3.49e-02  2.21e-17  2.65e+01 \n",
      "  5900| 1.12e-05  6.86e-06  1.21e-06  3.49e-02  3.49e-02  4.88e-17  2.70e+01 \n",
      "  6000| 1.18e-05  2.88e-06  1.42e-07  3.49e-02  3.49e-02  4.88e-17  2.75e+01 \n",
      "  6100| 1.19e-05  1.11e-06  1.57e-07  3.49e-02  3.49e-02  3.11e-17  2.80e+01 \n",
      "  6200| 1.13e-05  5.51e-06  8.86e-07  3.49e-02  3.49e-02  3.11e-17  2.85e+01 \n",
      "  6300| 1.08e-05  6.48e-06  6.58e-07  3.49e-02  3.49e-02  2.21e-17  2.89e+01 \n",
      "  6400| 1.11e-05  5.97e-06  1.04e-06  3.49e-02  3.49e-02  2.21e-17  2.94e+01 \n",
      "  6500| 1.16e-05  2.03e-06  8.00e-08  3.49e-02  3.49e-02  2.21e-17  2.99e+01 \n",
      "  6600| 1.16e-05  1.53e-06  8.34e-08  3.49e-02  3.49e-02  4.47e-18  3.04e+01 \n",
      "  6700| 1.11e-05  5.38e-06  9.30e-07  3.49e-02  3.49e-02  4.47e-18  3.09e+01 \n",
      "  6800| 1.07e-05  5.90e-06  5.25e-07  3.49e-02  3.49e-02  2.21e-17  3.14e+01 \n",
      "  6900| 1.10e-05  5.13e-06  9.35e-07  3.49e-02  3.49e-02  2.21e-17  3.18e+01 \n",
      "  7000| 1.14e-05  1.30e-06  1.13e-08  3.49e-02  3.49e-02  3.11e-17  3.23e+01 \n",
      "  7100| 1.13e-05  1.86e-06  1.15e-09  3.49e-02  3.49e-02  4.88e-17  3.28e+01 \n",
      "  7200| 1.09e-05  5.22e-06  8.65e-07  3.49e-02  3.49e-02  3.11e-17  3.33e+01 \n",
      "  7300| 1.06e-05  5.28e-06  5.13e-07  3.49e-02  3.49e-02  2.21e-17  3.38e+01 \n",
      "  7400| 1.10e-05  4.34e-06  8.04e-07  3.49e-02  3.49e-02  2.21e-17  3.42e+01 \n",
      "  7500| 1.13e-05  6.86e-07  8.79e-08  3.49e-02  3.49e-02  2.21e-17  3.47e+01 \n",
      "  7600| 1.11e-05  2.14e-06  2.71e-08  3.49e-02  3.49e-02  2.21e-17  3.52e+01 \n",
      "  7700| 1.07e-05  5.01e-06  8.51e-07  3.49e-02  3.49e-02  4.47e-18  3.57e+01 \n",
      "  7800| 1.06e-05  4.70e-06  4.26e-07  3.49e-02  3.49e-02  4.47e-18  3.64e+01 \n",
      "  7900| 1.09e-05  3.63e-06  7.08e-07  3.49e-02  3.49e-02  4.47e-18  3.69e+01 \n",
      "  8000| 1.11e-05  3.06e-07  1.33e-07  3.49e-02  3.49e-02  4.87e-17  3.74e+01 \n",
      "  8100| 1.09e-05  2.33e-06  1.02e-07  3.49e-02  3.49e-02  2.21e-17  3.79e+01 \n",
      "  8200| 1.06e-05  4.78e-06  8.00e-07  3.49e-02  3.49e-02  4.47e-18  3.84e+01 \n",
      "  8300| 1.06e-05  4.11e-06  3.75e-07  3.49e-02  3.49e-02  2.21e-17  3.89e+01 \n",
      "  8400| 1.09e-05  2.98e-06  5.96e-07  3.49e-02  3.49e-02  4.47e-18  3.94e+01 \n",
      "  8500| 1.10e-05  5.44e-07  2.03e-07  3.49e-02  3.49e-02  4.47e-18  3.99e+01 \n",
      "  8600| 1.08e-05  2.44e-06  1.20e-07  3.49e-02  3.49e-02  4.47e-18  4.04e+01 \n",
      "  8700| 1.05e-05  4.50e-06  7.61e-07  3.49e-02  3.49e-02  4.47e-18  4.09e+01 \n",
      "  8800| 1.06e-05  3.56e-06  3.19e-07  3.49e-02  3.49e-02  4.47e-18  4.14e+01 \n",
      "  8900| 1.08e-05  2.40e-06  5.06e-07  3.49e-02  3.49e-02  2.21e-17  4.19e+01 \n",
      "  9000| 1.08e-05  9.01e-07  2.33e-07  3.49e-02  3.49e-02  4.47e-18  4.24e+01 \n",
      "  9100| 1.07e-05  2.47e-06  1.55e-07  3.49e-02  3.49e-02  4.47e-18  4.29e+01 \n",
      "  9200| 1.05e-05  4.20e-06  6.93e-07  3.49e-02  3.49e-02  2.21e-17  4.34e+01 \n",
      "  9300| 1.06e-05  3.04e-06  2.72e-07  3.49e-02  3.49e-02  2.21e-17  4.40e+01 \n",
      "  9400| 1.07e-05  1.87e-06  4.14e-07  3.49e-02  3.49e-02  3.11e-17  4.45e+01 \n"
     ]
    },
    {
     "name": "stdout",
     "output_type": "stream",
     "text": [
      "  9500| 1.07e-05  1.22e-06  2.72e-07  3.49e-02  3.49e-02  2.21e-17  4.50e+01 \n",
      "  9600| 1.06e-05  2.47e-06  1.67e-07  3.49e-02  3.49e-02  2.21e-17  4.56e+01 \n",
      "  9700| 1.04e-05  3.88e-06  6.49e-07  3.49e-02  3.49e-02  2.21e-17  4.62e+01 \n",
      "  9800| 1.05e-05  2.54e-06  2.21e-07  3.49e-02  3.49e-02  4.47e-18  4.68e+01 \n",
      "  9900| 1.07e-05  1.41e-06  3.31e-07  3.49e-02  3.49e-02  4.87e-17  4.74e+01 \n",
      " 10000| 1.07e-05  1.55e-06  3.03e-07  3.49e-02  3.49e-02  4.47e-18  4.81e+01 \n",
      "----------------------------------------------------------------------------\n",
      "Status: Solved/Inaccurate\n",
      "Hit max_iters, solution may be inaccurate\n",
      "Timing: Solve time: 4.81e+01s\n",
      "\tLin-sys: nnz in L factor: 624250, avg solve time: 1.83e-03s\n",
      "\tCones: avg projection time: 2.83e-03s\n",
      "\tAcceleration: avg step time: 1.94e-07s\n",
      "----------------------------------------------------------------------------\n",
      "Error metrics:\n",
      "dist(s, K) = 6.0148e-05, dist(y, K*) = 8.8253e-07, s'y/|s||y| = -2.5005e-12\n",
      "primal res: |Ax + s - b|_2 / (1 + |b|_2) = 1.0653e-05\n",
      "dual res:   |A'y + c|_2 / (1 + |c|_2) = 1.5493e-06\n",
      "rel gap:    |c'x + b'y| / (1 + |c'x| + |b'y|) = 3.0324e-07\n",
      "----------------------------------------------------------------------------\n",
      "c'x = 0.0349, -b'y = 0.0349\n",
      "============================================================================\n"
     ]
    },
    {
     "data": {
      "text/plain": [
       "0.001580829423494079"
      ]
     },
     "execution_count": 40,
     "metadata": {},
     "output_type": "execute_result"
    }
   ],
   "source": [
    "#prob.solve(solver='SCS', verbose=True, acceleration_lookback=0, max_iters=int(1e4))\n",
    "prob.solve(solver='SCS', verbose=True, acceleration_lookback=0, max_iters=int(1e4), eps=1e-5)"
   ]
  },
  {
   "cell_type": "code",
   "execution_count": 41,
   "metadata": {},
   "outputs": [
    {
     "data": {
      "text/plain": [
       "'optimal_inaccurate'"
      ]
     },
     "execution_count": 41,
     "metadata": {},
     "output_type": "execute_result"
    }
   ],
   "source": [
    "prob.status"
   ]
  },
  {
   "cell_type": "code",
   "execution_count": 42,
   "metadata": {},
   "outputs": [
    {
     "name": "stdout",
     "output_type": "stream",
     "text": [
      "[[ -6.8695      -2.66823844  -0.3324    ]\n",
      " [ -8.1546      -5.75991912  -2.7616    ]\n",
      " [ -4.6251      -3.29265797  -0.5321    ]\n",
      " [ -3.0532      -1.20279567   0.6129    ]\n",
      " [ -6.4314      -2.97452178  -0.3173    ]\n",
      " [ -5.9146      -2.19367401  -1.1008    ]\n",
      " [-13.1974      -8.22427151  -5.8981    ]\n",
      " [  3.6956       3.85164736   9.0404    ]\n",
      " [ -7.7966      -5.14669678  -4.0264    ]\n",
      " [ -2.3943      -0.52871076   1.9851    ]]\n",
      "[[ -6.8695      -2.66823844  -0.3324    ]\n",
      " [ -8.1546      -5.75991912  -2.7616    ]\n",
      " [ -4.6251      -3.29265797  -0.5321    ]\n",
      " [ -3.0532      -1.20279567   0.6129    ]\n",
      " [ -6.4314      -2.97452178  -0.3173    ]\n",
      " [ -5.9146      -2.19367401  -1.1008    ]\n",
      " [-13.1974      -8.22427151  -5.8981    ]\n",
      " [  3.6956       3.85164736   9.0404    ]\n",
      " [ -7.7966      -5.14669678  -4.0264    ]\n",
      " [ -2.3943      -0.52871076   1.9851    ]]\n"
     ]
    }
   ],
   "source": [
    "for m in range(2):\n",
    "    print(np.hstack((l[m][L][:,np.newaxis], z[m][L].value[:,np.newaxis], u[m][L][:,np.newaxis])))"
   ]
  },
  {
   "cell_type": "code",
   "execution_count": 43,
   "metadata": {},
   "outputs": [
    {
     "name": "stdout",
     "output_type": "stream",
     "text": [
      "[[-14.538       -6.51988581  -5.5233    ]\n",
      " [-15.1008      -9.61156649  -8.2442    ]\n",
      " [-11.7364      -7.14430534  -5.8893    ]\n",
      " [-10.6185      -5.05444304  -4.5943    ]\n",
      " [-13.3047      -6.82616914  -6.1573    ]\n",
      " [-13.7164      -6.04532138  -5.9752    ]\n",
      " [-20.697      -12.07591888 -11.0069    ]\n",
      " [-16.2094      -8.99834414  -8.4918    ]\n",
      " [ -9.1037      -4.38035812  -4.1539    ]]\n",
      "[[-14.538       -6.51988581  -5.5233    ]\n",
      " [-15.1008      -9.61156649  -8.2442    ]\n",
      " [-11.7364      -7.14430534  -5.8893    ]\n",
      " [-10.6185      -5.05444304  -4.5943    ]\n",
      " [-13.3047      -6.82616914  -6.1573    ]\n",
      " [-13.7164      -6.04532138  -5.9752    ]\n",
      " [-20.697      -12.07591888 -11.0069    ]\n",
      " [-16.2094      -8.99834414  -8.4918    ]\n",
      " [ -9.1037      -4.38035812  -4.1539    ]]\n"
     ]
    }
   ],
   "source": [
    "for m in range(2):\n",
    "    print(np.hstack((diffs_l[m,yt[0],np.newaxis].T, diffs[m].value[:,np.newaxis], diffs_u[m,yt[0],np.newaxis].T)))"
   ]
  },
  {
   "cell_type": "code",
   "execution_count": 44,
   "metadata": {},
   "outputs": [
    {
     "name": "stdout",
     "output_type": "stream",
     "text": [
      "[[4.85158749e-07 1.43814948e-03 3.46244446e-03 3.95253078e-03]\n",
      " [2.75765368e-07 6.53287232e-05 1.58820087e-04 2.61973402e-04]\n",
      " [7.97060862e-06 7.70232913e-04 2.10997242e-03 2.75567797e-03]\n",
      " [2.43861283e-05 6.22641033e-03 9.16406930e-03 9.99404486e-03]\n",
      " [1.66438523e-06 1.05873402e-03 1.84367078e-03 2.08911714e-03]\n",
      " [1.10356091e-06 2.31155771e-03 2.43842443e-03 2.51198846e-03]\n",
      " [1.02594824e-09 5.55711681e-06 0.00000000e+00 1.64052423e-05]\n",
      " [9.63653513e-01 9.75785719e-01 9.66067580e-01 9.99852686e-01]\n",
      " [9.12210043e-08 1.20621090e-04 1.39627611e-04 2.03718425e-04]\n",
      " [1.11051326e-04 1.22176899e-02 1.46783730e-02 1.54540578e-02]]\n",
      "[[4.85158749e-07 1.43814948e-03 3.46244446e-03 3.95253078e-03]\n",
      " [2.75765368e-07 6.53287232e-05 1.58820087e-04 2.61973402e-04]\n",
      " [7.97060862e-06 7.70232913e-04 2.10997242e-03 2.75567797e-03]\n",
      " [2.43861283e-05 6.22641033e-03 9.16406930e-03 9.99404486e-03]\n",
      " [1.66438523e-06 1.05873402e-03 1.84367078e-03 2.08911714e-03]\n",
      " [1.10356091e-06 2.31155771e-03 2.43842443e-03 2.51198846e-03]\n",
      " [1.02594824e-09 5.55711681e-06 0.00000000e+00 1.64052423e-05]\n",
      " [9.63653513e-01 9.75785719e-01 9.66067580e-01 9.99852686e-01]\n",
      " [9.12210043e-08 1.20621090e-04 1.39627611e-04 2.03718425e-04]\n",
      " [1.11051326e-04 1.22176899e-02 1.46783730e-02 1.54540578e-02]]\n"
     ]
    }
   ],
   "source": [
    "for m in range(2):\n",
    "    print(np.hstack((sm_l[m,np.newaxis].T, softmax(z[m][L].value)[:,np.newaxis], p.value[m,np.newaxis].T, sm_u[m,np.newaxis].T)))\n",
    "#np.hstack((sm_l[:,np.newaxis], p.value[:,np.newaxis], softmax(z.value)[:,np.newaxis], sm_u[:,np.newaxis])) "
   ]
  },
  {
   "cell_type": "code",
   "execution_count": 35,
   "metadata": {},
   "outputs": [],
   "source": [
    "def eval_ER_l(X, diffs_l, diffs_u):\n",
    "    \"\"\"\n",
    "    Evaluate exponential-reciprocal lower bound at points in X (shape (n, d))\n",
    "    \"\"\"\n",
    "    diffs = X[:, np.arange(d)!=yt[0]] - X[:, yt[0]]\n",
    "    # Coefficients of affine function of diffs\n",
    "    a_ER_l = (np.exp(diffs_u) - np.exp(diffs_l)) / (diffs_u - diffs_l)\n",
    "    b_ER_l = ((diffs_u * np.exp(diffs_l) - diffs_l * np.exp(diffs_u)) / (diffs_u - diffs_l)).sum()\n",
    "    \n",
    "    ER_l = 1 / (1 + np.dot(diffs, a_ER_l) + b_ER_l)\n",
    "    return ER_l\n"
   ]
  },
  {
   "cell_type": "code",
   "execution_count": 36,
   "metadata": {},
   "outputs": [
    {
     "data": {
      "text/plain": [
       "array([0.9662644])"
      ]
     },
     "execution_count": 36,
     "metadata": {},
     "output_type": "execute_result"
    }
   ],
   "source": [
    "eval_ER_l(z[0][L].value[np.newaxis, :], diffs_l[0,yt[0]], diffs_u[0,yt[0]])"
   ]
  },
  {
   "cell_type": "code",
   "execution_count": 45,
   "metadata": {},
   "outputs": [
    {
     "data": {
      "text/plain": [
       "0.0007835161466046611"
      ]
     },
     "execution_count": 45,
     "metadata": {},
     "output_type": "execute_result"
    }
   ],
   "source": [
    "((softmax(z[0][L].value) - (np.arange(d) == yt[0]))**2).sum()"
   ]
  },
  {
   "cell_type": "code",
   "execution_count": 46,
   "metadata": {},
   "outputs": [
    {
     "data": {
      "text/plain": [
       "0.0016937771020311882"
      ]
     },
     "execution_count": 46,
     "metadata": {},
     "output_type": "execute_result"
    }
   ],
   "source": [
    "test = sm_u[0].copy()\n",
    "test[yt[0]] = sm_l[0, yt[0]]\n",
    "((test - (np.arange(d) == yt[0]))**2).sum()"
   ]
  },
  {
   "cell_type": "code",
   "execution_count": 863,
   "metadata": {},
   "outputs": [
    {
     "data": {
      "text/plain": [
       "0.0011441772836467967"
      ]
     },
     "execution_count": 863,
     "metadata": {},
     "output_type": "execute_result"
    }
   ],
   "source": [
    "-(2 - sm_l[yt[0]] - sm_u[yt[0]]) * softmax(z.value)[yt[0]] + (sm_l[others] + sm_u[others]) @ softmax(z.value)[others] - np.dot(sm_l, sm_u) + 1 "
   ]
  },
  {
   "cell_type": "code",
   "execution_count": 47,
   "metadata": {},
   "outputs": [
    {
     "data": {
      "text/plain": [
       "0.0015808296910743147"
      ]
     },
     "execution_count": 47,
     "metadata": {},
     "output_type": "execute_result"
    }
   ],
   "source": [
    "-(2 - sm_l[:, yt[0]].mean() - sm_u[:, yt[0]].mean()) * p.value[:, yt[0]].mean() + (sm_l[:, others].mean(axis=0) + sm_u[:, others].mean(axis=0)) @ p.value[:, others].mean(axis=0) - np.dot(sm_l.mean(axis=0), sm_u.mean(axis=0)) + 1 "
   ]
  },
  {
   "cell_type": "code",
   "execution_count": 48,
   "metadata": {},
   "outputs": [
    {
     "data": {
      "text/plain": [
       "0.0016937771020311132"
      ]
     },
     "execution_count": 48,
     "metadata": {},
     "output_type": "execute_result"
    }
   ],
   "source": [
    "-(2 - sm_l[:, yt[0]].mean() - sm_u[:, yt[0]].mean()) * test[yt[0]] + (sm_l[:, others].mean(axis=0) + sm_u[:, others].mean(axis=0)) @ test[others] - np.dot(sm_l.mean(axis=0), sm_u.mean(axis=0)) + 1 "
   ]
  },
  {
   "cell_type": "code",
   "execution_count": null,
   "metadata": {},
   "outputs": [],
   "source": []
  },
  {
   "cell_type": "markdown",
   "metadata": {},
   "source": [
    "## OLD"
   ]
  },
  {
   "cell_type": "markdown",
   "metadata": {},
   "source": [
    "#### Hidden layer 1"
   ]
  },
  {
   "cell_type": "code",
   "execution_count": 705,
   "metadata": {},
   "outputs": [
    {
     "data": {
      "text/plain": [
       "(array([-1.2855,  0.6487,  0.5012, -3.622 , -2.8138, -0.5145,  2.1417,\n",
       "         1.1181,  2.7157,  7.5092]),\n",
       " array([ 2.1951,  4.4368,  3.454 , -0.8622,  0.0459,  3.5994,  4.9922,\n",
       "         4.9872,  6.7239, 10.9493]))"
      ]
     },
     "execution_count": 705,
     "metadata": {},
     "output_type": "execute_result"
    }
   ],
   "source": [
    "l0 = np.array(lbs[1])\n",
    "u0 = np.array(ubs[1])\n",
    "l0, u0"
   ]
  },
  {
   "cell_type": "code",
   "execution_count": 706,
   "metadata": {},
   "outputs": [],
   "source": [
    "# Drop inactive neurons\n",
    "inactive0 = u0 <= 0\n",
    "w0 = w0[:, ~inactive0]\n",
    "b0 = b0[~inactive0]\n",
    "l0 = l0[~inactive0]\n",
    "u0 = u0[~inactive0]"
   ]
  },
  {
   "cell_type": "code",
   "execution_count": 707,
   "metadata": {},
   "outputs": [
    {
     "data": {
      "text/plain": [
       "(9, 10)"
      ]
     },
     "execution_count": 707,
     "metadata": {},
     "output_type": "execute_result"
    }
   ],
   "source": [
    "w1 = w1[~inactive0, :]\n",
    "w1.shape"
   ]
  },
  {
   "cell_type": "code",
   "execution_count": 708,
   "metadata": {},
   "outputs": [
    {
     "data": {
      "text/plain": [
       "(array([-1.2855,  0.6487,  0.5012, -2.8138, -0.5145,  2.1417,  1.1181,\n",
       "         2.7157,  7.5092]),\n",
       " array([ 2.1951,  4.4368,  3.454 ,  0.0459,  3.5994,  4.9922,  4.9872,\n",
       "         6.7239, 10.9493]))"
      ]
     },
     "execution_count": 708,
     "metadata": {},
     "output_type": "execute_result"
    }
   ],
   "source": [
    "w0.shape, b0.shape\n",
    "l0, u0"
   ]
  },
  {
   "cell_type": "code",
   "execution_count": 709,
   "metadata": {},
   "outputs": [
    {
     "data": {
      "text/plain": [
       "(array([False,  True,  True, False, False,  True,  True,  True,  True]),\n",
       " array([ True, False, False,  True,  True, False, False, False, False]))"
      ]
     },
     "execution_count": 709,
     "metadata": {},
     "output_type": "execute_result"
    }
   ],
   "source": [
    "unstable0 = l0 < 0\n",
    "active0 = ~unstable0\n",
    "active0, unstable0"
   ]
  },
  {
   "cell_type": "code",
   "execution_count": 710,
   "metadata": {},
   "outputs": [],
   "source": [
    "nActive = active0.sum()\n",
    "nUnstable = unstable0.sum()\n",
    "#xa1 = cvx.Variable(nActive)\n",
    "xu1 = cvx.Variable(nUnstable, nonneg=True)"
   ]
  },
  {
   "cell_type": "code",
   "execution_count": 650,
   "metadata": {},
   "outputs": [
    {
     "data": {
      "text/plain": [
       "[Inequality(Constant(CONSTANT, NONNEGATIVE, (784,))),\n",
       " Inequality(Variable((784,))),\n",
       " Equality(Variable((6,)), Expression(AFFINE, UNKNOWN, (6,)))]"
      ]
     },
     "execution_count": 650,
     "metadata": {},
     "output_type": "execute_result"
    }
   ],
   "source": [
    "cons.append(xa1 == x0 @ w0[:, active0] + b0[active0])\n",
    "cons"
   ]
  },
  {
   "cell_type": "code",
   "execution_count": 651,
   "metadata": {},
   "outputs": [
    {
     "data": {
      "text/plain": [
       "[Inequality(Constant(CONSTANT, NONNEGATIVE, (784,))),\n",
       " Inequality(Variable((784,))),\n",
       " Equality(Variable((6,)), Expression(AFFINE, UNKNOWN, (6,))),\n",
       " Inequality(Constant(CONSTANT, NONNEGATIVE, (6,))),\n",
       " Inequality(Variable((6,)))]"
      ]
     },
     "execution_count": 651,
     "metadata": {},
     "output_type": "execute_result"
    }
   ],
   "source": [
    "cons += [xa1 >= l0[active0], xa1 <= u0[active0]]\n",
    "cons"
   ]
  },
  {
   "cell_type": "code",
   "execution_count": 711,
   "metadata": {},
   "outputs": [
    {
     "data": {
      "text/plain": [
       "Expression(AFFINE, UNKNOWN, (6,))"
      ]
     },
     "execution_count": 711,
     "metadata": {},
     "output_type": "execute_result"
    }
   ],
   "source": [
    "xa1 = x0 @ w0[:, active0] + b0[active0]\n",
    "xa1"
   ]
  },
  {
   "cell_type": "code",
   "execution_count": 712,
   "metadata": {},
   "outputs": [
    {
     "data": {
      "text/plain": [
       "[Inequality(Constant(CONSTANT, NONNEGATIVE, (784,))),\n",
       " Inequality(Variable((784,))),\n",
       " Inequality(Expression(AFFINE, UNKNOWN, (3,)))]"
      ]
     },
     "execution_count": 712,
     "metadata": {},
     "output_type": "execute_result"
    }
   ],
   "source": [
    "cons.append(xu1 >= x0 @ w0[:, unstable0] + b0[unstable0])\n",
    "cons"
   ]
  },
  {
   "cell_type": "code",
   "execution_count": 713,
   "metadata": {},
   "outputs": [
    {
     "data": {
      "text/plain": [
       "[Inequality(Constant(CONSTANT, NONNEGATIVE, (784,))),\n",
       " Inequality(Variable((784,))),\n",
       " Inequality(Expression(AFFINE, UNKNOWN, (3,))),\n",
       " Inequality(Variable((3,), nonneg=True))]"
      ]
     },
     "execution_count": 713,
     "metadata": {},
     "output_type": "execute_result"
    }
   ],
   "source": [
    "g0 = u0[unstable0] / (u0[unstable0] - l0[unstable0])\n",
    "cons.append(xu1 <= cvx.multiply(g0, x0 @ w0[:, unstable0] + b0[unstable0] - l0[unstable0]))\n",
    "cons"
   ]
  },
  {
   "cell_type": "markdown",
   "metadata": {},
   "source": [
    "#### Hidden layer 2"
   ]
  },
  {
   "cell_type": "code",
   "execution_count": 714,
   "metadata": {},
   "outputs": [
    {
     "data": {
      "text/plain": [
       "(array([-0.3692,  1.4975, -6.9588, -1.2922,  5.5931,  2.4842, -1.4013,\n",
       "         6.9371, -1.712 ,  0.181 ]),\n",
       " array([ 3.3785,  4.9457, -2.9962,  1.5076, 11.3816,  6.3993,  1.7474,\n",
       "        12.2549,  1.71  ,  3.7962]))"
      ]
     },
     "execution_count": 714,
     "metadata": {},
     "output_type": "execute_result"
    }
   ],
   "source": [
    "l1 = np.array(lbs[3])\n",
    "u1 = np.array(ubs[3])\n",
    "l1, u1"
   ]
  },
  {
   "cell_type": "code",
   "execution_count": 715,
   "metadata": {},
   "outputs": [],
   "source": [
    "# Drop inactive neurons\n",
    "inactive1 = u1 <= 0\n",
    "w1 = w1[:, ~inactive1]\n",
    "b1 = b1[~inactive1]\n",
    "l1 = l1[~inactive1]\n",
    "u1 = u1[~inactive1]\n",
    "w2 = w2[~inactive1, :]"
   ]
  },
  {
   "cell_type": "code",
   "execution_count": 716,
   "metadata": {},
   "outputs": [
    {
     "name": "stdout",
     "output_type": "stream",
     "text": [
      "(9, 9) (9,) (9, 10)\n"
     ]
    },
    {
     "data": {
      "text/plain": [
       "(array([-0.3692,  1.4975, -1.2922,  5.5931,  2.4842, -1.4013,  6.9371,\n",
       "        -1.712 ,  0.181 ]),\n",
       " array([ 3.3785,  4.9457,  1.5076, 11.3816,  6.3993,  1.7474, 12.2549,\n",
       "         1.71  ,  3.7962]))"
      ]
     },
     "execution_count": 716,
     "metadata": {},
     "output_type": "execute_result"
    }
   ],
   "source": [
    "print(w1.shape, b1.shape, w2.shape)\n",
    "l1, u1"
   ]
  },
  {
   "cell_type": "code",
   "execution_count": 717,
   "metadata": {},
   "outputs": [
    {
     "data": {
      "text/plain": [
       "(array([False,  True, False,  True,  True, False,  True, False,  True]),\n",
       " array([ True, False,  True, False, False,  True, False,  True, False]))"
      ]
     },
     "execution_count": 717,
     "metadata": {},
     "output_type": "execute_result"
    }
   ],
   "source": [
    "unstable1 = l1 < 0\n",
    "active1 = ~unstable1\n",
    "active1, unstable1"
   ]
  },
  {
   "cell_type": "code",
   "execution_count": 718,
   "metadata": {},
   "outputs": [],
   "source": [
    "nActive = active1.sum()\n",
    "nUnstable = unstable1.sum()\n",
    "#xa2 = cvx.Variable(nActive)\n",
    "xu2 = cvx.Variable(nUnstable, nonneg=True)"
   ]
  },
  {
   "cell_type": "code",
   "execution_count": 659,
   "metadata": {},
   "outputs": [
    {
     "data": {
      "text/plain": [
       "[Inequality(Constant(CONSTANT, NONNEGATIVE, (784,))),\n",
       " Inequality(Variable((784,))),\n",
       " Equality(Variable((6,)), Expression(AFFINE, UNKNOWN, (6,))),\n",
       " Inequality(Constant(CONSTANT, NONNEGATIVE, (6,))),\n",
       " Inequality(Variable((6,))),\n",
       " Inequality(Expression(AFFINE, UNKNOWN, (3,))),\n",
       " Inequality(Variable((3,), nonneg=True)),\n",
       " Equality(Variable((5,)), Expression(AFFINE, UNKNOWN, (5,)))]"
      ]
     },
     "execution_count": 659,
     "metadata": {},
     "output_type": "execute_result"
    }
   ],
   "source": [
    "# indices of active and unstable should be one greater\n",
    "cons.append(xa2 == xa1 @ w1[np.ix_(active0, active1)] + xu1 @ w1[np.ix_(unstable0, active1)] + b1[active1])\n",
    "cons"
   ]
  },
  {
   "cell_type": "code",
   "execution_count": 660,
   "metadata": {},
   "outputs": [
    {
     "data": {
      "text/plain": [
       "[Inequality(Constant(CONSTANT, NONNEGATIVE, (784,))),\n",
       " Inequality(Variable((784,))),\n",
       " Equality(Variable((6,)), Expression(AFFINE, UNKNOWN, (6,))),\n",
       " Inequality(Constant(CONSTANT, NONNEGATIVE, (6,))),\n",
       " Inequality(Variable((6,))),\n",
       " Inequality(Expression(AFFINE, UNKNOWN, (3,))),\n",
       " Inequality(Variable((3,), nonneg=True)),\n",
       " Equality(Variable((5,)), Expression(AFFINE, UNKNOWN, (5,))),\n",
       " Inequality(Constant(CONSTANT, NONNEGATIVE, (5,))),\n",
       " Inequality(Variable((5,)))]"
      ]
     },
     "execution_count": 660,
     "metadata": {},
     "output_type": "execute_result"
    }
   ],
   "source": [
    "cons += [xa2 >= l1[active1], xa2 <= u1[active1]]\n",
    "cons"
   ]
  },
  {
   "cell_type": "code",
   "execution_count": 719,
   "metadata": {},
   "outputs": [
    {
     "data": {
      "text/plain": [
       "Expression(AFFINE, UNKNOWN, (5,))"
      ]
     },
     "execution_count": 719,
     "metadata": {},
     "output_type": "execute_result"
    }
   ],
   "source": [
    "xa2 = xa1 @ w1[np.ix_(active0, active1)] + xu1 @ w1[np.ix_(unstable0, active1)] + b1[active1]\n",
    "xa2"
   ]
  },
  {
   "cell_type": "code",
   "execution_count": 720,
   "metadata": {},
   "outputs": [
    {
     "data": {
      "text/plain": [
       "[Inequality(Constant(CONSTANT, NONNEGATIVE, (784,))),\n",
       " Inequality(Variable((784,))),\n",
       " Inequality(Expression(AFFINE, UNKNOWN, (3,))),\n",
       " Inequality(Variable((3,), nonneg=True)),\n",
       " Inequality(Expression(AFFINE, UNKNOWN, (4,)))]"
      ]
     },
     "execution_count": 720,
     "metadata": {},
     "output_type": "execute_result"
    }
   ],
   "source": [
    "cons.append(xu2 >= xa1 @ w1[np.ix_(active0, unstable1)] + xu1 @ w1[np.ix_(unstable0, unstable1)] + b1[unstable1])\n",
    "cons"
   ]
  },
  {
   "cell_type": "code",
   "execution_count": 721,
   "metadata": {
    "scrolled": true
   },
   "outputs": [
    {
     "data": {
      "text/plain": [
       "[Inequality(Constant(CONSTANT, NONNEGATIVE, (784,))),\n",
       " Inequality(Variable((784,))),\n",
       " Inequality(Expression(AFFINE, UNKNOWN, (3,))),\n",
       " Inequality(Variable((3,), nonneg=True)),\n",
       " Inequality(Expression(AFFINE, UNKNOWN, (4,))),\n",
       " Inequality(Variable((4,), nonneg=True))]"
      ]
     },
     "execution_count": 721,
     "metadata": {},
     "output_type": "execute_result"
    }
   ],
   "source": [
    "g1 = u1[unstable1] / (u1[unstable1] - l1[unstable1])\n",
    "cons.append(xu2 <= cvx.multiply(g1, xa1 @ w1[np.ix_(active0, unstable1)] + xu1 @ w1[np.ix_(unstable0, unstable1)] + b1[unstable1] - l1[unstable1]))\n",
    "cons"
   ]
  },
  {
   "cell_type": "markdown",
   "metadata": {},
   "source": [
    "#### Logits"
   ]
  },
  {
   "cell_type": "code",
   "execution_count": 663,
   "metadata": {},
   "outputs": [],
   "source": [
    "z = cvx.Variable(10)"
   ]
  },
  {
   "cell_type": "code",
   "execution_count": 613,
   "metadata": {},
   "outputs": [],
   "source": [
    "cons = []"
   ]
  },
  {
   "cell_type": "code",
   "execution_count": 665,
   "metadata": {},
   "outputs": [
    {
     "data": {
      "text/plain": [
       "[Inequality(Constant(CONSTANT, NONNEGATIVE, (784,))),\n",
       " Inequality(Variable((784,))),\n",
       " Equality(Variable((6,)), Expression(AFFINE, UNKNOWN, (6,))),\n",
       " Inequality(Constant(CONSTANT, NONNEGATIVE, (6,))),\n",
       " Inequality(Variable((6,))),\n",
       " Inequality(Expression(AFFINE, UNKNOWN, (3,))),\n",
       " Inequality(Variable((3,), nonneg=True)),\n",
       " Equality(Variable((5,)), Expression(AFFINE, UNKNOWN, (5,))),\n",
       " Inequality(Constant(CONSTANT, NONNEGATIVE, (5,))),\n",
       " Inequality(Variable((5,))),\n",
       " Inequality(Expression(AFFINE, UNKNOWN, (4,))),\n",
       " Inequality(Variable((4,), nonneg=True)),\n",
       " Inequality(Constant(CONSTANT, UNKNOWN, (10,))),\n",
       " Inequality(Variable((10,)))]"
      ]
     },
     "execution_count": 665,
     "metadata": {},
     "output_type": "execute_result"
    }
   ],
   "source": [
    "cons += [z >= l2, z <= u2]\n",
    "cons"
   ]
  },
  {
   "cell_type": "code",
   "execution_count": 666,
   "metadata": {
    "scrolled": true
   },
   "outputs": [
    {
     "data": {
      "text/plain": [
       "[Inequality(Constant(CONSTANT, NONNEGATIVE, (784,))),\n",
       " Inequality(Variable((784,))),\n",
       " Equality(Variable((6,)), Expression(AFFINE, UNKNOWN, (6,))),\n",
       " Inequality(Constant(CONSTANT, NONNEGATIVE, (6,))),\n",
       " Inequality(Variable((6,))),\n",
       " Inequality(Expression(AFFINE, UNKNOWN, (3,))),\n",
       " Inequality(Variable((3,), nonneg=True)),\n",
       " Equality(Variable((5,)), Expression(AFFINE, UNKNOWN, (5,))),\n",
       " Inequality(Constant(CONSTANT, NONNEGATIVE, (5,))),\n",
       " Inequality(Variable((5,))),\n",
       " Inequality(Expression(AFFINE, UNKNOWN, (4,))),\n",
       " Inequality(Variable((4,), nonneg=True)),\n",
       " Inequality(Constant(CONSTANT, UNKNOWN, (10,))),\n",
       " Inequality(Variable((10,))),\n",
       " Equality(Variable((10,)), Expression(AFFINE, UNKNOWN, (10,)))]"
      ]
     },
     "execution_count": 666,
     "metadata": {},
     "output_type": "execute_result"
    }
   ],
   "source": [
    "cons.append(z == xa2 @ w2[active1, :] + xu2 @ w2[unstable1, :] + b2)\n",
    "cons"
   ]
  },
  {
   "cell_type": "markdown",
   "metadata": {},
   "source": [
    "#### Score function upper bound"
   ]
  },
  {
   "cell_type": "markdown",
   "metadata": {},
   "source": [
    "Negative log-likelihood, using LSE lower bound 1:"
   ]
  },
  {
   "cell_type": "code",
   "execution_count": 36,
   "metadata": {},
   "outputs": [],
   "source": [
    "score_ub = cvx.log(cvx.sum((cvx.multiply(np.exp(l2), u2 - z) + cvx.multiply(np.exp(u2), z - l2)) / (u2 - l2))) - z[yt[0]]"
   ]
  },
  {
   "cell_type": "markdown",
   "metadata": {},
   "source": [
    "#### Solve problem"
   ]
  },
  {
   "cell_type": "code",
   "execution_count": 371,
   "metadata": {},
   "outputs": [],
   "source": [
    "j = yt[0]\n",
    "obj = cvx.power(1 + cvx.sum((cvx.multiply(np.exp(diffs_l[j]), diffs_u[j] - diffs[j]) + cvx.multiply(np.exp(diffs_u[j]), diffs[j] - diffs_l[j])) / (diffs_u[j] - diffs_l[j])), -1)\n",
    "#obj = cvx.log(1 + cvx.sum((cvx.multiply(np.exp(diffs_l[j]), diffs_u[j] - diffs[j]) + cvx.multiply(np.exp(diffs_u[j]), diffs[j] - diffs_l[j])) / (diffs_u[j] - diffs_l[j])))\n",
    "#prob = cvx.Problem(cvx.Maximize(obj), cons)\n",
    "#prob = cvx.Problem(cvx.Minimize(obj), cons)\n",
    "bnds = []\n",
    "for j in [0, 3, 9]:\n",
    "    bnds.append(p[j] <= sm_l[j] + sm_u[j] - sm_l[j] * sm_u[j] * (1 + cvx.sum(cvx.exp(diffs[j]))) )\n",
    "prob = cvx.Problem(cvx.Minimize(p[yt[0]]), cons + [p[yt[0]] >= obj, cvx.sum(p) == 1] + bnds)"
   ]
  },
  {
   "cell_type": "markdown",
   "metadata": {},
   "source": [
    "## Scratch"
   ]
  },
  {
   "cell_type": "code",
   "execution_count": 85,
   "metadata": {},
   "outputs": [
    {
     "data": {
      "text/plain": [
       "0.9966685287667276"
      ]
     },
     "execution_count": 85,
     "metadata": {},
     "output_type": "execute_result"
    }
   ],
   "source": [
    "sm_l + sm_u - sm_l * sm_u * (1 + np.exp(z.value[others] - z.value[yt[0]]).sum())"
   ]
  },
  {
   "cell_type": "code",
   "execution_count": 86,
   "metadata": {},
   "outputs": [
    {
     "data": {
      "text/plain": [
       "0.9966673006736713"
      ]
     },
     "execution_count": 86,
     "metadata": {},
     "output_type": "execute_result"
    }
   ],
   "source": [
    "(lsm_u * sm_l - lsm_l * sm_u - (sm_u - sm_l) * (logsumexp(z.value) - z.value[yt[0]])) / (lsm_u - lsm_l)"
   ]
  },
  {
   "cell_type": "code",
   "execution_count": 212,
   "metadata": {},
   "outputs": [],
   "source": [
    "def eval_hybrid_l(X, l, u):\n",
    "    \"\"\"\n",
    "    Evaluate hybrid LSE-ER lower bound at points in X (shape (n, d))\n",
    "    \"\"\"\n",
    "    # Linear upper bound on sum of exponentials\n",
    "    a = (np.exp(u) - np.exp(l)) / (u - l)\n",
    "    b = ((u * np.exp(l) - l * np.exp(u)) / (u - l)).sum()\n",
    "    se_u = np.dot(X, a) + b\n",
    "    hybrid_l = np.exp(X[:, yt[0]]) / se_u\n",
    "    return hybrid_l\n"
   ]
  },
  {
   "cell_type": "code",
   "execution_count": 214,
   "metadata": {},
   "outputs": [
    {
     "data": {
      "text/plain": [
       "array([0.58342397])"
      ]
     },
     "execution_count": 214,
     "metadata": {},
     "output_type": "execute_result"
    }
   ],
   "source": [
    "-np.log(eval_hybrid_l(z.value[np.newaxis, :], l2, u2))"
   ]
  },
  {
   "cell_type": "code",
   "execution_count": 241,
   "metadata": {},
   "outputs": [],
   "source": [
    "prob = cvx.Problem(cvx.Minimize(z[7] - z[0]), cons)"
   ]
  },
  {
   "cell_type": "code",
   "execution_count": 242,
   "metadata": {},
   "outputs": [
    {
     "data": {
      "text/plain": [
       "8.720675386749766"
      ]
     },
     "execution_count": 242,
     "metadata": {},
     "output_type": "execute_result"
    }
   ],
   "source": [
    "prob.solve(solver='SCS')"
   ]
  },
  {
   "cell_type": "code",
   "execution_count": 244,
   "metadata": {},
   "outputs": [
    {
     "data": {
      "text/plain": [
       "(array([ -5.1751,  -6.4589,  -3.4669,  -2.0331,  -4.7503,  -4.8355,\n",
       "        -11.6982,   5.8715,  -6.908 ,  -1.0644]),\n",
       " array([-2.0966, -3.9739, -1.5482, -0.4229, -1.8881, -2.5569, -8.2361,\n",
       "         8.0983, -5.2155,  0.9379]))"
      ]
     },
     "execution_count": 244,
     "metadata": {},
     "output_type": "execute_result"
    }
   ],
   "source": [
    "l2, u2"
   ]
  },
  {
   "cell_type": "code",
   "execution_count": 245,
   "metadata": {},
   "outputs": [
    {
     "data": {
      "text/plain": [
       "array([-2.29431912, -5.31180294, -2.39607773, -1.14592626, -3.09482053,\n",
       "       -2.99467201, -9.1358624 ,  6.42635627, -5.42358417, -0.22449742])"
      ]
     },
     "execution_count": 245,
     "metadata": {},
     "output_type": "execute_result"
    }
   ],
   "source": [
    "z.value"
   ]
  },
  {
   "cell_type": "code",
   "execution_count": 247,
   "metadata": {},
   "outputs": [
    {
     "data": {
      "text/plain": [
       "array([3.80762831e-02, 6.93499081e-03, 9.45518951e-02, 3.25559019e-01,\n",
       "       4.98602537e-02, 3.05459673e-02, 7.41187851e-05, 1.31762686e+03,\n",
       "       2.61858885e-03, 1.10356907e+00])"
      ]
     },
     "execution_count": 247,
     "metadata": {},
     "output_type": "execute_result"
    }
   ],
   "source": [
    "a = (np.exp(u2) - np.exp(l2)) / (u2 - l2)\n",
    "a"
   ]
  },
  {
   "cell_type": "code",
   "execution_count": 249,
   "metadata": {},
   "outputs": [
    {
     "data": {
      "text/plain": [
       "-7378.323749876522"
      ]
     },
     "execution_count": 249,
     "metadata": {},
     "output_type": "execute_result"
    }
   ],
   "source": [
    "b = ((u2 * np.exp(l2) - l2 * np.exp(u2)) / (u2 - l2)).sum()\n",
    "b"
   ]
  },
  {
   "cell_type": "code",
   "execution_count": 251,
   "metadata": {},
   "outputs": [
    {
     "data": {
      "text/plain": [
       "1087.9836312842463"
      ]
     },
     "execution_count": 251,
     "metadata": {},
     "output_type": "execute_result"
    }
   ],
   "source": [
    "se_u = np.dot(z.value, a) + b\n",
    "se_u"
   ]
  },
  {
   "cell_type": "code",
   "execution_count": 252,
   "metadata": {},
   "outputs": [
    {
     "data": {
      "text/plain": [
       "617.9183117110357"
      ]
     },
     "execution_count": 252,
     "metadata": {},
     "output_type": "execute_result"
    }
   ],
   "source": [
    "np.exp(z.value[yt[0]])"
   ]
  },
  {
   "cell_type": "code",
   "execution_count": 258,
   "metadata": {},
   "outputs": [
    {
     "data": {
      "text/plain": [
       "array([0.99328834])"
      ]
     },
     "execution_count": 258,
     "metadata": {},
     "output_type": "execute_result"
    }
   ],
   "source": [
    "diffs_l = l2[np.arange(10)!=yt[0]] - u2[yt[0]]\n",
    "diffs_u = u2[np.arange(10)!=yt[0]] - l2[yt[0]]\n",
    "eval_ER_l(z.value[np.newaxis, :], diffs_l, diffs_u)"
   ]
  },
  {
   "cell_type": "code",
   "execution_count": 261,
   "metadata": {},
   "outputs": [
    {
     "data": {
      "text/plain": [
       "array([-12.5444, -14.0241, -10.9431,  -9.7428, -11.891 , -12.4112,\n",
       "       -19.1028, -14.6832,  -8.0356])"
      ]
     },
     "execution_count": 261,
     "metadata": {},
     "output_type": "execute_result"
    }
   ],
   "source": [
    "np.array(lbs[6])[63:72]"
   ]
  },
  {
   "cell_type": "code",
   "execution_count": 263,
   "metadata": {},
   "outputs": [
    {
     "data": {
      "text/plain": [
       "array([0.99679823])"
      ]
     },
     "execution_count": 263,
     "metadata": {},
     "output_type": "execute_result"
    }
   ],
   "source": [
    "eval_ER_l(z.value[np.newaxis, :], np.array(lbs[6])[63:72], np.array(ubs[6])[63:72])"
   ]
  },
  {
   "cell_type": "code",
   "execution_count": 273,
   "metadata": {},
   "outputs": [],
   "source": [
    "diffs_l = np.array(lbs[6])[63:72]\n",
    "diffs_u = np.array(ubs[6])[63:72]"
   ]
  },
  {
   "cell_type": "code",
   "execution_count": 274,
   "metadata": {},
   "outputs": [
    {
     "data": {
      "text/plain": [
       "(0.9958275057469839, 0.9995843211162739)"
      ]
     },
     "execution_count": 274,
     "metadata": {},
     "output_type": "execute_result"
    }
   ],
   "source": [
    "sm_l = 1 / (1 + np.exp(diffs_u).sum())\n",
    "sm_u = 1 / (1 + np.exp(diffs_l).sum())\n",
    "sm_l, sm_u"
   ]
  },
  {
   "cell_type": "code",
   "execution_count": 280,
   "metadata": {},
   "outputs": [
    {
     "data": {
      "text/plain": [
       "(-0.004181223397159428, -0.000415765302142292)"
      ]
     },
     "execution_count": 280,
     "metadata": {},
     "output_type": "execute_result"
    }
   ],
   "source": [
    "lsm_l = np.log(sm_l)\n",
    "lsm_u = np.log(sm_u)\n",
    "lsm_l, lsm_u"
   ]
  },
  {
   "cell_type": "code",
   "execution_count": 275,
   "metadata": {},
   "outputs": [
    {
     "data": {
      "text/plain": [
       "(-7.78518174460023, -5.475060056379923)"
      ]
     },
     "execution_count": 275,
     "metadata": {},
     "output_type": "execute_result"
    }
   ],
   "source": [
    "from scipy.special import logsumexp\n",
    "lse_l = logsumexp(diffs_l)\n",
    "lse_u = logsumexp(diffs_u)\n",
    "lse_l, lse_u"
   ]
  },
  {
   "cell_type": "code",
   "execution_count": 276,
   "metadata": {},
   "outputs": [
    {
     "name": "stdout",
     "output_type": "stream",
     "text": [
      "[-12.5444 -14.0241 -10.9431  -9.7428 -11.891  -12.4112 -19.1028 -14.6832\n",
      "  -8.0356]\n",
      "[ -8.72067539 -11.73815921  -8.82243399  -7.57228252  -9.5211768\n",
      "  -9.42102828 -15.56221867 -11.84994043  -6.65085369]\n",
      "[ -8.7134 -10.4332  -8.1062  -6.7326  -8.7978  -8.9615 -14.8448 -11.3933\n",
      "  -6.1138]\n"
     ]
    }
   ],
   "source": [
    "diffs = z.value[np.arange(10)!=yt[0]] - z.value[yt[0]]\n",
    "print(diffs_l)\n",
    "print(diffs)\n",
    "print(diffs_u)"
   ]
  },
  {
   "cell_type": "code",
   "execution_count": 272,
   "metadata": {},
   "outputs": [
    {
     "data": {
      "text/plain": [
       "-6.080259301010307"
      ]
     },
     "execution_count": 272,
     "metadata": {},
     "output_type": "execute_result"
    }
   ],
   "source": [
    "logsumexp(diffs)"
   ]
  },
  {
   "cell_type": "code",
   "execution_count": 277,
   "metadata": {},
   "outputs": [
    {
     "data": {
      "text/plain": [
       "-5.740845292030437"
      ]
     },
     "execution_count": 277,
     "metadata": {},
     "output_type": "execute_result"
    }
   ],
   "source": [
    "a = (np.exp(diffs_u) - np.exp(diffs_l)) / (diffs_u - diffs_l)\n",
    "b = ((diffs_u * np.exp(diffs_l) - diffs_l * np.exp(diffs_u)) / (diffs_u - diffs_l)).sum()\n",
    "np.log(np.dot(diffs, a) + b)"
   ]
  },
  {
   "cell_type": "code",
   "execution_count": 281,
   "metadata": {},
   "outputs": [
    {
     "data": {
      "text/plain": [
       "0.996259016883389"
      ]
     },
     "execution_count": 281,
     "metadata": {},
     "output_type": "execute_result"
    }
   ],
   "source": [
    "np.exp((lse_u * lsm_u - lse_l * lsm_l - (lsm_u - lsm_l) * np.log(np.dot(diffs, a) + b)) / (lse_u - lse_l))"
   ]
  },
  {
   "cell_type": "code",
   "execution_count": 282,
   "metadata": {},
   "outputs": [
    {
     "data": {
      "text/plain": [
       "0.9967982322390713"
      ]
     },
     "execution_count": 282,
     "metadata": {},
     "output_type": "execute_result"
    }
   ],
   "source": [
    "1 / (1 + np.dot(diffs, a) + b)"
   ]
  },
  {
   "cell_type": "code",
   "execution_count": 284,
   "metadata": {},
   "outputs": [
    {
     "data": {
      "text/plain": [
       "0.002284970867912273"
      ]
     },
     "execution_count": 284,
     "metadata": {},
     "output_type": "execute_result"
    }
   ],
   "source": [
    "np.log(1 + np.exp(logsumexp(diffs)))"
   ]
  },
  {
   "cell_type": "code",
   "execution_count": 285,
   "metadata": {},
   "outputs": [
    {
     "data": {
      "text/plain": [
       "0.003206904386444612"
      ]
     },
     "execution_count": 285,
     "metadata": {},
     "output_type": "execute_result"
    }
   ],
   "source": [
    "np.log(1 + np.dot(diffs, a) + b)"
   ]
  },
  {
   "cell_type": "code",
   "execution_count": 286,
   "metadata": {},
   "outputs": [
    {
     "data": {
      "text/plain": [
       "-0.0037479980946918"
      ]
     },
     "execution_count": 286,
     "metadata": {},
     "output_type": "execute_result"
    }
   ],
   "source": [
    "(lse_u * lsm_u - lse_l * lsm_l - (lsm_u - lsm_l) * np.log(np.dot(diffs, a) + b)) / (lse_u - lse_l)"
   ]
  },
  {
   "cell_type": "code",
   "execution_count": 287,
   "metadata": {},
   "outputs": [
    {
     "data": {
      "text/plain": [
       "0.00228758340332274"
      ]
     },
     "execution_count": 287,
     "metadata": {},
     "output_type": "execute_result"
    }
   ],
   "source": [
    "np.exp(logsumexp(diffs))"
   ]
  },
  {
   "cell_type": "code",
   "execution_count": 288,
   "metadata": {
    "scrolled": true
   },
   "outputs": [
    {
     "data": {
      "text/plain": [
       "0.0032120520054864012"
      ]
     },
     "execution_count": 288,
     "metadata": {},
     "output_type": "execute_result"
    }
   ],
   "source": [
    "np.dot(diffs, a) + b"
   ]
  },
  {
   "cell_type": "code",
   "execution_count": null,
   "metadata": {},
   "outputs": [],
   "source": []
  }
 ],
 "metadata": {
  "kernelspec": {
   "display_name": "Python 3",
   "language": "python",
   "name": "python3"
  },
  "language_info": {
   "codemirror_mode": {
    "name": "ipython",
    "version": 3
   },
   "file_extension": ".py",
   "mimetype": "text/x-python",
   "name": "python",
   "nbconvert_exporter": "python",
   "pygments_lexer": "ipython3",
   "version": "3.7.1"
  }
 },
 "nbformat": 4,
 "nbformat_minor": 2
}
